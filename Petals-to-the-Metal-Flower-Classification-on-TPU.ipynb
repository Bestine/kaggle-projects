{
 "cells": [
  {
   "cell_type": "code",
   "execution_count": 1,
   "id": "d506b737",
   "metadata": {
    "_cell_guid": "b1076dfc-b9ad-4769-8c92-a6c4dae69d19",
    "_uuid": "8f2839f25d086af736a60e9eeb907d3b93b6e0e5",
    "execution": {
     "iopub.execute_input": "2023-08-09T08:17:51.146235Z",
     "iopub.status.busy": "2023-08-09T08:17:51.145761Z",
     "iopub.status.idle": "2023-08-09T08:17:51.265859Z",
     "shell.execute_reply": "2023-08-09T08:17:51.264827Z"
    },
    "papermill": {
     "duration": 0.130463,
     "end_time": "2023-08-09T08:17:51.268504",
     "exception": false,
     "start_time": "2023-08-09T08:17:51.138041",
     "status": "completed"
    },
    "tags": []
   },
   "outputs": [],
   "source": [
    "# This Python 3 environment comes with many helpful analytics libraries installed\n",
    "# It is defined by the kaggle/python Docker image: https://github.com/kaggle/docker-python\n",
    "# For example, here's several helpful packages to load\n",
    "\n",
    "import numpy as np # linear algebra\n",
    "import pandas as pd # data processing, CSV file I/O (e.g. pd.read_csv)\n",
    "\n",
    "# Input data files are available in the read-only \"../input/\" directory\n",
    "# For example, running this (by clicking run or pressing Shift+Enter) will list all files under the input directory\n",
    "\n",
    "import os\n",
    "for dirname, _, filenames in os.walk('/kaggle/input'):\n",
    "    for filename in filenames:\n",
    "        # print(os.path.join(dirname, filename))\n",
    "        pass\n",
    "\n",
    "# You can write up to 20GB to the current directory (/kaggle/working/) that gets preserved as output when you create a version using \"Save & Run All\" \n",
    "# You can also write temporary files to /kaggle/temp/, but they won't be saved outside of the current session"
   ]
  },
  {
   "cell_type": "markdown",
   "id": "8adfa713",
   "metadata": {
    "papermill": {
     "duration": 0.00452,
     "end_time": "2023-08-09T08:17:51.278020",
     "exception": false,
     "start_time": "2023-08-09T08:17:51.273500",
     "status": "completed"
    },
    "tags": []
   },
   "source": [
    "**Load the libraries and data**"
   ]
  },
  {
   "cell_type": "code",
   "execution_count": 2,
   "id": "c1aa205b",
   "metadata": {
    "execution": {
     "iopub.execute_input": "2023-08-09T08:17:51.289824Z",
     "iopub.status.busy": "2023-08-09T08:17:51.288879Z",
     "iopub.status.idle": "2023-08-09T08:17:53.207721Z",
     "shell.execute_reply": "2023-08-09T08:17:53.206686Z"
    },
    "papermill": {
     "duration": 1.927418,
     "end_time": "2023-08-09T08:17:53.210237",
     "exception": false,
     "start_time": "2023-08-09T08:17:51.282819",
     "status": "completed"
    },
    "tags": []
   },
   "outputs": [
    {
     "name": "stderr",
     "output_type": "stream",
     "text": [
      "/opt/conda/lib/python3.10/site-packages/scipy/__init__.py:146: UserWarning: A NumPy version >=1.16.5 and <1.23.0 is required for this version of SciPy (detected version 1.23.5\n",
      "  warnings.warn(f\"A NumPy version >={np_minversion} and <{np_maxversion}\"\n"
     ]
    }
   ],
   "source": [
    "# Load the required libraries\n",
    "import pandas as pd\n",
    "import numpy as np\n",
    "from matplotlib import pyplot as plt\n",
    "import seaborn as sns"
   ]
  },
  {
   "cell_type": "code",
   "execution_count": 3,
   "id": "1b80f706",
   "metadata": {
    "execution": {
     "iopub.execute_input": "2023-08-09T08:17:53.221422Z",
     "iopub.status.busy": "2023-08-09T08:17:53.221109Z",
     "iopub.status.idle": "2023-08-09T08:17:53.259960Z",
     "shell.execute_reply": "2023-08-09T08:17:53.258891Z"
    },
    "papermill": {
     "duration": 0.047369,
     "end_time": "2023-08-09T08:17:53.262608",
     "exception": false,
     "start_time": "2023-08-09T08:17:53.215239",
     "status": "completed"
    },
    "tags": []
   },
   "outputs": [
    {
     "data": {
      "text/html": [
       "<div>\n",
       "<style scoped>\n",
       "    .dataframe tbody tr th:only-of-type {\n",
       "        vertical-align: middle;\n",
       "    }\n",
       "\n",
       "    .dataframe tbody tr th {\n",
       "        vertical-align: top;\n",
       "    }\n",
       "\n",
       "    .dataframe thead th {\n",
       "        text-align: right;\n",
       "    }\n",
       "</style>\n",
       "<table border=\"1\" class=\"dataframe\">\n",
       "  <thead>\n",
       "    <tr style=\"text-align: right;\">\n",
       "      <th></th>\n",
       "      <th>id</th>\n",
       "      <th>label</th>\n",
       "    </tr>\n",
       "  </thead>\n",
       "  <tbody>\n",
       "    <tr>\n",
       "      <th>0</th>\n",
       "      <td>b48c962e0</td>\n",
       "      <td>0</td>\n",
       "    </tr>\n",
       "    <tr>\n",
       "      <th>1</th>\n",
       "      <td>a13d3dfa4</td>\n",
       "      <td>0</td>\n",
       "    </tr>\n",
       "    <tr>\n",
       "      <th>2</th>\n",
       "      <td>94269c190</td>\n",
       "      <td>0</td>\n",
       "    </tr>\n",
       "    <tr>\n",
       "      <th>3</th>\n",
       "      <td>bcb18c6e4</td>\n",
       "      <td>0</td>\n",
       "    </tr>\n",
       "    <tr>\n",
       "      <th>4</th>\n",
       "      <td>d15a4d94c</td>\n",
       "      <td>0</td>\n",
       "    </tr>\n",
       "  </tbody>\n",
       "</table>\n",
       "</div>"
      ],
      "text/plain": [
       "          id  label\n",
       "0  b48c962e0      0\n",
       "1  a13d3dfa4      0\n",
       "2  94269c190      0\n",
       "3  bcb18c6e4      0\n",
       "4  d15a4d94c      0"
      ]
     },
     "execution_count": 3,
     "metadata": {},
     "output_type": "execute_result"
    }
   ],
   "source": [
    "# Load the required dataset\n",
    "\n",
    "sample_submission = pd.read_csv(\"/kaggle/input/tpu-getting-started/sample_submission.csv\")\n",
    "sample_submission.head()"
   ]
  },
  {
   "cell_type": "markdown",
   "id": "44fb0c20",
   "metadata": {
    "papermill": {
     "duration": 0.004947,
     "end_time": "2023-08-09T08:17:53.272804",
     "exception": false,
     "start_time": "2023-08-09T08:17:53.267857",
     "status": "completed"
    },
    "tags": []
   },
   "source": [
    "# Explanatory Data Analysis\n",
    "## Data Inspection"
   ]
  },
  {
   "cell_type": "code",
   "execution_count": null,
   "id": "17c1c428",
   "metadata": {
    "papermill": {
     "duration": 0.004924,
     "end_time": "2023-08-09T08:17:53.282767",
     "exception": false,
     "start_time": "2023-08-09T08:17:53.277843",
     "status": "completed"
    },
    "tags": []
   },
   "outputs": [],
   "source": []
  },
  {
   "cell_type": "markdown",
   "id": "200dd99a",
   "metadata": {
    "papermill": {
     "duration": 0.004861,
     "end_time": "2023-08-09T08:17:53.293021",
     "exception": false,
     "start_time": "2023-08-09T08:17:53.288160",
     "status": "completed"
    },
    "tags": []
   },
   "source": [
    "## Data Wrangling"
   ]
  },
  {
   "cell_type": "code",
   "execution_count": null,
   "id": "100add04",
   "metadata": {
    "papermill": {
     "duration": 0.005189,
     "end_time": "2023-08-09T08:17:53.303250",
     "exception": false,
     "start_time": "2023-08-09T08:17:53.298061",
     "status": "completed"
    },
    "tags": []
   },
   "outputs": [],
   "source": [
    "\n"
   ]
  },
  {
   "cell_type": "code",
   "execution_count": null,
   "id": "d47a4caa",
   "metadata": {
    "papermill": {
     "duration": 0.004747,
     "end_time": "2023-08-09T08:17:53.313068",
     "exception": false,
     "start_time": "2023-08-09T08:17:53.308321",
     "status": "completed"
    },
    "tags": []
   },
   "outputs": [],
   "source": []
  },
  {
   "cell_type": "markdown",
   "id": "0ec26140",
   "metadata": {
    "papermill": {
     "duration": 0.004905,
     "end_time": "2023-08-09T08:17:53.322805",
     "exception": false,
     "start_time": "2023-08-09T08:17:53.317900",
     "status": "completed"
    },
    "tags": []
   },
   "source": [
    "## Data Analysis and Visualizations"
   ]
  },
  {
   "cell_type": "code",
   "execution_count": null,
   "id": "4caa08e3",
   "metadata": {
    "papermill": {
     "duration": 0.004976,
     "end_time": "2023-08-09T08:17:53.332896",
     "exception": false,
     "start_time": "2023-08-09T08:17:53.327920",
     "status": "completed"
    },
    "tags": []
   },
   "outputs": [],
   "source": []
  },
  {
   "cell_type": "code",
   "execution_count": null,
   "id": "5fa2f104",
   "metadata": {
    "papermill": {
     "duration": 0.004911,
     "end_time": "2023-08-09T08:17:53.343064",
     "exception": false,
     "start_time": "2023-08-09T08:17:53.338153",
     "status": "completed"
    },
    "tags": []
   },
   "outputs": [],
   "source": []
  },
  {
   "cell_type": "markdown",
   "id": "a5c4eb7d",
   "metadata": {
    "papermill": {
     "duration": 0.004842,
     "end_time": "2023-08-09T08:17:53.353142",
     "exception": false,
     "start_time": "2023-08-09T08:17:53.348300",
     "status": "completed"
    },
    "tags": []
   },
   "source": [
    "# Machine Learning\n",
    "## Data Preprocessing"
   ]
  },
  {
   "cell_type": "code",
   "execution_count": null,
   "id": "443afce7",
   "metadata": {
    "papermill": {
     "duration": 0.004909,
     "end_time": "2023-08-09T08:17:53.363147",
     "exception": false,
     "start_time": "2023-08-09T08:17:53.358238",
     "status": "completed"
    },
    "tags": []
   },
   "outputs": [],
   "source": []
  },
  {
   "cell_type": "markdown",
   "id": "0d27f687",
   "metadata": {
    "papermill": {
     "duration": 0.005102,
     "end_time": "2023-08-09T08:17:53.373553",
     "exception": false,
     "start_time": "2023-08-09T08:17:53.368451",
     "status": "completed"
    },
    "tags": []
   },
   "source": [
    "## Models\n",
    "### $1^{st}$ CNN Model"
   ]
  },
  {
   "cell_type": "code",
   "execution_count": null,
   "id": "3cd1f20b",
   "metadata": {
    "papermill": {
     "duration": 0.005162,
     "end_time": "2023-08-09T08:17:53.384094",
     "exception": false,
     "start_time": "2023-08-09T08:17:53.378932",
     "status": "completed"
    },
    "tags": []
   },
   "outputs": [],
   "source": []
  },
  {
   "cell_type": "markdown",
   "id": "c3b7ff05",
   "metadata": {
    "papermill": {
     "duration": 0.004889,
     "end_time": "2023-08-09T08:17:53.394313",
     "exception": false,
     "start_time": "2023-08-09T08:17:53.389424",
     "status": "completed"
    },
    "tags": []
   },
   "source": [
    "### $2^{nd}$ CNN Model"
   ]
  },
  {
   "cell_type": "code",
   "execution_count": null,
   "id": "b2dd39a8",
   "metadata": {
    "papermill": {
     "duration": 0.005391,
     "end_time": "2023-08-09T08:17:53.404956",
     "exception": false,
     "start_time": "2023-08-09T08:17:53.399565",
     "status": "completed"
    },
    "tags": []
   },
   "outputs": [],
   "source": []
  },
  {
   "cell_type": "markdown",
   "id": "8e4a79f9",
   "metadata": {
    "papermill": {
     "duration": 0.004968,
     "end_time": "2023-08-09T08:17:53.415107",
     "exception": false,
     "start_time": "2023-08-09T08:17:53.410139",
     "status": "completed"
    },
    "tags": []
   },
   "source": [
    "### $3^{rd}$ CNN Model"
   ]
  },
  {
   "cell_type": "code",
   "execution_count": null,
   "id": "36da2fc0",
   "metadata": {
    "papermill": {
     "duration": 0.004944,
     "end_time": "2023-08-09T08:17:53.425281",
     "exception": false,
     "start_time": "2023-08-09T08:17:53.420337",
     "status": "completed"
    },
    "tags": []
   },
   "outputs": [],
   "source": []
  }
 ],
 "metadata": {
  "kernelspec": {
   "display_name": "Python 3",
   "language": "python",
   "name": "python3"
  },
  "language_info": {
   "codemirror_mode": {
    "name": "ipython",
    "version": 3
   },
   "file_extension": ".py",
   "mimetype": "text/x-python",
   "name": "python",
   "nbconvert_exporter": "python",
   "pygments_lexer": "ipython3",
   "version": "3.10.12"
  },
  "papermill": {
   "default_parameters": {},
   "duration": 17.053958,
   "end_time": "2023-08-09T08:17:54.150709",
   "environment_variables": {},
   "exception": null,
   "input_path": "__notebook__.ipynb",
   "output_path": "__notebook__.ipynb",
   "parameters": {},
   "start_time": "2023-08-09T08:17:37.096751",
   "version": "2.4.0"
  }
 },
 "nbformat": 4,
 "nbformat_minor": 5
}

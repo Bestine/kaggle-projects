{
 "cells": [
  {
   "cell_type": "code",
   "execution_count": 1,
   "id": "31d3a53b",
   "metadata": {
    "_cell_guid": "b1076dfc-b9ad-4769-8c92-a6c4dae69d19",
    "_uuid": "8f2839f25d086af736a60e9eeb907d3b93b6e0e5",
    "execution": {
     "iopub.execute_input": "2024-03-12T11:33:10.442017Z",
     "iopub.status.busy": "2024-03-12T11:33:10.441608Z",
     "iopub.status.idle": "2024-03-12T11:33:20.482382Z",
     "shell.execute_reply": "2024-03-12T11:33:20.481443Z"
    },
    "papermill": {
     "duration": 10.055494,
     "end_time": "2024-03-12T11:33:20.484727",
     "exception": false,
     "start_time": "2024-03-12T11:33:10.429233",
     "status": "completed"
    },
    "tags": []
   },
   "outputs": [
    {
     "data": {
      "text/html": [
       "<div>\n",
       "<style scoped>\n",
       "    .dataframe tbody tr th:only-of-type {\n",
       "        vertical-align: middle;\n",
       "    }\n",
       "\n",
       "    .dataframe tbody tr th {\n",
       "        vertical-align: top;\n",
       "    }\n",
       "\n",
       "    .dataframe thead th {\n",
       "        text-align: right;\n",
       "    }\n",
       "</style>\n",
       "<table border=\"1\" class=\"dataframe\">\n",
       "  <thead>\n",
       "    <tr style=\"text-align: right;\">\n",
       "      <th></th>\n",
       "      <th>tweet_id</th>\n",
       "      <th>author_id</th>\n",
       "      <th>inbound</th>\n",
       "      <th>created_at</th>\n",
       "      <th>text</th>\n",
       "      <th>response_tweet_id</th>\n",
       "      <th>in_response_to_tweet_id</th>\n",
       "    </tr>\n",
       "  </thead>\n",
       "  <tbody>\n",
       "    <tr>\n",
       "      <th>0</th>\n",
       "      <td>1</td>\n",
       "      <td>sprintcare</td>\n",
       "      <td>False</td>\n",
       "      <td>Tue Oct 31 22:10:47 +0000 2017</td>\n",
       "      <td>@115712 I understand. I would like to assist y...</td>\n",
       "      <td>2</td>\n",
       "      <td>3.0</td>\n",
       "    </tr>\n",
       "    <tr>\n",
       "      <th>1</th>\n",
       "      <td>2</td>\n",
       "      <td>115712</td>\n",
       "      <td>True</td>\n",
       "      <td>Tue Oct 31 22:11:45 +0000 2017</td>\n",
       "      <td>@sprintcare and how do you propose we do that</td>\n",
       "      <td>NaN</td>\n",
       "      <td>1.0</td>\n",
       "    </tr>\n",
       "    <tr>\n",
       "      <th>2</th>\n",
       "      <td>3</td>\n",
       "      <td>115712</td>\n",
       "      <td>True</td>\n",
       "      <td>Tue Oct 31 22:08:27 +0000 2017</td>\n",
       "      <td>@sprintcare I have sent several private messag...</td>\n",
       "      <td>1</td>\n",
       "      <td>4.0</td>\n",
       "    </tr>\n",
       "    <tr>\n",
       "      <th>3</th>\n",
       "      <td>4</td>\n",
       "      <td>sprintcare</td>\n",
       "      <td>False</td>\n",
       "      <td>Tue Oct 31 21:54:49 +0000 2017</td>\n",
       "      <td>@115712 Please send us a Private Message so th...</td>\n",
       "      <td>3</td>\n",
       "      <td>5.0</td>\n",
       "    </tr>\n",
       "    <tr>\n",
       "      <th>4</th>\n",
       "      <td>5</td>\n",
       "      <td>115712</td>\n",
       "      <td>True</td>\n",
       "      <td>Tue Oct 31 21:49:35 +0000 2017</td>\n",
       "      <td>@sprintcare I did.</td>\n",
       "      <td>4</td>\n",
       "      <td>6.0</td>\n",
       "    </tr>\n",
       "  </tbody>\n",
       "</table>\n",
       "</div>"
      ],
      "text/plain": [
       "   tweet_id   author_id  inbound                      created_at  \\\n",
       "0         1  sprintcare    False  Tue Oct 31 22:10:47 +0000 2017   \n",
       "1         2      115712     True  Tue Oct 31 22:11:45 +0000 2017   \n",
       "2         3      115712     True  Tue Oct 31 22:08:27 +0000 2017   \n",
       "3         4  sprintcare    False  Tue Oct 31 21:54:49 +0000 2017   \n",
       "4         5      115712     True  Tue Oct 31 21:49:35 +0000 2017   \n",
       "\n",
       "                                                text response_tweet_id  \\\n",
       "0  @115712 I understand. I would like to assist y...                 2   \n",
       "1      @sprintcare and how do you propose we do that               NaN   \n",
       "2  @sprintcare I have sent several private messag...                 1   \n",
       "3  @115712 Please send us a Private Message so th...                 3   \n",
       "4                                 @sprintcare I did.                 4   \n",
       "\n",
       "   in_response_to_tweet_id  \n",
       "0                      3.0  \n",
       "1                      1.0  \n",
       "2                      4.0  \n",
       "3                      5.0  \n",
       "4                      6.0  "
      ]
     },
     "execution_count": 1,
     "metadata": {},
     "output_type": "execute_result"
    }
   ],
   "source": [
    "import re\n",
    "import nltk\n",
    "import spacy\n",
    "import string\n",
    "import numpy as np\n",
    "import pandas as pd\n",
    "\n",
    "pd.options.mode.chained_assignment = None\n",
    "\n",
    "full_data = pd.read_csv(\"../input/customer-support-on-twitter/twcs/twcs.csv\", nrows=5000)\n",
    "df = full_data[[\"text\"]]\n",
    "df[\"text\"] = df[\"text\"].astype(str)\n",
    "full_data.head()"
   ]
  },
  {
   "cell_type": "markdown",
   "id": "94578d78",
   "metadata": {
    "papermill": {
     "duration": 0.009045,
     "end_time": "2024-03-12T11:33:20.503555",
     "exception": false,
     "start_time": "2024-03-12T11:33:20.494510",
     "status": "completed"
    },
    "tags": []
   },
   "source": [
    "# Upper Casing"
   ]
  },
  {
   "cell_type": "code",
   "execution_count": 2,
   "id": "1d94b246",
   "metadata": {
    "execution": {
     "iopub.execute_input": "2024-03-12T11:33:20.524875Z",
     "iopub.status.busy": "2024-03-12T11:33:20.524164Z",
     "iopub.status.idle": "2024-03-12T11:33:20.541764Z",
     "shell.execute_reply": "2024-03-12T11:33:20.540259Z"
    },
    "papermill": {
     "duration": 0.031144,
     "end_time": "2024-03-12T11:33:20.544302",
     "exception": false,
     "start_time": "2024-03-12T11:33:20.513158",
     "status": "completed"
    },
    "tags": []
   },
   "outputs": [
    {
     "data": {
      "text/html": [
       "<div>\n",
       "<style scoped>\n",
       "    .dataframe tbody tr th:only-of-type {\n",
       "        vertical-align: middle;\n",
       "    }\n",
       "\n",
       "    .dataframe tbody tr th {\n",
       "        vertical-align: top;\n",
       "    }\n",
       "\n",
       "    .dataframe thead th {\n",
       "        text-align: right;\n",
       "    }\n",
       "</style>\n",
       "<table border=\"1\" class=\"dataframe\">\n",
       "  <thead>\n",
       "    <tr style=\"text-align: right;\">\n",
       "      <th></th>\n",
       "      <th>text</th>\n",
       "      <th>upper_text</th>\n",
       "    </tr>\n",
       "  </thead>\n",
       "  <tbody>\n",
       "    <tr>\n",
       "      <th>0</th>\n",
       "      <td>@115712 I understand. I would like to assist y...</td>\n",
       "      <td>@115712 I UNDERSTAND. I WOULD LIKE TO ASSIST Y...</td>\n",
       "    </tr>\n",
       "    <tr>\n",
       "      <th>1</th>\n",
       "      <td>@sprintcare and how do you propose we do that</td>\n",
       "      <td>@SPRINTCARE AND HOW DO YOU PROPOSE WE DO THAT</td>\n",
       "    </tr>\n",
       "    <tr>\n",
       "      <th>2</th>\n",
       "      <td>@sprintcare I have sent several private messag...</td>\n",
       "      <td>@SPRINTCARE I HAVE SENT SEVERAL PRIVATE MESSAG...</td>\n",
       "    </tr>\n",
       "    <tr>\n",
       "      <th>3</th>\n",
       "      <td>@115712 Please send us a Private Message so th...</td>\n",
       "      <td>@115712 PLEASE SEND US A PRIVATE MESSAGE SO TH...</td>\n",
       "    </tr>\n",
       "    <tr>\n",
       "      <th>4</th>\n",
       "      <td>@sprintcare I did.</td>\n",
       "      <td>@SPRINTCARE I DID.</td>\n",
       "    </tr>\n",
       "  </tbody>\n",
       "</table>\n",
       "</div>"
      ],
      "text/plain": [
       "                                                text  \\\n",
       "0  @115712 I understand. I would like to assist y...   \n",
       "1      @sprintcare and how do you propose we do that   \n",
       "2  @sprintcare I have sent several private messag...   \n",
       "3  @115712 Please send us a Private Message so th...   \n",
       "4                                 @sprintcare I did.   \n",
       "\n",
       "                                          upper_text  \n",
       "0  @115712 I UNDERSTAND. I WOULD LIKE TO ASSIST Y...  \n",
       "1      @SPRINTCARE AND HOW DO YOU PROPOSE WE DO THAT  \n",
       "2  @SPRINTCARE I HAVE SENT SEVERAL PRIVATE MESSAG...  \n",
       "3  @115712 PLEASE SEND US A PRIVATE MESSAGE SO TH...  \n",
       "4                                 @SPRINTCARE I DID.  "
      ]
     },
     "execution_count": 2,
     "metadata": {},
     "output_type": "execute_result"
    }
   ],
   "source": [
    "df[\"upper_text\"] = df[\"text\"].str.upper()\n",
    "df.head()"
   ]
  },
  {
   "cell_type": "markdown",
   "id": "055209ac",
   "metadata": {
    "papermill": {
     "duration": 0.009751,
     "end_time": "2024-03-12T11:33:20.563833",
     "exception": false,
     "start_time": "2024-03-12T11:33:20.554082",
     "status": "completed"
    },
    "tags": []
   },
   "source": [
    "# Lower Casing"
   ]
  },
  {
   "cell_type": "code",
   "execution_count": 3,
   "id": "fe1a4440",
   "metadata": {
    "execution": {
     "iopub.execute_input": "2024-03-12T11:33:20.585254Z",
     "iopub.status.busy": "2024-03-12T11:33:20.584862Z",
     "iopub.status.idle": "2024-03-12T11:33:20.601905Z",
     "shell.execute_reply": "2024-03-12T11:33:20.600593Z"
    },
    "papermill": {
     "duration": 0.030315,
     "end_time": "2024-03-12T11:33:20.604181",
     "exception": false,
     "start_time": "2024-03-12T11:33:20.573866",
     "status": "completed"
    },
    "tags": []
   },
   "outputs": [
    {
     "data": {
      "text/html": [
       "<div>\n",
       "<style scoped>\n",
       "    .dataframe tbody tr th:only-of-type {\n",
       "        vertical-align: middle;\n",
       "    }\n",
       "\n",
       "    .dataframe tbody tr th {\n",
       "        vertical-align: top;\n",
       "    }\n",
       "\n",
       "    .dataframe thead th {\n",
       "        text-align: right;\n",
       "    }\n",
       "</style>\n",
       "<table border=\"1\" class=\"dataframe\">\n",
       "  <thead>\n",
       "    <tr style=\"text-align: right;\">\n",
       "      <th></th>\n",
       "      <th>text</th>\n",
       "      <th>upper_text</th>\n",
       "      <th>lower_text</th>\n",
       "    </tr>\n",
       "  </thead>\n",
       "  <tbody>\n",
       "    <tr>\n",
       "      <th>0</th>\n",
       "      <td>@115712 I understand. I would like to assist y...</td>\n",
       "      <td>@115712 I UNDERSTAND. I WOULD LIKE TO ASSIST Y...</td>\n",
       "      <td>@115712 i understand. i would like to assist y...</td>\n",
       "    </tr>\n",
       "    <tr>\n",
       "      <th>1</th>\n",
       "      <td>@sprintcare and how do you propose we do that</td>\n",
       "      <td>@SPRINTCARE AND HOW DO YOU PROPOSE WE DO THAT</td>\n",
       "      <td>@sprintcare and how do you propose we do that</td>\n",
       "    </tr>\n",
       "    <tr>\n",
       "      <th>2</th>\n",
       "      <td>@sprintcare I have sent several private messag...</td>\n",
       "      <td>@SPRINTCARE I HAVE SENT SEVERAL PRIVATE MESSAG...</td>\n",
       "      <td>@sprintcare i have sent several private messag...</td>\n",
       "    </tr>\n",
       "    <tr>\n",
       "      <th>3</th>\n",
       "      <td>@115712 Please send us a Private Message so th...</td>\n",
       "      <td>@115712 PLEASE SEND US A PRIVATE MESSAGE SO TH...</td>\n",
       "      <td>@115712 please send us a private message so th...</td>\n",
       "    </tr>\n",
       "    <tr>\n",
       "      <th>4</th>\n",
       "      <td>@sprintcare I did.</td>\n",
       "      <td>@SPRINTCARE I DID.</td>\n",
       "      <td>@sprintcare i did.</td>\n",
       "    </tr>\n",
       "  </tbody>\n",
       "</table>\n",
       "</div>"
      ],
      "text/plain": [
       "                                                text  \\\n",
       "0  @115712 I understand. I would like to assist y...   \n",
       "1      @sprintcare and how do you propose we do that   \n",
       "2  @sprintcare I have sent several private messag...   \n",
       "3  @115712 Please send us a Private Message so th...   \n",
       "4                                 @sprintcare I did.   \n",
       "\n",
       "                                          upper_text  \\\n",
       "0  @115712 I UNDERSTAND. I WOULD LIKE TO ASSIST Y...   \n",
       "1      @SPRINTCARE AND HOW DO YOU PROPOSE WE DO THAT   \n",
       "2  @SPRINTCARE I HAVE SENT SEVERAL PRIVATE MESSAG...   \n",
       "3  @115712 PLEASE SEND US A PRIVATE MESSAGE SO TH...   \n",
       "4                                 @SPRINTCARE I DID.   \n",
       "\n",
       "                                          lower_text  \n",
       "0  @115712 i understand. i would like to assist y...  \n",
       "1      @sprintcare and how do you propose we do that  \n",
       "2  @sprintcare i have sent several private messag...  \n",
       "3  @115712 please send us a private message so th...  \n",
       "4                                 @sprintcare i did.  "
      ]
     },
     "execution_count": 3,
     "metadata": {},
     "output_type": "execute_result"
    }
   ],
   "source": [
    "df[\"lower_text\"] = df[\"text\"].str.lower()\n",
    "df.head()"
   ]
  },
  {
   "cell_type": "markdown",
   "id": "28fc3c85",
   "metadata": {
    "papermill": {
     "duration": 0.009676,
     "end_time": "2024-03-12T11:33:20.623852",
     "exception": false,
     "start_time": "2024-03-12T11:33:20.614176",
     "status": "completed"
    },
    "tags": []
   },
   "source": [
    "# Punctuation Removal"
   ]
  },
  {
   "cell_type": "code",
   "execution_count": 4,
   "id": "5e6daf1b",
   "metadata": {
    "execution": {
     "iopub.execute_input": "2024-03-12T11:33:20.646028Z",
     "iopub.status.busy": "2024-03-12T11:33:20.644885Z",
     "iopub.status.idle": "2024-03-12T11:33:20.701773Z",
     "shell.execute_reply": "2024-03-12T11:33:20.700536Z"
    },
    "papermill": {
     "duration": 0.07062,
     "end_time": "2024-03-12T11:33:20.704498",
     "exception": false,
     "start_time": "2024-03-12T11:33:20.633878",
     "status": "completed"
    },
    "tags": []
   },
   "outputs": [
    {
     "data": {
      "text/html": [
       "<div>\n",
       "<style scoped>\n",
       "    .dataframe tbody tr th:only-of-type {\n",
       "        vertical-align: middle;\n",
       "    }\n",
       "\n",
       "    .dataframe tbody tr th {\n",
       "        vertical-align: top;\n",
       "    }\n",
       "\n",
       "    .dataframe thead th {\n",
       "        text-align: right;\n",
       "    }\n",
       "</style>\n",
       "<table border=\"1\" class=\"dataframe\">\n",
       "  <thead>\n",
       "    <tr style=\"text-align: right;\">\n",
       "      <th></th>\n",
       "      <th>text</th>\n",
       "      <th>upper_text</th>\n",
       "      <th>lower_text</th>\n",
       "      <th>text_punct_removed</th>\n",
       "    </tr>\n",
       "  </thead>\n",
       "  <tbody>\n",
       "    <tr>\n",
       "      <th>0</th>\n",
       "      <td>@115712 I understand. I would like to assist y...</td>\n",
       "      <td>@115712 I UNDERSTAND. I WOULD LIKE TO ASSIST Y...</td>\n",
       "      <td>@115712 i understand. i would like to assist y...</td>\n",
       "      <td>115712 I understand I would like to assist you...</td>\n",
       "    </tr>\n",
       "    <tr>\n",
       "      <th>1</th>\n",
       "      <td>@sprintcare and how do you propose we do that</td>\n",
       "      <td>@SPRINTCARE AND HOW DO YOU PROPOSE WE DO THAT</td>\n",
       "      <td>@sprintcare and how do you propose we do that</td>\n",
       "      <td>sprintcare and how do you propose we do that</td>\n",
       "    </tr>\n",
       "    <tr>\n",
       "      <th>2</th>\n",
       "      <td>@sprintcare I have sent several private messag...</td>\n",
       "      <td>@SPRINTCARE I HAVE SENT SEVERAL PRIVATE MESSAG...</td>\n",
       "      <td>@sprintcare i have sent several private messag...</td>\n",
       "      <td>sprintcare I have sent several private message...</td>\n",
       "    </tr>\n",
       "    <tr>\n",
       "      <th>3</th>\n",
       "      <td>@115712 Please send us a Private Message so th...</td>\n",
       "      <td>@115712 PLEASE SEND US A PRIVATE MESSAGE SO TH...</td>\n",
       "      <td>@115712 please send us a private message so th...</td>\n",
       "      <td>115712 Please send us a Private Message so tha...</td>\n",
       "    </tr>\n",
       "    <tr>\n",
       "      <th>4</th>\n",
       "      <td>@sprintcare I did.</td>\n",
       "      <td>@SPRINTCARE I DID.</td>\n",
       "      <td>@sprintcare i did.</td>\n",
       "      <td>sprintcare I did</td>\n",
       "    </tr>\n",
       "  </tbody>\n",
       "</table>\n",
       "</div>"
      ],
      "text/plain": [
       "                                                text  \\\n",
       "0  @115712 I understand. I would like to assist y...   \n",
       "1      @sprintcare and how do you propose we do that   \n",
       "2  @sprintcare I have sent several private messag...   \n",
       "3  @115712 Please send us a Private Message so th...   \n",
       "4                                 @sprintcare I did.   \n",
       "\n",
       "                                          upper_text  \\\n",
       "0  @115712 I UNDERSTAND. I WOULD LIKE TO ASSIST Y...   \n",
       "1      @SPRINTCARE AND HOW DO YOU PROPOSE WE DO THAT   \n",
       "2  @SPRINTCARE I HAVE SENT SEVERAL PRIVATE MESSAG...   \n",
       "3  @115712 PLEASE SEND US A PRIVATE MESSAGE SO TH...   \n",
       "4                                 @SPRINTCARE I DID.   \n",
       "\n",
       "                                          lower_text  \\\n",
       "0  @115712 i understand. i would like to assist y...   \n",
       "1      @sprintcare and how do you propose we do that   \n",
       "2  @sprintcare i have sent several private messag...   \n",
       "3  @115712 please send us a private message so th...   \n",
       "4                                 @sprintcare i did.   \n",
       "\n",
       "                                  text_punct_removed  \n",
       "0  115712 I understand I would like to assist you...  \n",
       "1       sprintcare and how do you propose we do that  \n",
       "2  sprintcare I have sent several private message...  \n",
       "3  115712 Please send us a Private Message so tha...  \n",
       "4                                   sprintcare I did  "
      ]
     },
     "execution_count": 4,
     "metadata": {},
     "output_type": "execute_result"
    }
   ],
   "source": [
    "Punctuations = string.punctuation\n",
    "def remove_punctuation(text):\n",
    "    return text.translate(str.maketrans('', '', Punctuations))\n",
    "\n",
    "df[\"text_punct_removed\"] = df[\"text\"].apply(lambda text: remove_punctuation(text))\n",
    "df.head()"
   ]
  },
  {
   "cell_type": "markdown",
   "id": "731b7644",
   "metadata": {
    "papermill": {
     "duration": 0.010457,
     "end_time": "2024-03-12T11:33:20.726557",
     "exception": false,
     "start_time": "2024-03-12T11:33:20.716100",
     "status": "completed"
    },
    "tags": []
   },
   "source": [
    "# Stop words removal"
   ]
  },
  {
   "cell_type": "code",
   "execution_count": 5,
   "id": "fa0db4fb",
   "metadata": {
    "execution": {
     "iopub.execute_input": "2024-03-12T11:33:20.750041Z",
     "iopub.status.busy": "2024-03-12T11:33:20.748930Z",
     "iopub.status.idle": "2024-03-12T11:33:20.764686Z",
     "shell.execute_reply": "2024-03-12T11:33:20.763332Z"
    },
    "papermill": {
     "duration": 0.030157,
     "end_time": "2024-03-12T11:33:20.767278",
     "exception": false,
     "start_time": "2024-03-12T11:33:20.737121",
     "status": "completed"
    },
    "tags": []
   },
   "outputs": [
    {
     "data": {
      "text/plain": [
       "\"i, me, my, myself, we, our, ours, ourselves, you, you're, you've, you'll, you'd, your, yours, yourself, yourselves, he, him, his, himself, she, she's, her, hers, herself, it, it's, its, itself, they, them, their, theirs, themselves, what, which, who, whom, this, that, that'll, these, those, am, is, are, was, were, be, been, being, have, has, had, having, do, does, did, doing, a, an, the, and, but, if, or, because, as, until, while, of, at, by, for, with, about, against, between, into, through, during, before, after, above, below, to, from, up, down, in, out, on, off, over, under, again, further, then, once, here, there, when, where, why, how, all, any, both, each, few, more, most, other, some, such, no, nor, not, only, own, same, so, than, too, very, s, t, can, will, just, don, don't, should, should've, now, d, ll, m, o, re, ve, y, ain, aren, aren't, couldn, couldn't, didn, didn't, doesn, doesn't, hadn, hadn't, hasn, hasn't, haven, haven't, isn, isn't, ma, mightn, mightn't, mustn, mustn't, needn, needn't, shan, shan't, shouldn, shouldn't, wasn, wasn't, weren, weren't, won, won't, wouldn, wouldn't\""
      ]
     },
     "execution_count": 5,
     "metadata": {},
     "output_type": "execute_result"
    }
   ],
   "source": [
    "from nltk.corpus import stopwords\n",
    "\", \".join(stopwords.words('english'))"
   ]
  },
  {
   "cell_type": "code",
   "execution_count": 6,
   "id": "0adf203c",
   "metadata": {
    "execution": {
     "iopub.execute_input": "2024-03-12T11:33:20.791047Z",
     "iopub.status.busy": "2024-03-12T11:33:20.790044Z",
     "iopub.status.idle": "2024-03-12T11:33:20.835570Z",
     "shell.execute_reply": "2024-03-12T11:33:20.834446Z"
    },
    "papermill": {
     "duration": 0.059857,
     "end_time": "2024-03-12T11:33:20.838026",
     "exception": false,
     "start_time": "2024-03-12T11:33:20.778169",
     "status": "completed"
    },
    "tags": []
   },
   "outputs": [
    {
     "data": {
      "text/html": [
       "<div>\n",
       "<style scoped>\n",
       "    .dataframe tbody tr th:only-of-type {\n",
       "        vertical-align: middle;\n",
       "    }\n",
       "\n",
       "    .dataframe tbody tr th {\n",
       "        vertical-align: top;\n",
       "    }\n",
       "\n",
       "    .dataframe thead th {\n",
       "        text-align: right;\n",
       "    }\n",
       "</style>\n",
       "<table border=\"1\" class=\"dataframe\">\n",
       "  <thead>\n",
       "    <tr style=\"text-align: right;\">\n",
       "      <th></th>\n",
       "      <th>text</th>\n",
       "      <th>upper_text</th>\n",
       "      <th>lower_text</th>\n",
       "      <th>text_punct_removed</th>\n",
       "      <th>text_stop_removed</th>\n",
       "    </tr>\n",
       "  </thead>\n",
       "  <tbody>\n",
       "    <tr>\n",
       "      <th>0</th>\n",
       "      <td>@115712 I understand. I would like to assist y...</td>\n",
       "      <td>@115712 I UNDERSTAND. I WOULD LIKE TO ASSIST Y...</td>\n",
       "      <td>@115712 i understand. i would like to assist y...</td>\n",
       "      <td>115712 I understand I would like to assist you...</td>\n",
       "      <td>115712 I understand I would like assist We wou...</td>\n",
       "    </tr>\n",
       "    <tr>\n",
       "      <th>1</th>\n",
       "      <td>@sprintcare and how do you propose we do that</td>\n",
       "      <td>@SPRINTCARE AND HOW DO YOU PROPOSE WE DO THAT</td>\n",
       "      <td>@sprintcare and how do you propose we do that</td>\n",
       "      <td>sprintcare and how do you propose we do that</td>\n",
       "      <td>sprintcare propose</td>\n",
       "    </tr>\n",
       "    <tr>\n",
       "      <th>2</th>\n",
       "      <td>@sprintcare I have sent several private messag...</td>\n",
       "      <td>@SPRINTCARE I HAVE SENT SEVERAL PRIVATE MESSAG...</td>\n",
       "      <td>@sprintcare i have sent several private messag...</td>\n",
       "      <td>sprintcare I have sent several private message...</td>\n",
       "      <td>sprintcare I sent several private messages one...</td>\n",
       "    </tr>\n",
       "    <tr>\n",
       "      <th>3</th>\n",
       "      <td>@115712 Please send us a Private Message so th...</td>\n",
       "      <td>@115712 PLEASE SEND US A PRIVATE MESSAGE SO TH...</td>\n",
       "      <td>@115712 please send us a private message so th...</td>\n",
       "      <td>115712 Please send us a Private Message so tha...</td>\n",
       "      <td>115712 Please send us Private Message assist J...</td>\n",
       "    </tr>\n",
       "    <tr>\n",
       "      <th>4</th>\n",
       "      <td>@sprintcare I did.</td>\n",
       "      <td>@SPRINTCARE I DID.</td>\n",
       "      <td>@sprintcare i did.</td>\n",
       "      <td>sprintcare I did</td>\n",
       "      <td>sprintcare I</td>\n",
       "    </tr>\n",
       "  </tbody>\n",
       "</table>\n",
       "</div>"
      ],
      "text/plain": [
       "                                                text  \\\n",
       "0  @115712 I understand. I would like to assist y...   \n",
       "1      @sprintcare and how do you propose we do that   \n",
       "2  @sprintcare I have sent several private messag...   \n",
       "3  @115712 Please send us a Private Message so th...   \n",
       "4                                 @sprintcare I did.   \n",
       "\n",
       "                                          upper_text  \\\n",
       "0  @115712 I UNDERSTAND. I WOULD LIKE TO ASSIST Y...   \n",
       "1      @SPRINTCARE AND HOW DO YOU PROPOSE WE DO THAT   \n",
       "2  @SPRINTCARE I HAVE SENT SEVERAL PRIVATE MESSAG...   \n",
       "3  @115712 PLEASE SEND US A PRIVATE MESSAGE SO TH...   \n",
       "4                                 @SPRINTCARE I DID.   \n",
       "\n",
       "                                          lower_text  \\\n",
       "0  @115712 i understand. i would like to assist y...   \n",
       "1      @sprintcare and how do you propose we do that   \n",
       "2  @sprintcare i have sent several private messag...   \n",
       "3  @115712 please send us a private message so th...   \n",
       "4                                 @sprintcare i did.   \n",
       "\n",
       "                                  text_punct_removed  \\\n",
       "0  115712 I understand I would like to assist you...   \n",
       "1       sprintcare and how do you propose we do that   \n",
       "2  sprintcare I have sent several private message...   \n",
       "3  115712 Please send us a Private Message so tha...   \n",
       "4                                   sprintcare I did   \n",
       "\n",
       "                                   text_stop_removed  \n",
       "0  115712 I understand I would like assist We wou...  \n",
       "1                                 sprintcare propose  \n",
       "2  sprintcare I sent several private messages one...  \n",
       "3  115712 Please send us Private Message assist J...  \n",
       "4                                       sprintcare I  "
      ]
     },
     "execution_count": 6,
     "metadata": {},
     "output_type": "execute_result"
    }
   ],
   "source": [
    "Stopwrds = set(stopwords.words('english'))\n",
    "def remove_stopwords(text):\n",
    "    return \" \".join([word for word in str(text).split() if word not in Stopwrds])\n",
    "\n",
    "df[\"text_stop_removed\"] = df[\"text_punct_removed\"].apply(lambda text: remove_stopwords(text))\n",
    "df.head()"
   ]
  },
  {
   "cell_type": "markdown",
   "id": "d709aba9",
   "metadata": {
    "papermill": {
     "duration": 0.010477,
     "end_time": "2024-03-12T11:33:20.858933",
     "exception": false,
     "start_time": "2024-03-12T11:33:20.848456",
     "status": "completed"
    },
    "tags": []
   },
   "source": [
    "# Freequent Words Removal"
   ]
  },
  {
   "cell_type": "code",
   "execution_count": 7,
   "id": "22bba7ee",
   "metadata": {
    "execution": {
     "iopub.execute_input": "2024-03-12T11:33:20.882593Z",
     "iopub.status.busy": "2024-03-12T11:33:20.881512Z",
     "iopub.status.idle": "2024-03-12T11:33:20.928473Z",
     "shell.execute_reply": "2024-03-12T11:33:20.927326Z"
    },
    "papermill": {
     "duration": 0.061368,
     "end_time": "2024-03-12T11:33:20.930875",
     "exception": false,
     "start_time": "2024-03-12T11:33:20.869507",
     "status": "completed"
    },
    "tags": []
   },
   "outputs": [
    {
     "data": {
      "text/plain": [
       "[('I', 1437),\n",
       " ('us', 752),\n",
       " ('DM', 514),\n",
       " ('help', 479),\n",
       " ('Please', 376),\n",
       " ('We', 338),\n",
       " ('Hi', 293),\n",
       " ('Thanks', 287),\n",
       " ('get', 279),\n",
       " ('please', 247)]"
      ]
     },
     "execution_count": 7,
     "metadata": {},
     "output_type": "execute_result"
    }
   ],
   "source": [
    "from collections import Counter\n",
    "cnt = Counter()\n",
    "for text in df[\"text_stop_removed\"].values:\n",
    "    for word in text.split():\n",
    "        cnt[word] += 1\n",
    "        \n",
    "cnt.most_common(10)"
   ]
  },
  {
   "cell_type": "code",
   "execution_count": 8,
   "id": "4a3c49fe",
   "metadata": {
    "execution": {
     "iopub.execute_input": "2024-03-12T11:33:20.954617Z",
     "iopub.status.busy": "2024-03-12T11:33:20.953992Z",
     "iopub.status.idle": "2024-03-12T11:33:20.995819Z",
     "shell.execute_reply": "2024-03-12T11:33:20.994642Z"
    },
    "papermill": {
     "duration": 0.056636,
     "end_time": "2024-03-12T11:33:20.998197",
     "exception": false,
     "start_time": "2024-03-12T11:33:20.941561",
     "status": "completed"
    },
    "tags": []
   },
   "outputs": [
    {
     "data": {
      "text/html": [
       "<div>\n",
       "<style scoped>\n",
       "    .dataframe tbody tr th:only-of-type {\n",
       "        vertical-align: middle;\n",
       "    }\n",
       "\n",
       "    .dataframe tbody tr th {\n",
       "        vertical-align: top;\n",
       "    }\n",
       "\n",
       "    .dataframe thead th {\n",
       "        text-align: right;\n",
       "    }\n",
       "</style>\n",
       "<table border=\"1\" class=\"dataframe\">\n",
       "  <thead>\n",
       "    <tr style=\"text-align: right;\">\n",
       "      <th></th>\n",
       "      <th>text</th>\n",
       "      <th>upper_text</th>\n",
       "      <th>lower_text</th>\n",
       "      <th>text_punct_removed</th>\n",
       "      <th>text_stop_removed</th>\n",
       "      <th>text_freq_removed</th>\n",
       "    </tr>\n",
       "  </thead>\n",
       "  <tbody>\n",
       "    <tr>\n",
       "      <th>0</th>\n",
       "      <td>@115712 I understand. I would like to assist y...</td>\n",
       "      <td>@115712 I UNDERSTAND. I WOULD LIKE TO ASSIST Y...</td>\n",
       "      <td>@115712 i understand. i would like to assist y...</td>\n",
       "      <td>115712 I understand I would like to assist you...</td>\n",
       "      <td>115712 I understand I would like assist We wou...</td>\n",
       "      <td>115712 understand would like assist would need...</td>\n",
       "    </tr>\n",
       "    <tr>\n",
       "      <th>1</th>\n",
       "      <td>@sprintcare and how do you propose we do that</td>\n",
       "      <td>@SPRINTCARE AND HOW DO YOU PROPOSE WE DO THAT</td>\n",
       "      <td>@sprintcare and how do you propose we do that</td>\n",
       "      <td>sprintcare and how do you propose we do that</td>\n",
       "      <td>sprintcare propose</td>\n",
       "      <td>sprintcare propose</td>\n",
       "    </tr>\n",
       "    <tr>\n",
       "      <th>2</th>\n",
       "      <td>@sprintcare I have sent several private messag...</td>\n",
       "      <td>@SPRINTCARE I HAVE SENT SEVERAL PRIVATE MESSAG...</td>\n",
       "      <td>@sprintcare i have sent several private messag...</td>\n",
       "      <td>sprintcare I have sent several private message...</td>\n",
       "      <td>sprintcare I sent several private messages one...</td>\n",
       "      <td>sprintcare sent several private messages one r...</td>\n",
       "    </tr>\n",
       "    <tr>\n",
       "      <th>3</th>\n",
       "      <td>@115712 Please send us a Private Message so th...</td>\n",
       "      <td>@115712 PLEASE SEND US A PRIVATE MESSAGE SO TH...</td>\n",
       "      <td>@115712 please send us a private message so th...</td>\n",
       "      <td>115712 Please send us a Private Message so tha...</td>\n",
       "      <td>115712 Please send us Private Message assist J...</td>\n",
       "      <td>115712 send Private Message assist Just click ...</td>\n",
       "    </tr>\n",
       "    <tr>\n",
       "      <th>4</th>\n",
       "      <td>@sprintcare I did.</td>\n",
       "      <td>@SPRINTCARE I DID.</td>\n",
       "      <td>@sprintcare i did.</td>\n",
       "      <td>sprintcare I did</td>\n",
       "      <td>sprintcare I</td>\n",
       "      <td>sprintcare</td>\n",
       "    </tr>\n",
       "  </tbody>\n",
       "</table>\n",
       "</div>"
      ],
      "text/plain": [
       "                                                text  \\\n",
       "0  @115712 I understand. I would like to assist y...   \n",
       "1      @sprintcare and how do you propose we do that   \n",
       "2  @sprintcare I have sent several private messag...   \n",
       "3  @115712 Please send us a Private Message so th...   \n",
       "4                                 @sprintcare I did.   \n",
       "\n",
       "                                          upper_text  \\\n",
       "0  @115712 I UNDERSTAND. I WOULD LIKE TO ASSIST Y...   \n",
       "1      @SPRINTCARE AND HOW DO YOU PROPOSE WE DO THAT   \n",
       "2  @SPRINTCARE I HAVE SENT SEVERAL PRIVATE MESSAG...   \n",
       "3  @115712 PLEASE SEND US A PRIVATE MESSAGE SO TH...   \n",
       "4                                 @SPRINTCARE I DID.   \n",
       "\n",
       "                                          lower_text  \\\n",
       "0  @115712 i understand. i would like to assist y...   \n",
       "1      @sprintcare and how do you propose we do that   \n",
       "2  @sprintcare i have sent several private messag...   \n",
       "3  @115712 please send us a private message so th...   \n",
       "4                                 @sprintcare i did.   \n",
       "\n",
       "                                  text_punct_removed  \\\n",
       "0  115712 I understand I would like to assist you...   \n",
       "1       sprintcare and how do you propose we do that   \n",
       "2  sprintcare I have sent several private message...   \n",
       "3  115712 Please send us a Private Message so tha...   \n",
       "4                                   sprintcare I did   \n",
       "\n",
       "                                   text_stop_removed  \\\n",
       "0  115712 I understand I would like assist We wou...   \n",
       "1                                 sprintcare propose   \n",
       "2  sprintcare I sent several private messages one...   \n",
       "3  115712 Please send us Private Message assist J...   \n",
       "4                                       sprintcare I   \n",
       "\n",
       "                                   text_freq_removed  \n",
       "0  115712 understand would like assist would need...  \n",
       "1                                 sprintcare propose  \n",
       "2  sprintcare sent several private messages one r...  \n",
       "3  115712 send Private Message assist Just click ...  \n",
       "4                                         sprintcare  "
      ]
     },
     "execution_count": 8,
     "metadata": {},
     "output_type": "execute_result"
    }
   ],
   "source": [
    "Freq = set([w for (w, wc) in cnt.most_common(10)])\n",
    "def remove_freqwords(text):\n",
    "    return \" \".join([word for word in str(text).split() if word not in Freq])\n",
    "\n",
    "df[\"text_freq_removed\"] = df[\"text_stop_removed\"].apply(lambda text: remove_freqwords(text))\n",
    "df.head()"
   ]
  },
  {
   "cell_type": "markdown",
   "id": "0cff05c0",
   "metadata": {
    "papermill": {
     "duration": 0.010818,
     "end_time": "2024-03-12T11:33:21.020133",
     "exception": false,
     "start_time": "2024-03-12T11:33:21.009315",
     "status": "completed"
    },
    "tags": []
   },
   "source": [
    "# Stemming"
   ]
  },
  {
   "cell_type": "code",
   "execution_count": 9,
   "id": "db6b66d6",
   "metadata": {
    "execution": {
     "iopub.execute_input": "2024-03-12T11:33:21.044511Z",
     "iopub.status.busy": "2024-03-12T11:33:21.043884Z",
     "iopub.status.idle": "2024-03-12T11:33:23.908059Z",
     "shell.execute_reply": "2024-03-12T11:33:23.906917Z"
    },
    "papermill": {
     "duration": 2.879158,
     "end_time": "2024-03-12T11:33:23.910483",
     "exception": false,
     "start_time": "2024-03-12T11:33:21.031325",
     "status": "completed"
    },
    "tags": []
   },
   "outputs": [
    {
     "data": {
      "text/html": [
       "<div>\n",
       "<style scoped>\n",
       "    .dataframe tbody tr th:only-of-type {\n",
       "        vertical-align: middle;\n",
       "    }\n",
       "\n",
       "    .dataframe tbody tr th {\n",
       "        vertical-align: top;\n",
       "    }\n",
       "\n",
       "    .dataframe thead th {\n",
       "        text-align: right;\n",
       "    }\n",
       "</style>\n",
       "<table border=\"1\" class=\"dataframe\">\n",
       "  <thead>\n",
       "    <tr style=\"text-align: right;\">\n",
       "      <th></th>\n",
       "      <th>text</th>\n",
       "      <th>upper_text</th>\n",
       "      <th>lower_text</th>\n",
       "      <th>text_punct_removed</th>\n",
       "      <th>text_stop_removed</th>\n",
       "      <th>text_freq_removed</th>\n",
       "      <th>text_stemmed_</th>\n",
       "    </tr>\n",
       "  </thead>\n",
       "  <tbody>\n",
       "    <tr>\n",
       "      <th>0</th>\n",
       "      <td>@115712 I understand. I would like to assist y...</td>\n",
       "      <td>@115712 I UNDERSTAND. I WOULD LIKE TO ASSIST Y...</td>\n",
       "      <td>@115712 i understand. i would like to assist y...</td>\n",
       "      <td>115712 I understand I would like to assist you...</td>\n",
       "      <td>115712 I understand I would like assist We wou...</td>\n",
       "      <td>115712 understand would like assist would need...</td>\n",
       "      <td>@115712 I understand. I would like to assist y...</td>\n",
       "    </tr>\n",
       "    <tr>\n",
       "      <th>1</th>\n",
       "      <td>@sprintcare and how do you propose we do that</td>\n",
       "      <td>@SPRINTCARE AND HOW DO YOU PROPOSE WE DO THAT</td>\n",
       "      <td>@sprintcare and how do you propose we do that</td>\n",
       "      <td>sprintcare and how do you propose we do that</td>\n",
       "      <td>sprintcare propose</td>\n",
       "      <td>sprintcare propose</td>\n",
       "      <td>@sprintcar and how do you propos we do that</td>\n",
       "    </tr>\n",
       "    <tr>\n",
       "      <th>2</th>\n",
       "      <td>@sprintcare I have sent several private messag...</td>\n",
       "      <td>@SPRINTCARE I HAVE SENT SEVERAL PRIVATE MESSAG...</td>\n",
       "      <td>@sprintcare i have sent several private messag...</td>\n",
       "      <td>sprintcare I have sent several private message...</td>\n",
       "      <td>sprintcare I sent several private messages one...</td>\n",
       "      <td>sprintcare sent several private messages one r...</td>\n",
       "      <td>@sprintcar I have sent sever privat messag and...</td>\n",
       "    </tr>\n",
       "    <tr>\n",
       "      <th>3</th>\n",
       "      <td>@115712 Please send us a Private Message so th...</td>\n",
       "      <td>@115712 PLEASE SEND US A PRIVATE MESSAGE SO TH...</td>\n",
       "      <td>@115712 please send us a private message so th...</td>\n",
       "      <td>115712 Please send us a Private Message so tha...</td>\n",
       "      <td>115712 Please send us Private Message assist J...</td>\n",
       "      <td>115712 send Private Message assist Just click ...</td>\n",
       "      <td>@115712 pleas send us a privat messag so that ...</td>\n",
       "    </tr>\n",
       "    <tr>\n",
       "      <th>4</th>\n",
       "      <td>@sprintcare I did.</td>\n",
       "      <td>@SPRINTCARE I DID.</td>\n",
       "      <td>@sprintcare i did.</td>\n",
       "      <td>sprintcare I did</td>\n",
       "      <td>sprintcare I</td>\n",
       "      <td>sprintcare</td>\n",
       "      <td>@sprintcar I did.</td>\n",
       "    </tr>\n",
       "  </tbody>\n",
       "</table>\n",
       "</div>"
      ],
      "text/plain": [
       "                                                text  \\\n",
       "0  @115712 I understand. I would like to assist y...   \n",
       "1      @sprintcare and how do you propose we do that   \n",
       "2  @sprintcare I have sent several private messag...   \n",
       "3  @115712 Please send us a Private Message so th...   \n",
       "4                                 @sprintcare I did.   \n",
       "\n",
       "                                          upper_text  \\\n",
       "0  @115712 I UNDERSTAND. I WOULD LIKE TO ASSIST Y...   \n",
       "1      @SPRINTCARE AND HOW DO YOU PROPOSE WE DO THAT   \n",
       "2  @SPRINTCARE I HAVE SENT SEVERAL PRIVATE MESSAG...   \n",
       "3  @115712 PLEASE SEND US A PRIVATE MESSAGE SO TH...   \n",
       "4                                 @SPRINTCARE I DID.   \n",
       "\n",
       "                                          lower_text  \\\n",
       "0  @115712 i understand. i would like to assist y...   \n",
       "1      @sprintcare and how do you propose we do that   \n",
       "2  @sprintcare i have sent several private messag...   \n",
       "3  @115712 please send us a private message so th...   \n",
       "4                                 @sprintcare i did.   \n",
       "\n",
       "                                  text_punct_removed  \\\n",
       "0  115712 I understand I would like to assist you...   \n",
       "1       sprintcare and how do you propose we do that   \n",
       "2  sprintcare I have sent several private message...   \n",
       "3  115712 Please send us a Private Message so tha...   \n",
       "4                                   sprintcare I did   \n",
       "\n",
       "                                   text_stop_removed  \\\n",
       "0  115712 I understand I would like assist We wou...   \n",
       "1                                 sprintcare propose   \n",
       "2  sprintcare I sent several private messages one...   \n",
       "3  115712 Please send us Private Message assist J...   \n",
       "4                                       sprintcare I   \n",
       "\n",
       "                                   text_freq_removed  \\\n",
       "0  115712 understand would like assist would need...   \n",
       "1                                 sprintcare propose   \n",
       "2  sprintcare sent several private messages one r...   \n",
       "3  115712 send Private Message assist Just click ...   \n",
       "4                                         sprintcare   \n",
       "\n",
       "                                       text_stemmed_  \n",
       "0  @115712 I understand. I would like to assist y...  \n",
       "1        @sprintcar and how do you propos we do that  \n",
       "2  @sprintcar I have sent sever privat messag and...  \n",
       "3  @115712 pleas send us a privat messag so that ...  \n",
       "4                                  @sprintcar I did.  "
      ]
     },
     "execution_count": 9,
     "metadata": {},
     "output_type": "execute_result"
    }
   ],
   "source": [
    "from nltk.stem.porter import PorterStemmer\n",
    "\n",
    "Pstemmer = PorterStemmer()\n",
    "def stem_words(text):\n",
    "    return \" \".join([Pstemmer.stem(word) for word in text.split()])\n",
    "\n",
    "df[\"text_stemmed_\"] = df[\"text\"].apply(lambda text: stem_words(text))\n",
    "df.head()"
   ]
  },
  {
   "cell_type": "code",
   "execution_count": 10,
   "id": "197c2d4f",
   "metadata": {
    "execution": {
     "iopub.execute_input": "2024-03-12T11:33:23.935310Z",
     "iopub.status.busy": "2024-03-12T11:33:23.934643Z",
     "iopub.status.idle": "2024-03-12T11:33:25.625135Z",
     "shell.execute_reply": "2024-03-12T11:33:25.623879Z"
    },
    "papermill": {
     "duration": 1.706584,
     "end_time": "2024-03-12T11:33:25.628338",
     "exception": false,
     "start_time": "2024-03-12T11:33:23.921754",
     "status": "completed"
    },
    "tags": []
   },
   "outputs": [
    {
     "data": {
      "text/html": [
       "<div>\n",
       "<style scoped>\n",
       "    .dataframe tbody tr th:only-of-type {\n",
       "        vertical-align: middle;\n",
       "    }\n",
       "\n",
       "    .dataframe tbody tr th {\n",
       "        vertical-align: top;\n",
       "    }\n",
       "\n",
       "    .dataframe thead th {\n",
       "        text-align: right;\n",
       "    }\n",
       "</style>\n",
       "<table border=\"1\" class=\"dataframe\">\n",
       "  <thead>\n",
       "    <tr style=\"text-align: right;\">\n",
       "      <th></th>\n",
       "      <th>text</th>\n",
       "      <th>upper_text</th>\n",
       "      <th>lower_text</th>\n",
       "      <th>text_punct_removed</th>\n",
       "      <th>text_stop_removed</th>\n",
       "      <th>text_freq_removed</th>\n",
       "      <th>text_stemmed_</th>\n",
       "      <th>text_stemmed</th>\n",
       "    </tr>\n",
       "  </thead>\n",
       "  <tbody>\n",
       "    <tr>\n",
       "      <th>0</th>\n",
       "      <td>@115712 I understand. I would like to assist y...</td>\n",
       "      <td>@115712 I UNDERSTAND. I WOULD LIKE TO ASSIST Y...</td>\n",
       "      <td>@115712 i understand. i would like to assist y...</td>\n",
       "      <td>115712 I understand I would like to assist you...</td>\n",
       "      <td>115712 I understand I would like assist We wou...</td>\n",
       "      <td>115712 understand would like assist would need...</td>\n",
       "      <td>@115712 I understand. I would like to assist y...</td>\n",
       "      <td>@115712 i understand. i would like to assist y...</td>\n",
       "    </tr>\n",
       "    <tr>\n",
       "      <th>1</th>\n",
       "      <td>@sprintcare and how do you propose we do that</td>\n",
       "      <td>@SPRINTCARE AND HOW DO YOU PROPOSE WE DO THAT</td>\n",
       "      <td>@sprintcare and how do you propose we do that</td>\n",
       "      <td>sprintcare and how do you propose we do that</td>\n",
       "      <td>sprintcare propose</td>\n",
       "      <td>sprintcare propose</td>\n",
       "      <td>@sprintcar and how do you propos we do that</td>\n",
       "      <td>@sprintcar and how do you propos we do that</td>\n",
       "    </tr>\n",
       "    <tr>\n",
       "      <th>2</th>\n",
       "      <td>@sprintcare I have sent several private messag...</td>\n",
       "      <td>@SPRINTCARE I HAVE SENT SEVERAL PRIVATE MESSAG...</td>\n",
       "      <td>@sprintcare i have sent several private messag...</td>\n",
       "      <td>sprintcare I have sent several private message...</td>\n",
       "      <td>sprintcare I sent several private messages one...</td>\n",
       "      <td>sprintcare sent several private messages one r...</td>\n",
       "      <td>@sprintcar I have sent sever privat messag and...</td>\n",
       "      <td>@sprintcar i have sent sever privat messag and...</td>\n",
       "    </tr>\n",
       "    <tr>\n",
       "      <th>3</th>\n",
       "      <td>@115712 Please send us a Private Message so th...</td>\n",
       "      <td>@115712 PLEASE SEND US A PRIVATE MESSAGE SO TH...</td>\n",
       "      <td>@115712 please send us a private message so th...</td>\n",
       "      <td>115712 Please send us a Private Message so tha...</td>\n",
       "      <td>115712 Please send us Private Message assist J...</td>\n",
       "      <td>115712 send Private Message assist Just click ...</td>\n",
       "      <td>@115712 pleas send us a privat messag so that ...</td>\n",
       "      <td>@115712 pleas send us a privat messag so that ...</td>\n",
       "    </tr>\n",
       "    <tr>\n",
       "      <th>4</th>\n",
       "      <td>@sprintcare I did.</td>\n",
       "      <td>@SPRINTCARE I DID.</td>\n",
       "      <td>@sprintcare i did.</td>\n",
       "      <td>sprintcare I did</td>\n",
       "      <td>sprintcare I</td>\n",
       "      <td>sprintcare</td>\n",
       "      <td>@sprintcar I did.</td>\n",
       "      <td>@sprintcar i did.</td>\n",
       "    </tr>\n",
       "  </tbody>\n",
       "</table>\n",
       "</div>"
      ],
      "text/plain": [
       "                                                text  \\\n",
       "0  @115712 I understand. I would like to assist y...   \n",
       "1      @sprintcare and how do you propose we do that   \n",
       "2  @sprintcare I have sent several private messag...   \n",
       "3  @115712 Please send us a Private Message so th...   \n",
       "4                                 @sprintcare I did.   \n",
       "\n",
       "                                          upper_text  \\\n",
       "0  @115712 I UNDERSTAND. I WOULD LIKE TO ASSIST Y...   \n",
       "1      @SPRINTCARE AND HOW DO YOU PROPOSE WE DO THAT   \n",
       "2  @SPRINTCARE I HAVE SENT SEVERAL PRIVATE MESSAG...   \n",
       "3  @115712 PLEASE SEND US A PRIVATE MESSAGE SO TH...   \n",
       "4                                 @SPRINTCARE I DID.   \n",
       "\n",
       "                                          lower_text  \\\n",
       "0  @115712 i understand. i would like to assist y...   \n",
       "1      @sprintcare and how do you propose we do that   \n",
       "2  @sprintcare i have sent several private messag...   \n",
       "3  @115712 please send us a private message so th...   \n",
       "4                                 @sprintcare i did.   \n",
       "\n",
       "                                  text_punct_removed  \\\n",
       "0  115712 I understand I would like to assist you...   \n",
       "1       sprintcare and how do you propose we do that   \n",
       "2  sprintcare I have sent several private message...   \n",
       "3  115712 Please send us a Private Message so tha...   \n",
       "4                                   sprintcare I did   \n",
       "\n",
       "                                   text_stop_removed  \\\n",
       "0  115712 I understand I would like assist We wou...   \n",
       "1                                 sprintcare propose   \n",
       "2  sprintcare I sent several private messages one...   \n",
       "3  115712 Please send us Private Message assist J...   \n",
       "4                                       sprintcare I   \n",
       "\n",
       "                                   text_freq_removed  \\\n",
       "0  115712 understand would like assist would need...   \n",
       "1                                 sprintcare propose   \n",
       "2  sprintcare sent several private messages one r...   \n",
       "3  115712 send Private Message assist Just click ...   \n",
       "4                                         sprintcare   \n",
       "\n",
       "                                       text_stemmed_  \\\n",
       "0  @115712 I understand. I would like to assist y...   \n",
       "1        @sprintcar and how do you propos we do that   \n",
       "2  @sprintcar I have sent sever privat messag and...   \n",
       "3  @115712 pleas send us a privat messag so that ...   \n",
       "4                                  @sprintcar I did.   \n",
       "\n",
       "                                        text_stemmed  \n",
       "0  @115712 i understand. i would like to assist y...  \n",
       "1        @sprintcar and how do you propos we do that  \n",
       "2  @sprintcar i have sent sever privat messag and...  \n",
       "3  @115712 pleas send us a privat messag so that ...  \n",
       "4                                  @sprintcar i did.  "
      ]
     },
     "execution_count": 10,
     "metadata": {},
     "output_type": "execute_result"
    }
   ],
   "source": [
    "from nltk.stem.snowball import SnowballStemmer\n",
    "\n",
    "Sstemmer = SnowballStemmer(\"english\")\n",
    "def stem_words(text):\n",
    "    return \" \".join([Sstemmer.stem(word) for word in text.split()])\n",
    "\n",
    "df[\"text_stemmed\"] = df[\"text\"].apply(lambda text: stem_words(text))\n",
    "df.head()"
   ]
  },
  {
   "cell_type": "markdown",
   "id": "cbcce9b2",
   "metadata": {
    "papermill": {
     "duration": 0.012555,
     "end_time": "2024-03-12T11:33:25.654399",
     "exception": false,
     "start_time": "2024-03-12T11:33:25.641844",
     "status": "completed"
    },
    "tags": []
   },
   "source": [
    "# Tokenization"
   ]
  },
  {
   "cell_type": "code",
   "execution_count": 11,
   "id": "49ca0057",
   "metadata": {
    "execution": {
     "iopub.execute_input": "2024-03-12T11:33:25.680112Z",
     "iopub.status.busy": "2024-03-12T11:33:25.679724Z",
     "iopub.status.idle": "2024-03-12T11:33:27.813260Z",
     "shell.execute_reply": "2024-03-12T11:33:27.812008Z"
    },
    "papermill": {
     "duration": 2.150012,
     "end_time": "2024-03-12T11:33:27.816307",
     "exception": false,
     "start_time": "2024-03-12T11:33:25.666295",
     "status": "completed"
    },
    "tags": []
   },
   "outputs": [
    {
     "name": "stdout",
     "output_type": "stream",
     "text": [
      "                                                text  \\\n",
      "0  @115712 I understand. I would like to assist y...   \n",
      "1      @sprintcare and how do you propose we do that   \n",
      "2  @sprintcare I have sent several private messag...   \n",
      "3  @115712 Please send us a Private Message so th...   \n",
      "4                                 @sprintcare I did.   \n",
      "\n",
      "                                          upper_text  \\\n",
      "0  @115712 I UNDERSTAND. I WOULD LIKE TO ASSIST Y...   \n",
      "1      @SPRINTCARE AND HOW DO YOU PROPOSE WE DO THAT   \n",
      "2  @SPRINTCARE I HAVE SENT SEVERAL PRIVATE MESSAG...   \n",
      "3  @115712 PLEASE SEND US A PRIVATE MESSAGE SO TH...   \n",
      "4                                 @SPRINTCARE I DID.   \n",
      "\n",
      "                                          lower_text  \\\n",
      "0  @115712 i understand. i would like to assist y...   \n",
      "1      @sprintcare and how do you propose we do that   \n",
      "2  @sprintcare i have sent several private messag...   \n",
      "3  @115712 please send us a private message so th...   \n",
      "4                                 @sprintcare i did.   \n",
      "\n",
      "                                  text_punct_removed  \\\n",
      "0  115712 I understand I would like to assist you...   \n",
      "1       sprintcare and how do you propose we do that   \n",
      "2  sprintcare I have sent several private message...   \n",
      "3  115712 Please send us a Private Message so tha...   \n",
      "4                                   sprintcare I did   \n",
      "\n",
      "                                   text_stop_removed  \\\n",
      "0  115712 I understand I would like assist We wou...   \n",
      "1                                 sprintcare propose   \n",
      "2  sprintcare I sent several private messages one...   \n",
      "3  115712 Please send us Private Message assist J...   \n",
      "4                                       sprintcare I   \n",
      "\n",
      "                                   text_freq_removed  \\\n",
      "0  115712 understand would like assist would need...   \n",
      "1                                 sprintcare propose   \n",
      "2  sprintcare sent several private messages one r...   \n",
      "3  115712 send Private Message assist Just click ...   \n",
      "4                                         sprintcare   \n",
      "\n",
      "                                       text_stemmed_  \\\n",
      "0  @115712 I understand. I would like to assist y...   \n",
      "1        @sprintcar and how do you propos we do that   \n",
      "2  @sprintcar I have sent sever privat messag and...   \n",
      "3  @115712 pleas send us a privat messag so that ...   \n",
      "4                                  @sprintcar I did.   \n",
      "\n",
      "                                        text_stemmed  \\\n",
      "0  @115712 i understand. i would like to assist y...   \n",
      "1        @sprintcar and how do you propos we do that   \n",
      "2  @sprintcar i have sent sever privat messag and...   \n",
      "3  @115712 pleas send us a privat messag so that ...   \n",
      "4                                  @sprintcar i did.   \n",
      "\n",
      "                                   tokenized_default  \n",
      "0  [@, 115712, I, understand, ., I, would, like, ...  \n",
      "1  [@, sprintcare, and, how, do, you, propose, we...  \n",
      "2  [@, sprintcare, I, have, sent, several, privat...  \n",
      "3  [@, 115712, Please, send, us, a, Private, Mess...  \n",
      "4                         [@, sprintcare, I, did, .]  \n"
     ]
    }
   ],
   "source": [
    "from nltk.tokenize import word_tokenize\n",
    "\n",
    "def tokenize_words(text):\n",
    "    return word_tokenize(text) \n",
    "\n",
    "df[\"tokenized_default\"] = df[\"text\"].apply(lambda text: tokenize_words(text))\n",
    "\n",
    "print(df.head())"
   ]
  },
  {
   "cell_type": "code",
   "execution_count": 12,
   "id": "e6d90b0f",
   "metadata": {
    "execution": {
     "iopub.execute_input": "2024-03-12T11:33:27.842920Z",
     "iopub.status.busy": "2024-03-12T11:33:27.842487Z",
     "iopub.status.idle": "2024-03-12T11:33:28.406262Z",
     "shell.execute_reply": "2024-03-12T11:33:28.405116Z"
    },
    "papermill": {
     "duration": 0.58061,
     "end_time": "2024-03-12T11:33:28.409523",
     "exception": false,
     "start_time": "2024-03-12T11:33:27.828913",
     "status": "completed"
    },
    "tags": []
   },
   "outputs": [
    {
     "name": "stdout",
     "output_type": "stream",
     "text": [
      "                                                text  \\\n",
      "0  @115712 I understand. I would like to assist y...   \n",
      "1      @sprintcare and how do you propose we do that   \n",
      "2  @sprintcare I have sent several private messag...   \n",
      "3  @115712 Please send us a Private Message so th...   \n",
      "4                                 @sprintcare I did.   \n",
      "\n",
      "                                          upper_text  \\\n",
      "0  @115712 I UNDERSTAND. I WOULD LIKE TO ASSIST Y...   \n",
      "1      @SPRINTCARE AND HOW DO YOU PROPOSE WE DO THAT   \n",
      "2  @SPRINTCARE I HAVE SENT SEVERAL PRIVATE MESSAG...   \n",
      "3  @115712 PLEASE SEND US A PRIVATE MESSAGE SO TH...   \n",
      "4                                 @SPRINTCARE I DID.   \n",
      "\n",
      "                                          lower_text  \\\n",
      "0  @115712 i understand. i would like to assist y...   \n",
      "1      @sprintcare and how do you propose we do that   \n",
      "2  @sprintcare i have sent several private messag...   \n",
      "3  @115712 please send us a private message so th...   \n",
      "4                                 @sprintcare i did.   \n",
      "\n",
      "                                  text_punct_removed  \\\n",
      "0  115712 I understand I would like to assist you...   \n",
      "1       sprintcare and how do you propose we do that   \n",
      "2  sprintcare I have sent several private message...   \n",
      "3  115712 Please send us a Private Message so tha...   \n",
      "4                                   sprintcare I did   \n",
      "\n",
      "                                   text_stop_removed  \\\n",
      "0  115712 I understand I would like assist We wou...   \n",
      "1                                 sprintcare propose   \n",
      "2  sprintcare I sent several private messages one...   \n",
      "3  115712 Please send us Private Message assist J...   \n",
      "4                                       sprintcare I   \n",
      "\n",
      "                                   text_freq_removed  \\\n",
      "0  115712 understand would like assist would need...   \n",
      "1                                 sprintcare propose   \n",
      "2  sprintcare sent several private messages one r...   \n",
      "3  115712 send Private Message assist Just click ...   \n",
      "4                                         sprintcare   \n",
      "\n",
      "                                       text_stemmed_  \\\n",
      "0  @115712 I understand. I would like to assist y...   \n",
      "1        @sprintcar and how do you propos we do that   \n",
      "2  @sprintcar I have sent sever privat messag and...   \n",
      "3  @115712 pleas send us a privat messag so that ...   \n",
      "4                                  @sprintcar I did.   \n",
      "\n",
      "                                        text_stemmed  \\\n",
      "0  @115712 i understand. i would like to assist y...   \n",
      "1        @sprintcar and how do you propos we do that   \n",
      "2  @sprintcar i have sent sever privat messag and...   \n",
      "3  @115712 pleas send us a privat messag so that ...   \n",
      "4                                  @sprintcar i did.   \n",
      "\n",
      "                                   tokenized_default  \\\n",
      "0  [@, 115712, I, understand, ., I, would, like, ...   \n",
      "1  [@, sprintcare, and, how, do, you, propose, we...   \n",
      "2  [@, sprintcare, I, have, sent, several, privat...   \n",
      "3  [@, 115712, Please, send, us, a, Private, Mess...   \n",
      "4                         [@, sprintcare, I, did, .]   \n",
      "\n",
      "                                       tokenized_tok  \n",
      "0  [@115712, I, understand., I, would, like, to, ...  \n",
      "1  [@sprintcare, and, how, do, you, propose, we, ...  \n",
      "2  [@sprintcare, I, have, sent, several, private,...  \n",
      "3  [@115712, Please, send, us, a, Private, Messag...  \n",
      "4                           [@sprintcare, I, did, .]  \n"
     ]
    }
   ],
   "source": [
    "from nltk.tokenize.toktok import ToktokTokenizer\n",
    "tokenizer_tok = ToktokTokenizer()\n",
    "def tokenize_words(text):\n",
    "    return tokenizer_tok.tokenize(text) \n",
    "\n",
    "df[\"tokenized_tok\"] = df[\"text\"].apply(lambda text: tokenize_words(text))\n",
    "\n",
    "print(df.head())"
   ]
  },
  {
   "cell_type": "code",
   "execution_count": 13,
   "id": "c12dfa12",
   "metadata": {
    "execution": {
     "iopub.execute_input": "2024-03-12T11:33:28.436423Z",
     "iopub.status.busy": "2024-03-12T11:33:28.435992Z",
     "iopub.status.idle": "2024-03-12T11:33:29.596565Z",
     "shell.execute_reply": "2024-03-12T11:33:29.595420Z"
    },
    "papermill": {
     "duration": 1.177395,
     "end_time": "2024-03-12T11:33:29.599435",
     "exception": false,
     "start_time": "2024-03-12T11:33:28.422040",
     "status": "completed"
    },
    "tags": []
   },
   "outputs": [
    {
     "name": "stdout",
     "output_type": "stream",
     "text": [
      "                                                text  \\\n",
      "0  @115712 I understand. I would like to assist y...   \n",
      "1      @sprintcare and how do you propose we do that   \n",
      "2  @sprintcare I have sent several private messag...   \n",
      "3  @115712 Please send us a Private Message so th...   \n",
      "4                                 @sprintcare I did.   \n",
      "\n",
      "                                          upper_text  \\\n",
      "0  @115712 I UNDERSTAND. I WOULD LIKE TO ASSIST Y...   \n",
      "1      @SPRINTCARE AND HOW DO YOU PROPOSE WE DO THAT   \n",
      "2  @SPRINTCARE I HAVE SENT SEVERAL PRIVATE MESSAG...   \n",
      "3  @115712 PLEASE SEND US A PRIVATE MESSAGE SO TH...   \n",
      "4                                 @SPRINTCARE I DID.   \n",
      "\n",
      "                                          lower_text  \\\n",
      "0  @115712 i understand. i would like to assist y...   \n",
      "1      @sprintcare and how do you propose we do that   \n",
      "2  @sprintcare i have sent several private messag...   \n",
      "3  @115712 please send us a private message so th...   \n",
      "4                                 @sprintcare i did.   \n",
      "\n",
      "                                  text_punct_removed  \\\n",
      "0  115712 I understand I would like to assist you...   \n",
      "1       sprintcare and how do you propose we do that   \n",
      "2  sprintcare I have sent several private message...   \n",
      "3  115712 Please send us a Private Message so tha...   \n",
      "4                                   sprintcare I did   \n",
      "\n",
      "                                   text_stop_removed  \\\n",
      "0  115712 I understand I would like assist We wou...   \n",
      "1                                 sprintcare propose   \n",
      "2  sprintcare I sent several private messages one...   \n",
      "3  115712 Please send us Private Message assist J...   \n",
      "4                                       sprintcare I   \n",
      "\n",
      "                                   text_freq_removed  \\\n",
      "0  115712 understand would like assist would need...   \n",
      "1                                 sprintcare propose   \n",
      "2  sprintcare sent several private messages one r...   \n",
      "3  115712 send Private Message assist Just click ...   \n",
      "4                                         sprintcare   \n",
      "\n",
      "                                       text_stemmed_  \\\n",
      "0  @115712 I understand. I would like to assist y...   \n",
      "1        @sprintcar and how do you propos we do that   \n",
      "2  @sprintcar I have sent sever privat messag and...   \n",
      "3  @115712 pleas send us a privat messag so that ...   \n",
      "4                                  @sprintcar I did.   \n",
      "\n",
      "                                        text_stemmed  \\\n",
      "0  @115712 i understand. i would like to assist y...   \n",
      "1        @sprintcar and how do you propos we do that   \n",
      "2  @sprintcar i have sent sever privat messag and...   \n",
      "3  @115712 pleas send us a privat messag so that ...   \n",
      "4                                  @sprintcar i did.   \n",
      "\n",
      "                                   tokenized_default  \\\n",
      "0  [@, 115712, I, understand, ., I, would, like, ...   \n",
      "1  [@, sprintcare, and, how, do, you, propose, we...   \n",
      "2  [@, sprintcare, I, have, sent, several, privat...   \n",
      "3  [@, 115712, Please, send, us, a, Private, Mess...   \n",
      "4                         [@, sprintcare, I, did, .]   \n",
      "\n",
      "                                       tokenized_tok  \\\n",
      "0  [@115712, I, understand., I, would, like, to, ...   \n",
      "1  [@sprintcare, and, how, do, you, propose, we, ...   \n",
      "2  [@sprintcare, I, have, sent, several, private,...   \n",
      "3  [@115712, Please, send, us, a, Private, Messag...   \n",
      "4                           [@sprintcare, I, did, .]   \n",
      "\n",
      "                                      tokenized_tree  \n",
      "0  [@, 115712, I, understand., I, would, like, to...  \n",
      "1  [@, sprintcare, and, how, do, you, propose, we...  \n",
      "2  [@, sprintcare, I, have, sent, several, privat...  \n",
      "3  [@, 115712, Please, send, us, a, Private, Mess...  \n",
      "4                         [@, sprintcare, I, did, .]  \n"
     ]
    }
   ],
   "source": [
    "treebank_wt = nltk.TreebankWordTokenizer()\n",
    "def tokenize_words(text):\n",
    "    return treebank_wt.tokenize(text) \n",
    "\n",
    "df[\"tokenized_tree\"] = df[\"text\"].apply(lambda text: tokenize_words(text))\n",
    "\n",
    "print(df.head())"
   ]
  },
  {
   "cell_type": "markdown",
   "id": "490980f6",
   "metadata": {
    "papermill": {
     "duration": 0.012067,
     "end_time": "2024-03-12T11:33:29.624240",
     "exception": false,
     "start_time": "2024-03-12T11:33:29.612173",
     "status": "completed"
    },
    "tags": []
   },
   "source": [
    "# Chat Word Corrction"
   ]
  },
  {
   "cell_type": "code",
   "execution_count": 14,
   "id": "ff37c6bc",
   "metadata": {
    "execution": {
     "iopub.execute_input": "2024-03-12T11:33:29.651538Z",
     "iopub.status.busy": "2024-03-12T11:33:29.650896Z",
     "iopub.status.idle": "2024-03-12T11:33:29.656498Z",
     "shell.execute_reply": "2024-03-12T11:33:29.655621Z"
    },
    "papermill": {
     "duration": 0.022354,
     "end_time": "2024-03-12T11:33:29.658962",
     "exception": false,
     "start_time": "2024-03-12T11:33:29.636608",
     "status": "completed"
    },
    "tags": []
   },
   "outputs": [],
   "source": [
    "chat_words_str = \"\"\"\n",
    "AFAIK=As Far As I Know\n",
    "AFK=Away From Keyboard\n",
    "ASAP=As Soon As Possible\n",
    "ATK=At The Keyboard\n",
    "ATM=At The Moment\n",
    "A3=Anytime, Anywhere, Anyplace\n",
    "BAK=Back At Keyboard\n",
    "BBL=Be Back Later\n",
    "BBS=Be Back Soon\n",
    "BFN=Bye For Now\n",
    "B4N=Bye For Now\n",
    "BRB=Be Right Back\n",
    "BRT=Be Right There\n",
    "BTW=By The Way\n",
    "B4=Before\n",
    "B4N=Bye For Now\n",
    "CU=See You\n",
    "CUL8R=See You Later\n",
    "CYA=See You9\n",
    "FAQ=Frequently Asked Questions\n",
    "FC=Fingers Crossed\n",
    "FWIW=For What It's Worth\n",
    "FYI=For Your Information\n",
    "GAL=Get A Life\n",
    "GG=Good Game\n",
    "GN=Good Night\n",
    "GMTA=Great Minds Think Alike\"\"\""
   ]
  },
  {
   "cell_type": "code",
   "execution_count": 15,
   "id": "08198569",
   "metadata": {
    "execution": {
     "iopub.execute_input": "2024-03-12T11:33:29.686231Z",
     "iopub.status.busy": "2024-03-12T11:33:29.685430Z",
     "iopub.status.idle": "2024-03-12T11:33:29.697268Z",
     "shell.execute_reply": "2024-03-12T11:33:29.696204Z"
    },
    "papermill": {
     "duration": 0.028035,
     "end_time": "2024-03-12T11:33:29.699576",
     "exception": false,
     "start_time": "2024-03-12T11:33:29.671541",
     "status": "completed"
    },
    "tags": []
   },
   "outputs": [
    {
     "data": {
      "text/plain": [
       "'one minute Be Right Back'"
      ]
     },
     "execution_count": 15,
     "metadata": {},
     "output_type": "execute_result"
    }
   ],
   "source": [
    "chat_words_map_dict = {}\n",
    "chat_words_list = []\n",
    "for line in chat_words_str.split(\"\\n\"):\n",
    "    if line != \"\":\n",
    "        cw = line.split(\"=\")[0]\n",
    "        cw_expanded = line.split(\"=\")[1]\n",
    "        chat_words_list.append(cw)\n",
    "        chat_words_map_dict[cw] = cw_expanded\n",
    "chat_words_list = set(chat_words_list)\n",
    "\n",
    "def chat_words_conversion(text):\n",
    "    new_text = []\n",
    "    for w in text.split():\n",
    "        if w.upper() in chat_words_list:\n",
    "            new_text.append(chat_words_map_dict[w.upper()])\n",
    "        else:\n",
    "            new_text.append(w)\n",
    "    return \" \".join(new_text)\n",
    "\n",
    "chat_words_conversion(\"one minute BRB\")"
   ]
  },
  {
   "cell_type": "markdown",
   "id": "9f242975",
   "metadata": {
    "papermill": {
     "duration": 0.012175,
     "end_time": "2024-03-12T11:33:29.724553",
     "exception": false,
     "start_time": "2024-03-12T11:33:29.712378",
     "status": "completed"
    },
    "tags": []
   },
   "source": [
    "# Spelling Correction"
   ]
  },
  {
   "cell_type": "code",
   "execution_count": 16,
   "id": "5e20239f",
   "metadata": {
    "execution": {
     "iopub.execute_input": "2024-03-12T11:33:29.751744Z",
     "iopub.status.busy": "2024-03-12T11:33:29.751180Z",
     "iopub.status.idle": "2024-03-12T11:33:46.251960Z",
     "shell.execute_reply": "2024-03-12T11:33:46.250562Z"
    },
    "papermill": {
     "duration": 16.517841,
     "end_time": "2024-03-12T11:33:46.254860",
     "exception": false,
     "start_time": "2024-03-12T11:33:29.737019",
     "status": "completed"
    },
    "tags": []
   },
   "outputs": [
    {
     "name": "stdout",
     "output_type": "stream",
     "text": [
      "Collecting pyspellchecker\r\n",
      "  Downloading pyspellchecker-0.8.1-py3-none-any.whl.metadata (9.4 kB)\r\n",
      "Downloading pyspellchecker-0.8.1-py3-none-any.whl (6.8 MB)\r\n",
      "\u001b[2K   \u001b[90m━━━━━━━━━━━━━━━━━━━━━━━━━━━━━━━━━━━━━━━━\u001b[0m \u001b[32m6.8/6.8 MB\u001b[0m \u001b[31m50.7 MB/s\u001b[0m eta \u001b[36m0:00:00\u001b[0m\r\n",
      "\u001b[?25hInstalling collected packages: pyspellchecker\r\n",
      "Successfully installed pyspellchecker-0.8.1\r\n"
     ]
    }
   ],
   "source": [
    "!pip install pyspellchecker"
   ]
  },
  {
   "cell_type": "code",
   "execution_count": 17,
   "id": "5c102ca2",
   "metadata": {
    "execution": {
     "iopub.execute_input": "2024-03-12T11:33:46.284068Z",
     "iopub.status.busy": "2024-03-12T11:33:46.283579Z",
     "iopub.status.idle": "2024-03-12T11:33:46.503102Z",
     "shell.execute_reply": "2024-03-12T11:33:46.501926Z"
    },
    "papermill": {
     "duration": 0.237227,
     "end_time": "2024-03-12T11:33:46.505541",
     "exception": false,
     "start_time": "2024-03-12T11:33:46.268314",
     "status": "completed"
    },
    "tags": []
   },
   "outputs": [
    {
     "data": {
      "text/plain": [
       "'spelling correcting'"
      ]
     },
     "execution_count": 17,
     "metadata": {},
     "output_type": "execute_result"
    }
   ],
   "source": [
    "from spellchecker import SpellChecker\n",
    "\n",
    "spell = SpellChecker()\n",
    "def correct_spellings(text):\n",
    "    corrected_text = []\n",
    "    misspelled_words = spell.unknown(text.split())\n",
    "    for word in text.split():\n",
    "        if word in misspelled_words:\n",
    "            corrected_text.append(spell.correction(word))\n",
    "        else:\n",
    "            corrected_text.append(word)\n",
    "    return \" \".join(corrected_text)\n",
    "        \n",
    "text = \"speling correctin\"\n",
    "correct_spellings(text)"
   ]
  },
  {
   "cell_type": "markdown",
   "id": "03337d6d",
   "metadata": {
    "papermill": {
     "duration": 0.01327,
     "end_time": "2024-03-12T11:33:46.532469",
     "exception": false,
     "start_time": "2024-03-12T11:33:46.519199",
     "status": "completed"
    },
    "tags": []
   },
   "source": [
    "# Removal Of URL"
   ]
  },
  {
   "cell_type": "code",
   "execution_count": 18,
   "id": "c738e67b",
   "metadata": {
    "execution": {
     "iopub.execute_input": "2024-03-12T11:33:46.562009Z",
     "iopub.status.busy": "2024-03-12T11:33:46.561198Z",
     "iopub.status.idle": "2024-03-12T11:33:46.566638Z",
     "shell.execute_reply": "2024-03-12T11:33:46.565583Z"
    },
    "papermill": {
     "duration": 0.023021,
     "end_time": "2024-03-12T11:33:46.569199",
     "exception": false,
     "start_time": "2024-03-12T11:33:46.546178",
     "status": "completed"
    },
    "tags": []
   },
   "outputs": [],
   "source": [
    "def remove_urls(text):\n",
    "    url_pattern = re.compile(r'https?://\\S+|www\\.\\S+')\n",
    "    return url_pattern.sub(r'', text)"
   ]
  },
  {
   "cell_type": "code",
   "execution_count": 19,
   "id": "87ab5977",
   "metadata": {
    "execution": {
     "iopub.execute_input": "2024-03-12T11:33:46.598225Z",
     "iopub.status.busy": "2024-03-12T11:33:46.597849Z",
     "iopub.status.idle": "2024-03-12T11:33:46.604916Z",
     "shell.execute_reply": "2024-03-12T11:33:46.603842Z"
    },
    "papermill": {
     "duration": 0.024288,
     "end_time": "2024-03-12T11:33:46.607129",
     "exception": false,
     "start_time": "2024-03-12T11:33:46.582841",
     "status": "completed"
    },
    "tags": []
   },
   "outputs": [
    {
     "data": {
      "text/plain": [
       "'proprocessing text refer : '"
      ]
     },
     "execution_count": 19,
     "metadata": {},
     "output_type": "execute_result"
    }
   ],
   "source": [
    "text = \"proprocessing text refer : https://www.kaggle.com/code/aruneshhh/test-processing-and-normalisation/\"\n",
    "remove_urls(text)"
   ]
  },
  {
   "cell_type": "code",
   "execution_count": null,
   "id": "06415056",
   "metadata": {
    "papermill": {
     "duration": 0.013482,
     "end_time": "2024-03-12T11:33:46.634007",
     "exception": false,
     "start_time": "2024-03-12T11:33:46.620525",
     "status": "completed"
    },
    "tags": []
   },
   "outputs": [],
   "source": []
  }
 ],
 "metadata": {
  "kaggle": {
   "accelerator": "none",
   "dataSources": [
    {
     "datasetId": 4133,
     "sourceId": 8841,
     "sourceType": "datasetVersion"
    }
   ],
   "dockerImageVersionId": 30664,
   "isGpuEnabled": false,
   "isInternetEnabled": true,
   "language": "python",
   "sourceType": "notebook"
  },
  "kernelspec": {
   "display_name": "Python 3",
   "language": "python",
   "name": "python3"
  },
  "language_info": {
   "codemirror_mode": {
    "name": "ipython",
    "version": 3
   },
   "file_extension": ".py",
   "mimetype": "text/x-python",
   "name": "python",
   "nbconvert_exporter": "python",
   "pygments_lexer": "ipython3",
   "version": "3.10.13"
  },
  "papermill": {
   "default_parameters": {},
   "duration": 40.873574,
   "end_time": "2024-03-12T11:33:48.072091",
   "environment_variables": {},
   "exception": null,
   "input_path": "__notebook__.ipynb",
   "output_path": "__notebook__.ipynb",
   "parameters": {},
   "start_time": "2024-03-12T11:33:07.198517",
   "version": "2.5.0"
  }
 },
 "nbformat": 4,
 "nbformat_minor": 5
}

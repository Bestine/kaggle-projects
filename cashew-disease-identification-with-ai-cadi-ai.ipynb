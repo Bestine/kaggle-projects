{
 "cells": [
  {
   "cell_type": "code",
   "execution_count": 1,
   "id": "90e64c12",
   "metadata": {
    "_cell_guid": "b1076dfc-b9ad-4769-8c92-a6c4dae69d19",
    "_uuid": "8f2839f25d086af736a60e9eeb907d3b93b6e0e5",
    "execution": {
     "iopub.execute_input": "2023-07-13T13:48:43.973861Z",
     "iopub.status.busy": "2023-07-13T13:48:43.973075Z",
     "iopub.status.idle": "2023-07-13T13:48:49.601780Z",
     "shell.execute_reply": "2023-07-13T13:48:49.600482Z"
    },
    "papermill": {
     "duration": 5.636684,
     "end_time": "2023-07-13T13:48:49.604611",
     "exception": false,
     "start_time": "2023-07-13T13:48:43.967927",
     "status": "completed"
    },
    "tags": []
   },
   "outputs": [],
   "source": [
    "# This Python 3 environment comes with many helpful analytics libraries installed\n",
    "# It is defined by the kaggle/python Docker image: https://github.com/kaggle/docker-python\n",
    "# For example, here's several helpful packages to load\n",
    "\n",
    "import numpy as np # linear algebra\n",
    "import pandas as pd # data processing, CSV file I/O (e.g. pd.read_csv)\n",
    "\n",
    "# Input data files are available in the read-only \"../input/\" directory\n",
    "# For example, running this (by clicking run or pressing Shift+Enter) will list all files under the input directory\n",
    "\n",
    "import os\n",
    "for dirname, _, filenames in os.walk('/kaggle/input'):\n",
    "    for filename in filenames:\n",
    "        #print(os.path.join(dirname, filename))\n",
    "        pass\n",
    "\n",
    "# You can write up to 20GB to the current directory (/kaggle/working/) that gets preserved as output when you create a version using \"Save & Run All\" \n",
    "# You can also write temporary files to /kaggle/temp/, but they won't be saved outside of the current session"
   ]
  },
  {
   "cell_type": "code",
   "execution_count": 2,
   "id": "f7dd02e9",
   "metadata": {
    "execution": {
     "iopub.execute_input": "2023-07-13T13:48:49.613154Z",
     "iopub.status.busy": "2023-07-13T13:48:49.612399Z",
     "iopub.status.idle": "2023-07-13T13:48:50.711020Z",
     "shell.execute_reply": "2023-07-13T13:48:50.709728Z"
    },
    "papermill": {
     "duration": 1.105769,
     "end_time": "2023-07-13T13:48:50.713634",
     "exception": false,
     "start_time": "2023-07-13T13:48:49.607865",
     "status": "completed"
    },
    "tags": []
   },
   "outputs": [
    {
     "name": "stdout",
     "output_type": "stream",
     "text": [
      "\r\n",
      "\r\n",
      "\r\n"
     ]
    }
   ],
   "source": [
    "!cat \"/kaggle/input/cadi-ai/Data/val/val/labels/DIJ1606.txt\""
   ]
  },
  {
   "cell_type": "markdown",
   "id": "06574bbc",
   "metadata": {
    "papermill": {
     "duration": 0.003064,
     "end_time": "2023-07-13T13:48:50.719577",
     "exception": false,
     "start_time": "2023-07-13T13:48:50.716513",
     "status": "completed"
    },
    "tags": []
   },
   "source": [
    "This notebook is linked to myy [github](https://github.com/Bestine/kaggle-projects) account under apache license 2.0"
   ]
  },
  {
   "cell_type": "code",
   "execution_count": null,
   "id": "1be02492",
   "metadata": {
    "papermill": {
     "duration": 0.002305,
     "end_time": "2023-07-13T13:48:50.724574",
     "exception": false,
     "start_time": "2023-07-13T13:48:50.722269",
     "status": "completed"
    },
    "tags": []
   },
   "outputs": [],
   "source": []
  },
  {
   "cell_type": "code",
   "execution_count": null,
   "id": "987401e4",
   "metadata": {
    "papermill": {
     "duration": 0.002405,
     "end_time": "2023-07-13T13:48:50.729670",
     "exception": false,
     "start_time": "2023-07-13T13:48:50.727265",
     "status": "completed"
    },
    "tags": []
   },
   "outputs": [],
   "source": []
  }
 ],
 "metadata": {
  "kernelspec": {
   "display_name": "Python 3",
   "language": "python",
   "name": "python3"
  },
  "language_info": {
   "codemirror_mode": {
    "name": "ipython",
    "version": 3
   },
   "file_extension": ".py",
   "mimetype": "text/x-python",
   "name": "python",
   "nbconvert_exporter": "python",
   "pygments_lexer": "ipython3",
   "version": "3.10.12"
  },
  "papermill": {
   "default_parameters": {},
   "duration": 19.708574,
   "end_time": "2023-07-13T13:48:51.655850",
   "environment_variables": {},
   "exception": null,
   "input_path": "__notebook__.ipynb",
   "output_path": "__notebook__.ipynb",
   "parameters": {},
   "start_time": "2023-07-13T13:48:31.947276",
   "version": "2.4.0"
  }
 },
 "nbformat": 4,
 "nbformat_minor": 5
}

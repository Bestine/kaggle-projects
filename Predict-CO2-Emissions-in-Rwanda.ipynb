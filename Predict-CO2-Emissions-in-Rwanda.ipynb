{
 "cells": [
  {
   "cell_type": "markdown",
   "id": "99012ba5",
   "metadata": {
    "papermill": {
     "duration": 0.013327,
     "end_time": "2023-08-02T08:22:46.377662",
     "exception": false,
     "start_time": "2023-08-02T08:22:46.364335",
     "status": "completed"
    },
    "tags": []
   },
   "source": [
    "**Load the required packages and data**"
   ]
  },
  {
   "cell_type": "code",
   "execution_count": 1,
   "id": "9ed4c2a5",
   "metadata": {
    "execution": {
     "iopub.execute_input": "2023-08-02T08:22:46.405902Z",
     "iopub.status.busy": "2023-08-02T08:22:46.405092Z",
     "iopub.status.idle": "2023-08-02T08:22:46.422179Z",
     "shell.execute_reply": "2023-08-02T08:22:46.420866Z"
    },
    "papermill": {
     "duration": 0.033783,
     "end_time": "2023-08-02T08:22:46.424314",
     "exception": false,
     "start_time": "2023-08-02T08:22:46.390531",
     "status": "completed"
    },
    "tags": []
   },
   "outputs": [
    {
     "name": "stdout",
     "output_type": "stream",
     "text": [
      "/kaggle/input/playground-series-s3e20/sample_submission.csv\n",
      "/kaggle/input/playground-series-s3e20/train.csv\n",
      "/kaggle/input/playground-series-s3e20/test.csv\n"
     ]
    }
   ],
   "source": [
    "# This Python 3 environment comes with many helpful analytics libraries installed\n",
    "# It is defined by the kaggle/python Docker image: https://github.com/kaggle/docker-python\n",
    "# For example, here's several helpful packages to load\n",
    "\n",
    "import numpy as np # linear algebra\n",
    "import pandas as pd # data processing, CSV file I/O (e.g. pd.read_csv)\n",
    "\n",
    "# Input data files are available in the read-only \"../input/\" directory\n",
    "# For example, running this (by clicking run or pressing Shift+Enter) will list all files under the input directory\n",
    "\n",
    "import os\n",
    "for dirname, _, filenames in os.walk('/kaggle/input'):\n",
    "    for filename in filenames:\n",
    "        print(os.path.join(dirname, filename))\n",
    "\n",
    "# You can write up to 20GB to the current directory (/kaggle/working/) that gets preserved as output when you create a version using \"Save & Run All\" \n",
    "# You can also write temporary files to /kaggle/temp/, but they won't be saved outside of the current session"
   ]
  },
  {
   "cell_type": "code",
   "execution_count": 2,
   "id": "262ee0df",
   "metadata": {
    "execution": {
     "iopub.execute_input": "2023-08-02T08:22:46.452323Z",
     "iopub.status.busy": "2023-08-02T08:22:46.451426Z",
     "iopub.status.idle": "2023-08-02T08:22:46.459218Z",
     "shell.execute_reply": "2023-08-02T08:22:46.457818Z"
    },
    "papermill": {
     "duration": 0.024203,
     "end_time": "2023-08-02T08:22:46.461429",
     "exception": false,
     "start_time": "2023-08-02T08:22:46.437226",
     "status": "completed"
    },
    "tags": []
   },
   "outputs": [
    {
     "name": "stdout",
     "output_type": "stream",
     "text": [
      "/kaggle/input/playground-series-s3e20/sample_submission.csv\n",
      "/kaggle/input/playground-series-s3e20/train.csv\n",
      "/kaggle/input/playground-series-s3e20/test.csv\n"
     ]
    }
   ],
   "source": [
    "import os \n",
    "for dirname, _, filenames in os.walk('/kaggle/input'): \n",
    "    for filename in filenames: \n",
    "        print(os.path.join(dirname, filename))"
   ]
  },
  {
   "cell_type": "code",
   "execution_count": 3,
   "id": "42f941ea",
   "metadata": {
    "execution": {
     "iopub.execute_input": "2023-08-02T08:22:46.488682Z",
     "iopub.status.busy": "2023-08-02T08:22:46.488392Z",
     "iopub.status.idle": "2023-08-02T08:22:49.398360Z",
     "shell.execute_reply": "2023-08-02T08:22:49.397339Z"
    },
    "papermill": {
     "duration": 2.926245,
     "end_time": "2023-08-02T08:22:49.400870",
     "exception": false,
     "start_time": "2023-08-02T08:22:46.474625",
     "status": "completed"
    },
    "tags": []
   },
   "outputs": [
    {
     "name": "stderr",
     "output_type": "stream",
     "text": [
      "/opt/conda/lib/python3.10/site-packages/scipy/__init__.py:146: UserWarning: A NumPy version >=1.16.5 and <1.23.0 is required for this version of SciPy (detected version 1.23.5\n",
      "  warnings.warn(f\"A NumPy version >={np_minversion} and <{np_maxversion}\"\n"
     ]
    }
   ],
   "source": [
    "import pandas as pd\n",
    "import numpy as np\n",
    "import seaborn as sns\n",
    "from matplotlib import pyplot as plt\n",
    "from sklearn.linear_model import LinearRegression \n",
    "from sklearn.ensemble import RandomForestRegressor\n",
    "from sklearn.svm import SVR\n",
    "# from sklearn.neighbors impor\n",
    "from sklearn.model_selection import train_test_split\n",
    "from sklearn.impute import SimpleImputer\n",
    "from sklearn.metrics import r2_score, mean_squared_error\n",
    "from math import sqrt"
   ]
  },
  {
   "cell_type": "code",
   "execution_count": 4,
   "id": "895528e4",
   "metadata": {
    "execution": {
     "iopub.execute_input": "2023-08-02T08:22:49.428911Z",
     "iopub.status.busy": "2023-08-02T08:22:49.428547Z",
     "iopub.status.idle": "2023-08-02T08:22:52.488753Z",
     "shell.execute_reply": "2023-08-02T08:22:52.487831Z"
    },
    "papermill": {
     "duration": 3.076994,
     "end_time": "2023-08-02T08:22:52.491405",
     "exception": false,
     "start_time": "2023-08-02T08:22:49.414411",
     "status": "completed"
    },
    "tags": []
   },
   "outputs": [],
   "source": [
    "# Load the datasets \n",
    "df = pd.read_csv(\"/kaggle/input/playground-series-s3e20/train.csv\")\n",
    "test_df = pd.read_csv(\"/kaggle/input/playground-series-s3e20/test.csv\")\n",
    "sample_submission = pd.read_csv(\"/kaggle/input/playground-series-s3e20/sample_submission.csv\")"
   ]
  },
  {
   "cell_type": "markdown",
   "id": "a5dc0f95",
   "metadata": {
    "papermill": {
     "duration": 0.012558,
     "end_time": "2023-08-02T08:22:52.517003",
     "exception": false,
     "start_time": "2023-08-02T08:22:52.504445",
     "status": "completed"
    },
    "tags": []
   },
   "source": [
    "# Explanatory Data Analysis\n",
    "## Data Assessment"
   ]
  },
  {
   "cell_type": "code",
   "execution_count": 5,
   "id": "4a61b7a9",
   "metadata": {
    "execution": {
     "iopub.execute_input": "2023-08-02T08:22:52.544147Z",
     "iopub.status.busy": "2023-08-02T08:22:52.543822Z",
     "iopub.status.idle": "2023-08-02T08:22:52.582903Z",
     "shell.execute_reply": "2023-08-02T08:22:52.581815Z"
    },
    "papermill": {
     "duration": 0.055263,
     "end_time": "2023-08-02T08:22:52.585260",
     "exception": false,
     "start_time": "2023-08-02T08:22:52.529997",
     "status": "completed"
    },
    "tags": []
   },
   "outputs": [
    {
     "data": {
      "text/html": [
       "<div>\n",
       "<style scoped>\n",
       "    .dataframe tbody tr th:only-of-type {\n",
       "        vertical-align: middle;\n",
       "    }\n",
       "\n",
       "    .dataframe tbody tr th {\n",
       "        vertical-align: top;\n",
       "    }\n",
       "\n",
       "    .dataframe thead th {\n",
       "        text-align: right;\n",
       "    }\n",
       "</style>\n",
       "<table border=\"1\" class=\"dataframe\">\n",
       "  <thead>\n",
       "    <tr style=\"text-align: right;\">\n",
       "      <th></th>\n",
       "      <th>ID_LAT_LON_YEAR_WEEK</th>\n",
       "      <th>latitude</th>\n",
       "      <th>longitude</th>\n",
       "      <th>year</th>\n",
       "      <th>week_no</th>\n",
       "      <th>SulphurDioxide_SO2_column_number_density</th>\n",
       "      <th>SulphurDioxide_SO2_column_number_density_amf</th>\n",
       "      <th>SulphurDioxide_SO2_slant_column_number_density</th>\n",
       "      <th>SulphurDioxide_cloud_fraction</th>\n",
       "      <th>SulphurDioxide_sensor_azimuth_angle</th>\n",
       "      <th>...</th>\n",
       "      <th>Cloud_cloud_top_height</th>\n",
       "      <th>Cloud_cloud_base_pressure</th>\n",
       "      <th>Cloud_cloud_base_height</th>\n",
       "      <th>Cloud_cloud_optical_depth</th>\n",
       "      <th>Cloud_surface_albedo</th>\n",
       "      <th>Cloud_sensor_azimuth_angle</th>\n",
       "      <th>Cloud_sensor_zenith_angle</th>\n",
       "      <th>Cloud_solar_azimuth_angle</th>\n",
       "      <th>Cloud_solar_zenith_angle</th>\n",
       "      <th>emission</th>\n",
       "    </tr>\n",
       "  </thead>\n",
       "  <tbody>\n",
       "    <tr>\n",
       "      <th>0</th>\n",
       "      <td>ID_-0.510_29.290_2019_00</td>\n",
       "      <td>-0.51</td>\n",
       "      <td>29.29</td>\n",
       "      <td>2019</td>\n",
       "      <td>0</td>\n",
       "      <td>-0.000108</td>\n",
       "      <td>0.603019</td>\n",
       "      <td>-0.000065</td>\n",
       "      <td>0.255668</td>\n",
       "      <td>-98.593887</td>\n",
       "      <td>...</td>\n",
       "      <td>3664.436218</td>\n",
       "      <td>61085.809570</td>\n",
       "      <td>2615.120483</td>\n",
       "      <td>15.568533</td>\n",
       "      <td>0.272292</td>\n",
       "      <td>-12.628986</td>\n",
       "      <td>35.632416</td>\n",
       "      <td>-138.786423</td>\n",
       "      <td>30.752140</td>\n",
       "      <td>3.750994</td>\n",
       "    </tr>\n",
       "    <tr>\n",
       "      <th>1</th>\n",
       "      <td>ID_-0.510_29.290_2019_01</td>\n",
       "      <td>-0.51</td>\n",
       "      <td>29.29</td>\n",
       "      <td>2019</td>\n",
       "      <td>1</td>\n",
       "      <td>0.000021</td>\n",
       "      <td>0.728214</td>\n",
       "      <td>0.000014</td>\n",
       "      <td>0.130988</td>\n",
       "      <td>16.592861</td>\n",
       "      <td>...</td>\n",
       "      <td>3651.190311</td>\n",
       "      <td>66969.478735</td>\n",
       "      <td>3174.572424</td>\n",
       "      <td>8.690601</td>\n",
       "      <td>0.256830</td>\n",
       "      <td>30.359375</td>\n",
       "      <td>39.557633</td>\n",
       "      <td>-145.183930</td>\n",
       "      <td>27.251779</td>\n",
       "      <td>4.025176</td>\n",
       "    </tr>\n",
       "    <tr>\n",
       "      <th>2</th>\n",
       "      <td>ID_-0.510_29.290_2019_02</td>\n",
       "      <td>-0.51</td>\n",
       "      <td>29.29</td>\n",
       "      <td>2019</td>\n",
       "      <td>2</td>\n",
       "      <td>0.000514</td>\n",
       "      <td>0.748199</td>\n",
       "      <td>0.000385</td>\n",
       "      <td>0.110018</td>\n",
       "      <td>72.795837</td>\n",
       "      <td>...</td>\n",
       "      <td>4216.986492</td>\n",
       "      <td>60068.894448</td>\n",
       "      <td>3516.282669</td>\n",
       "      <td>21.103410</td>\n",
       "      <td>0.251101</td>\n",
       "      <td>15.377883</td>\n",
       "      <td>30.401823</td>\n",
       "      <td>-142.519545</td>\n",
       "      <td>26.193296</td>\n",
       "      <td>4.231381</td>\n",
       "    </tr>\n",
       "    <tr>\n",
       "      <th>3</th>\n",
       "      <td>ID_-0.510_29.290_2019_03</td>\n",
       "      <td>-0.51</td>\n",
       "      <td>29.29</td>\n",
       "      <td>2019</td>\n",
       "      <td>3</td>\n",
       "      <td>NaN</td>\n",
       "      <td>NaN</td>\n",
       "      <td>NaN</td>\n",
       "      <td>NaN</td>\n",
       "      <td>NaN</td>\n",
       "      <td>...</td>\n",
       "      <td>5228.507736</td>\n",
       "      <td>51064.547339</td>\n",
       "      <td>4180.973322</td>\n",
       "      <td>15.386899</td>\n",
       "      <td>0.262043</td>\n",
       "      <td>-11.293399</td>\n",
       "      <td>24.380357</td>\n",
       "      <td>-132.665828</td>\n",
       "      <td>28.829155</td>\n",
       "      <td>4.305286</td>\n",
       "    </tr>\n",
       "    <tr>\n",
       "      <th>4</th>\n",
       "      <td>ID_-0.510_29.290_2019_04</td>\n",
       "      <td>-0.51</td>\n",
       "      <td>29.29</td>\n",
       "      <td>2019</td>\n",
       "      <td>4</td>\n",
       "      <td>-0.000079</td>\n",
       "      <td>0.676296</td>\n",
       "      <td>-0.000048</td>\n",
       "      <td>0.121164</td>\n",
       "      <td>4.121269</td>\n",
       "      <td>...</td>\n",
       "      <td>3980.598120</td>\n",
       "      <td>63751.125781</td>\n",
       "      <td>3355.710107</td>\n",
       "      <td>8.114694</td>\n",
       "      <td>0.235847</td>\n",
       "      <td>38.532263</td>\n",
       "      <td>37.392979</td>\n",
       "      <td>-141.509805</td>\n",
       "      <td>22.204612</td>\n",
       "      <td>4.347317</td>\n",
       "    </tr>\n",
       "  </tbody>\n",
       "</table>\n",
       "<p>5 rows × 76 columns</p>\n",
       "</div>"
      ],
      "text/plain": [
       "       ID_LAT_LON_YEAR_WEEK  latitude  longitude  year  week_no  \\\n",
       "0  ID_-0.510_29.290_2019_00     -0.51      29.29  2019        0   \n",
       "1  ID_-0.510_29.290_2019_01     -0.51      29.29  2019        1   \n",
       "2  ID_-0.510_29.290_2019_02     -0.51      29.29  2019        2   \n",
       "3  ID_-0.510_29.290_2019_03     -0.51      29.29  2019        3   \n",
       "4  ID_-0.510_29.290_2019_04     -0.51      29.29  2019        4   \n",
       "\n",
       "   SulphurDioxide_SO2_column_number_density  \\\n",
       "0                                 -0.000108   \n",
       "1                                  0.000021   \n",
       "2                                  0.000514   \n",
       "3                                       NaN   \n",
       "4                                 -0.000079   \n",
       "\n",
       "   SulphurDioxide_SO2_column_number_density_amf  \\\n",
       "0                                      0.603019   \n",
       "1                                      0.728214   \n",
       "2                                      0.748199   \n",
       "3                                           NaN   \n",
       "4                                      0.676296   \n",
       "\n",
       "   SulphurDioxide_SO2_slant_column_number_density  \\\n",
       "0                                       -0.000065   \n",
       "1                                        0.000014   \n",
       "2                                        0.000385   \n",
       "3                                             NaN   \n",
       "4                                       -0.000048   \n",
       "\n",
       "   SulphurDioxide_cloud_fraction  SulphurDioxide_sensor_azimuth_angle  ...  \\\n",
       "0                       0.255668                           -98.593887  ...   \n",
       "1                       0.130988                            16.592861  ...   \n",
       "2                       0.110018                            72.795837  ...   \n",
       "3                            NaN                                  NaN  ...   \n",
       "4                       0.121164                             4.121269  ...   \n",
       "\n",
       "   Cloud_cloud_top_height  Cloud_cloud_base_pressure  Cloud_cloud_base_height  \\\n",
       "0             3664.436218               61085.809570              2615.120483   \n",
       "1             3651.190311               66969.478735              3174.572424   \n",
       "2             4216.986492               60068.894448              3516.282669   \n",
       "3             5228.507736               51064.547339              4180.973322   \n",
       "4             3980.598120               63751.125781              3355.710107   \n",
       "\n",
       "   Cloud_cloud_optical_depth  Cloud_surface_albedo  \\\n",
       "0                  15.568533              0.272292   \n",
       "1                   8.690601              0.256830   \n",
       "2                  21.103410              0.251101   \n",
       "3                  15.386899              0.262043   \n",
       "4                   8.114694              0.235847   \n",
       "\n",
       "   Cloud_sensor_azimuth_angle  Cloud_sensor_zenith_angle  \\\n",
       "0                  -12.628986                  35.632416   \n",
       "1                   30.359375                  39.557633   \n",
       "2                   15.377883                  30.401823   \n",
       "3                  -11.293399                  24.380357   \n",
       "4                   38.532263                  37.392979   \n",
       "\n",
       "   Cloud_solar_azimuth_angle  Cloud_solar_zenith_angle  emission  \n",
       "0                -138.786423                 30.752140  3.750994  \n",
       "1                -145.183930                 27.251779  4.025176  \n",
       "2                -142.519545                 26.193296  4.231381  \n",
       "3                -132.665828                 28.829155  4.305286  \n",
       "4                -141.509805                 22.204612  4.347317  \n",
       "\n",
       "[5 rows x 76 columns]"
      ]
     },
     "execution_count": 5,
     "metadata": {},
     "output_type": "execute_result"
    }
   ],
   "source": [
    "df.head()"
   ]
  },
  {
   "cell_type": "code",
   "execution_count": 6,
   "id": "8793dbd0",
   "metadata": {
    "execution": {
     "iopub.execute_input": "2023-08-02T08:22:52.615206Z",
     "iopub.status.busy": "2023-08-02T08:22:52.614895Z",
     "iopub.status.idle": "2023-08-02T08:22:52.641216Z",
     "shell.execute_reply": "2023-08-02T08:22:52.640128Z"
    },
    "papermill": {
     "duration": 0.044169,
     "end_time": "2023-08-02T08:22:52.643678",
     "exception": false,
     "start_time": "2023-08-02T08:22:52.599509",
     "status": "completed"
    },
    "tags": []
   },
   "outputs": [
    {
     "data": {
      "text/html": [
       "<div>\n",
       "<style scoped>\n",
       "    .dataframe tbody tr th:only-of-type {\n",
       "        vertical-align: middle;\n",
       "    }\n",
       "\n",
       "    .dataframe tbody tr th {\n",
       "        vertical-align: top;\n",
       "    }\n",
       "\n",
       "    .dataframe thead th {\n",
       "        text-align: right;\n",
       "    }\n",
       "</style>\n",
       "<table border=\"1\" class=\"dataframe\">\n",
       "  <thead>\n",
       "    <tr style=\"text-align: right;\">\n",
       "      <th></th>\n",
       "      <th>ID_LAT_LON_YEAR_WEEK</th>\n",
       "      <th>latitude</th>\n",
       "      <th>longitude</th>\n",
       "      <th>year</th>\n",
       "      <th>week_no</th>\n",
       "      <th>SulphurDioxide_SO2_column_number_density</th>\n",
       "      <th>SulphurDioxide_SO2_column_number_density_amf</th>\n",
       "      <th>SulphurDioxide_SO2_slant_column_number_density</th>\n",
       "      <th>SulphurDioxide_cloud_fraction</th>\n",
       "      <th>SulphurDioxide_sensor_azimuth_angle</th>\n",
       "      <th>...</th>\n",
       "      <th>Cloud_cloud_top_pressure</th>\n",
       "      <th>Cloud_cloud_top_height</th>\n",
       "      <th>Cloud_cloud_base_pressure</th>\n",
       "      <th>Cloud_cloud_base_height</th>\n",
       "      <th>Cloud_cloud_optical_depth</th>\n",
       "      <th>Cloud_surface_albedo</th>\n",
       "      <th>Cloud_sensor_azimuth_angle</th>\n",
       "      <th>Cloud_sensor_zenith_angle</th>\n",
       "      <th>Cloud_solar_azimuth_angle</th>\n",
       "      <th>Cloud_solar_zenith_angle</th>\n",
       "    </tr>\n",
       "  </thead>\n",
       "  <tbody>\n",
       "    <tr>\n",
       "      <th>0</th>\n",
       "      <td>ID_-0.510_29.290_2022_00</td>\n",
       "      <td>-0.51</td>\n",
       "      <td>29.29</td>\n",
       "      <td>2022</td>\n",
       "      <td>0</td>\n",
       "      <td>NaN</td>\n",
       "      <td>NaN</td>\n",
       "      <td>NaN</td>\n",
       "      <td>NaN</td>\n",
       "      <td>NaN</td>\n",
       "      <td>...</td>\n",
       "      <td>36022.027344</td>\n",
       "      <td>8472.313477</td>\n",
       "      <td>41047.937500</td>\n",
       "      <td>7472.313477</td>\n",
       "      <td>7.935617</td>\n",
       "      <td>0.240773</td>\n",
       "      <td>-100.113792</td>\n",
       "      <td>33.697044</td>\n",
       "      <td>-133.047546</td>\n",
       "      <td>33.779583</td>\n",
       "    </tr>\n",
       "    <tr>\n",
       "      <th>1</th>\n",
       "      <td>ID_-0.510_29.290_2022_01</td>\n",
       "      <td>-0.51</td>\n",
       "      <td>29.29</td>\n",
       "      <td>2022</td>\n",
       "      <td>1</td>\n",
       "      <td>0.000456</td>\n",
       "      <td>0.691164</td>\n",
       "      <td>0.000316</td>\n",
       "      <td>0.000000</td>\n",
       "      <td>76.239196</td>\n",
       "      <td>...</td>\n",
       "      <td>48539.737242</td>\n",
       "      <td>6476.147323</td>\n",
       "      <td>54915.708579</td>\n",
       "      <td>5476.147161</td>\n",
       "      <td>11.448437</td>\n",
       "      <td>0.293119</td>\n",
       "      <td>-30.510319</td>\n",
       "      <td>42.402593</td>\n",
       "      <td>-138.632822</td>\n",
       "      <td>31.012380</td>\n",
       "    </tr>\n",
       "    <tr>\n",
       "      <th>2</th>\n",
       "      <td>ID_-0.510_29.290_2022_02</td>\n",
       "      <td>-0.51</td>\n",
       "      <td>29.29</td>\n",
       "      <td>2022</td>\n",
       "      <td>2</td>\n",
       "      <td>0.000161</td>\n",
       "      <td>0.605107</td>\n",
       "      <td>0.000106</td>\n",
       "      <td>0.079870</td>\n",
       "      <td>-42.055341</td>\n",
       "      <td>...</td>\n",
       "      <td>34133.080469</td>\n",
       "      <td>8984.795703</td>\n",
       "      <td>39006.093750</td>\n",
       "      <td>7984.795703</td>\n",
       "      <td>10.753179</td>\n",
       "      <td>0.267130</td>\n",
       "      <td>39.087361</td>\n",
       "      <td>45.936480</td>\n",
       "      <td>-144.784988</td>\n",
       "      <td>26.743361</td>\n",
       "    </tr>\n",
       "    <tr>\n",
       "      <th>3</th>\n",
       "      <td>ID_-0.510_29.290_2022_03</td>\n",
       "      <td>-0.51</td>\n",
       "      <td>29.29</td>\n",
       "      <td>2022</td>\n",
       "      <td>3</td>\n",
       "      <td>0.000350</td>\n",
       "      <td>0.696917</td>\n",
       "      <td>0.000243</td>\n",
       "      <td>0.201028</td>\n",
       "      <td>72.169566</td>\n",
       "      <td>...</td>\n",
       "      <td>50854.991076</td>\n",
       "      <td>6014.724059</td>\n",
       "      <td>57646.368368</td>\n",
       "      <td>5014.724115</td>\n",
       "      <td>11.764556</td>\n",
       "      <td>0.304679</td>\n",
       "      <td>-24.465127</td>\n",
       "      <td>42.140419</td>\n",
       "      <td>-135.027891</td>\n",
       "      <td>29.604774</td>\n",
       "    </tr>\n",
       "    <tr>\n",
       "      <th>4</th>\n",
       "      <td>ID_-0.510_29.290_2022_04</td>\n",
       "      <td>-0.51</td>\n",
       "      <td>29.29</td>\n",
       "      <td>2022</td>\n",
       "      <td>4</td>\n",
       "      <td>-0.000317</td>\n",
       "      <td>0.580527</td>\n",
       "      <td>-0.000184</td>\n",
       "      <td>0.204352</td>\n",
       "      <td>76.190865</td>\n",
       "      <td>...</td>\n",
       "      <td>46594.685145</td>\n",
       "      <td>6849.280477</td>\n",
       "      <td>52896.541873</td>\n",
       "      <td>5849.280394</td>\n",
       "      <td>13.065317</td>\n",
       "      <td>0.284221</td>\n",
       "      <td>-12.907850</td>\n",
       "      <td>30.122641</td>\n",
       "      <td>-135.500119</td>\n",
       "      <td>26.276807</td>\n",
       "    </tr>\n",
       "  </tbody>\n",
       "</table>\n",
       "<p>5 rows × 75 columns</p>\n",
       "</div>"
      ],
      "text/plain": [
       "       ID_LAT_LON_YEAR_WEEK  latitude  longitude  year  week_no  \\\n",
       "0  ID_-0.510_29.290_2022_00     -0.51      29.29  2022        0   \n",
       "1  ID_-0.510_29.290_2022_01     -0.51      29.29  2022        1   \n",
       "2  ID_-0.510_29.290_2022_02     -0.51      29.29  2022        2   \n",
       "3  ID_-0.510_29.290_2022_03     -0.51      29.29  2022        3   \n",
       "4  ID_-0.510_29.290_2022_04     -0.51      29.29  2022        4   \n",
       "\n",
       "   SulphurDioxide_SO2_column_number_density  \\\n",
       "0                                       NaN   \n",
       "1                                  0.000456   \n",
       "2                                  0.000161   \n",
       "3                                  0.000350   \n",
       "4                                 -0.000317   \n",
       "\n",
       "   SulphurDioxide_SO2_column_number_density_amf  \\\n",
       "0                                           NaN   \n",
       "1                                      0.691164   \n",
       "2                                      0.605107   \n",
       "3                                      0.696917   \n",
       "4                                      0.580527   \n",
       "\n",
       "   SulphurDioxide_SO2_slant_column_number_density  \\\n",
       "0                                             NaN   \n",
       "1                                        0.000316   \n",
       "2                                        0.000106   \n",
       "3                                        0.000243   \n",
       "4                                       -0.000184   \n",
       "\n",
       "   SulphurDioxide_cloud_fraction  SulphurDioxide_sensor_azimuth_angle  ...  \\\n",
       "0                            NaN                                  NaN  ...   \n",
       "1                       0.000000                            76.239196  ...   \n",
       "2                       0.079870                           -42.055341  ...   \n",
       "3                       0.201028                            72.169566  ...   \n",
       "4                       0.204352                            76.190865  ...   \n",
       "\n",
       "   Cloud_cloud_top_pressure  Cloud_cloud_top_height  \\\n",
       "0              36022.027344             8472.313477   \n",
       "1              48539.737242             6476.147323   \n",
       "2              34133.080469             8984.795703   \n",
       "3              50854.991076             6014.724059   \n",
       "4              46594.685145             6849.280477   \n",
       "\n",
       "   Cloud_cloud_base_pressure  Cloud_cloud_base_height  \\\n",
       "0               41047.937500              7472.313477   \n",
       "1               54915.708579              5476.147161   \n",
       "2               39006.093750              7984.795703   \n",
       "3               57646.368368              5014.724115   \n",
       "4               52896.541873              5849.280394   \n",
       "\n",
       "   Cloud_cloud_optical_depth  Cloud_surface_albedo  \\\n",
       "0                   7.935617              0.240773   \n",
       "1                  11.448437              0.293119   \n",
       "2                  10.753179              0.267130   \n",
       "3                  11.764556              0.304679   \n",
       "4                  13.065317              0.284221   \n",
       "\n",
       "   Cloud_sensor_azimuth_angle  Cloud_sensor_zenith_angle  \\\n",
       "0                 -100.113792                  33.697044   \n",
       "1                  -30.510319                  42.402593   \n",
       "2                   39.087361                  45.936480   \n",
       "3                  -24.465127                  42.140419   \n",
       "4                  -12.907850                  30.122641   \n",
       "\n",
       "   Cloud_solar_azimuth_angle  Cloud_solar_zenith_angle  \n",
       "0                -133.047546                 33.779583  \n",
       "1                -138.632822                 31.012380  \n",
       "2                -144.784988                 26.743361  \n",
       "3                -135.027891                 29.604774  \n",
       "4                -135.500119                 26.276807  \n",
       "\n",
       "[5 rows x 75 columns]"
      ]
     },
     "execution_count": 6,
     "metadata": {},
     "output_type": "execute_result"
    }
   ],
   "source": [
    "test_df.head()"
   ]
  },
  {
   "cell_type": "code",
   "execution_count": 7,
   "id": "e6b63271",
   "metadata": {
    "execution": {
     "iopub.execute_input": "2023-08-02T08:22:52.674028Z",
     "iopub.status.busy": "2023-08-02T08:22:52.673690Z",
     "iopub.status.idle": "2023-08-02T08:22:52.680371Z",
     "shell.execute_reply": "2023-08-02T08:22:52.679402Z"
    },
    "papermill": {
     "duration": 0.023396,
     "end_time": "2023-08-02T08:22:52.682565",
     "exception": false,
     "start_time": "2023-08-02T08:22:52.659169",
     "status": "completed"
    },
    "tags": []
   },
   "outputs": [
    {
     "data": {
      "text/plain": [
       "Index(['ID_LAT_LON_YEAR_WEEK', 'latitude', 'longitude', 'year', 'week_no',\n",
       "       'SulphurDioxide_SO2_column_number_density',\n",
       "       'SulphurDioxide_SO2_column_number_density_amf',\n",
       "       'SulphurDioxide_SO2_slant_column_number_density',\n",
       "       'SulphurDioxide_cloud_fraction', 'SulphurDioxide_sensor_azimuth_angle',\n",
       "       'SulphurDioxide_sensor_zenith_angle',\n",
       "       'SulphurDioxide_solar_azimuth_angle',\n",
       "       'SulphurDioxide_solar_zenith_angle',\n",
       "       'SulphurDioxide_SO2_column_number_density_15km',\n",
       "       'CarbonMonoxide_CO_column_number_density',\n",
       "       'CarbonMonoxide_H2O_column_number_density',\n",
       "       'CarbonMonoxide_cloud_height', 'CarbonMonoxide_sensor_altitude',\n",
       "       'CarbonMonoxide_sensor_azimuth_angle',\n",
       "       'CarbonMonoxide_sensor_zenith_angle',\n",
       "       'CarbonMonoxide_solar_azimuth_angle',\n",
       "       'CarbonMonoxide_solar_zenith_angle',\n",
       "       'NitrogenDioxide_NO2_column_number_density',\n",
       "       'NitrogenDioxide_tropospheric_NO2_column_number_density',\n",
       "       'NitrogenDioxide_stratospheric_NO2_column_number_density',\n",
       "       'NitrogenDioxide_NO2_slant_column_number_density',\n",
       "       'NitrogenDioxide_tropopause_pressure',\n",
       "       'NitrogenDioxide_absorbing_aerosol_index',\n",
       "       'NitrogenDioxide_cloud_fraction', 'NitrogenDioxide_sensor_altitude',\n",
       "       'NitrogenDioxide_sensor_azimuth_angle',\n",
       "       'NitrogenDioxide_sensor_zenith_angle',\n",
       "       'NitrogenDioxide_solar_azimuth_angle',\n",
       "       'NitrogenDioxide_solar_zenith_angle',\n",
       "       'Formaldehyde_tropospheric_HCHO_column_number_density',\n",
       "       'Formaldehyde_tropospheric_HCHO_column_number_density_amf',\n",
       "       'Formaldehyde_HCHO_slant_column_number_density',\n",
       "       'Formaldehyde_cloud_fraction', 'Formaldehyde_solar_zenith_angle',\n",
       "       'Formaldehyde_solar_azimuth_angle', 'Formaldehyde_sensor_zenith_angle',\n",
       "       'Formaldehyde_sensor_azimuth_angle',\n",
       "       'UvAerosolIndex_absorbing_aerosol_index',\n",
       "       'UvAerosolIndex_sensor_altitude', 'UvAerosolIndex_sensor_azimuth_angle',\n",
       "       'UvAerosolIndex_sensor_zenith_angle',\n",
       "       'UvAerosolIndex_solar_azimuth_angle',\n",
       "       'UvAerosolIndex_solar_zenith_angle', 'Ozone_O3_column_number_density',\n",
       "       'Ozone_O3_column_number_density_amf',\n",
       "       'Ozone_O3_slant_column_number_density',\n",
       "       'Ozone_O3_effective_temperature', 'Ozone_cloud_fraction',\n",
       "       'Ozone_sensor_azimuth_angle', 'Ozone_sensor_zenith_angle',\n",
       "       'Ozone_solar_azimuth_angle', 'Ozone_solar_zenith_angle',\n",
       "       'UvAerosolLayerHeight_aerosol_height',\n",
       "       'UvAerosolLayerHeight_aerosol_pressure',\n",
       "       'UvAerosolLayerHeight_aerosol_optical_depth',\n",
       "       'UvAerosolLayerHeight_sensor_zenith_angle',\n",
       "       'UvAerosolLayerHeight_sensor_azimuth_angle',\n",
       "       'UvAerosolLayerHeight_solar_azimuth_angle',\n",
       "       'UvAerosolLayerHeight_solar_zenith_angle', 'Cloud_cloud_fraction',\n",
       "       'Cloud_cloud_top_pressure', 'Cloud_cloud_top_height',\n",
       "       'Cloud_cloud_base_pressure', 'Cloud_cloud_base_height',\n",
       "       'Cloud_cloud_optical_depth', 'Cloud_surface_albedo',\n",
       "       'Cloud_sensor_azimuth_angle', 'Cloud_sensor_zenith_angle',\n",
       "       'Cloud_solar_azimuth_angle', 'Cloud_solar_zenith_angle', 'emission'],\n",
       "      dtype='object')"
      ]
     },
     "execution_count": 7,
     "metadata": {},
     "output_type": "execute_result"
    }
   ],
   "source": [
    "df.columns"
   ]
  },
  {
   "cell_type": "code",
   "execution_count": 8,
   "id": "49adb0ca",
   "metadata": {
    "execution": {
     "iopub.execute_input": "2023-08-02T08:22:52.710906Z",
     "iopub.status.busy": "2023-08-02T08:22:52.710604Z",
     "iopub.status.idle": "2023-08-02T08:22:52.773490Z",
     "shell.execute_reply": "2023-08-02T08:22:52.772459Z"
    },
    "papermill": {
     "duration": 0.080719,
     "end_time": "2023-08-02T08:22:52.776891",
     "exception": false,
     "start_time": "2023-08-02T08:22:52.696172",
     "status": "completed"
    },
    "tags": []
   },
   "outputs": [
    {
     "name": "stdout",
     "output_type": "stream",
     "text": [
      "<class 'pandas.core.frame.DataFrame'>\n",
      "RangeIndex: 79023 entries, 0 to 79022\n",
      "Data columns (total 76 columns):\n",
      " #   Column                                                    Non-Null Count  Dtype  \n",
      "---  ------                                                    --------------  -----  \n",
      " 0   ID_LAT_LON_YEAR_WEEK                                      79023 non-null  object \n",
      " 1   latitude                                                  79023 non-null  float64\n",
      " 2   longitude                                                 79023 non-null  float64\n",
      " 3   year                                                      79023 non-null  int64  \n",
      " 4   week_no                                                   79023 non-null  int64  \n",
      " 5   SulphurDioxide_SO2_column_number_density                  64414 non-null  float64\n",
      " 6   SulphurDioxide_SO2_column_number_density_amf              64414 non-null  float64\n",
      " 7   SulphurDioxide_SO2_slant_column_number_density            64414 non-null  float64\n",
      " 8   SulphurDioxide_cloud_fraction                             64414 non-null  float64\n",
      " 9   SulphurDioxide_sensor_azimuth_angle                       64414 non-null  float64\n",
      " 10  SulphurDioxide_sensor_zenith_angle                        64414 non-null  float64\n",
      " 11  SulphurDioxide_solar_azimuth_angle                        64414 non-null  float64\n",
      " 12  SulphurDioxide_solar_zenith_angle                         64414 non-null  float64\n",
      " 13  SulphurDioxide_SO2_column_number_density_15km             64414 non-null  float64\n",
      " 14  CarbonMonoxide_CO_column_number_density                   76901 non-null  float64\n",
      " 15  CarbonMonoxide_H2O_column_number_density                  76901 non-null  float64\n",
      " 16  CarbonMonoxide_cloud_height                               76901 non-null  float64\n",
      " 17  CarbonMonoxide_sensor_altitude                            76901 non-null  float64\n",
      " 18  CarbonMonoxide_sensor_azimuth_angle                       76901 non-null  float64\n",
      " 19  CarbonMonoxide_sensor_zenith_angle                        76901 non-null  float64\n",
      " 20  CarbonMonoxide_solar_azimuth_angle                        76901 non-null  float64\n",
      " 21  CarbonMonoxide_solar_zenith_angle                         76901 non-null  float64\n",
      " 22  NitrogenDioxide_NO2_column_number_density                 60703 non-null  float64\n",
      " 23  NitrogenDioxide_tropospheric_NO2_column_number_density    60703 non-null  float64\n",
      " 24  NitrogenDioxide_stratospheric_NO2_column_number_density   60703 non-null  float64\n",
      " 25  NitrogenDioxide_NO2_slant_column_number_density           60703 non-null  float64\n",
      " 26  NitrogenDioxide_tropopause_pressure                       60703 non-null  float64\n",
      " 27  NitrogenDioxide_absorbing_aerosol_index                   60703 non-null  float64\n",
      " 28  NitrogenDioxide_cloud_fraction                            60703 non-null  float64\n",
      " 29  NitrogenDioxide_sensor_altitude                           60703 non-null  float64\n",
      " 30  NitrogenDioxide_sensor_azimuth_angle                      60703 non-null  float64\n",
      " 31  NitrogenDioxide_sensor_zenith_angle                       60703 non-null  float64\n",
      " 32  NitrogenDioxide_solar_azimuth_angle                       60703 non-null  float64\n",
      " 33  NitrogenDioxide_solar_zenith_angle                        60703 non-null  float64\n",
      " 34  Formaldehyde_tropospheric_HCHO_column_number_density      71746 non-null  float64\n",
      " 35  Formaldehyde_tropospheric_HCHO_column_number_density_amf  71746 non-null  float64\n",
      " 36  Formaldehyde_HCHO_slant_column_number_density             71746 non-null  float64\n",
      " 37  Formaldehyde_cloud_fraction                               71746 non-null  float64\n",
      " 38  Formaldehyde_solar_zenith_angle                           71746 non-null  float64\n",
      " 39  Formaldehyde_solar_azimuth_angle                          71746 non-null  float64\n",
      " 40  Formaldehyde_sensor_zenith_angle                          71746 non-null  float64\n",
      " 41  Formaldehyde_sensor_azimuth_angle                         71746 non-null  float64\n",
      " 42  UvAerosolIndex_absorbing_aerosol_index                    78484 non-null  float64\n",
      " 43  UvAerosolIndex_sensor_altitude                            78484 non-null  float64\n",
      " 44  UvAerosolIndex_sensor_azimuth_angle                       78484 non-null  float64\n",
      " 45  UvAerosolIndex_sensor_zenith_angle                        78484 non-null  float64\n",
      " 46  UvAerosolIndex_solar_azimuth_angle                        78484 non-null  float64\n",
      " 47  UvAerosolIndex_solar_zenith_angle                         78484 non-null  float64\n",
      " 48  Ozone_O3_column_number_density                            78475 non-null  float64\n",
      " 49  Ozone_O3_column_number_density_amf                        78475 non-null  float64\n",
      " 50  Ozone_O3_slant_column_number_density                      78475 non-null  float64\n",
      " 51  Ozone_O3_effective_temperature                            78475 non-null  float64\n",
      " 52  Ozone_cloud_fraction                                      78475 non-null  float64\n",
      " 53  Ozone_sensor_azimuth_angle                                78475 non-null  float64\n",
      " 54  Ozone_sensor_zenith_angle                                 78475 non-null  float64\n",
      " 55  Ozone_solar_azimuth_angle                                 78475 non-null  float64\n",
      " 56  Ozone_solar_zenith_angle                                  78475 non-null  float64\n",
      " 57  UvAerosolLayerHeight_aerosol_height                       439 non-null    float64\n",
      " 58  UvAerosolLayerHeight_aerosol_pressure                     439 non-null    float64\n",
      " 59  UvAerosolLayerHeight_aerosol_optical_depth                439 non-null    float64\n",
      " 60  UvAerosolLayerHeight_sensor_zenith_angle                  439 non-null    float64\n",
      " 61  UvAerosolLayerHeight_sensor_azimuth_angle                 439 non-null    float64\n",
      " 62  UvAerosolLayerHeight_solar_azimuth_angle                  439 non-null    float64\n",
      " 63  UvAerosolLayerHeight_solar_zenith_angle                   439 non-null    float64\n",
      " 64  Cloud_cloud_fraction                                      78539 non-null  float64\n",
      " 65  Cloud_cloud_top_pressure                                  78539 non-null  float64\n",
      " 66  Cloud_cloud_top_height                                    78539 non-null  float64\n",
      " 67  Cloud_cloud_base_pressure                                 78539 non-null  float64\n",
      " 68  Cloud_cloud_base_height                                   78539 non-null  float64\n",
      " 69  Cloud_cloud_optical_depth                                 78539 non-null  float64\n",
      " 70  Cloud_surface_albedo                                      78539 non-null  float64\n",
      " 71  Cloud_sensor_azimuth_angle                                78539 non-null  float64\n",
      " 72  Cloud_sensor_zenith_angle                                 78539 non-null  float64\n",
      " 73  Cloud_solar_azimuth_angle                                 78539 non-null  float64\n",
      " 74  Cloud_solar_zenith_angle                                  78539 non-null  float64\n",
      " 75  emission                                                  79023 non-null  float64\n",
      "dtypes: float64(73), int64(2), object(1)\n",
      "memory usage: 45.8+ MB\n"
     ]
    }
   ],
   "source": [
    "df.info()"
   ]
  },
  {
   "cell_type": "markdown",
   "id": "5bd71ff4",
   "metadata": {
    "papermill": {
     "duration": 0.01383,
     "end_time": "2023-08-02T08:22:52.805850",
     "exception": false,
     "start_time": "2023-08-02T08:22:52.792020",
     "status": "completed"
    },
    "tags": []
   },
   "source": [
    "## Data Wrangling "
   ]
  },
  {
   "cell_type": "code",
   "execution_count": 9,
   "id": "60a3a7f2",
   "metadata": {
    "execution": {
     "iopub.execute_input": "2023-08-02T08:22:52.834426Z",
     "iopub.status.busy": "2023-08-02T08:22:52.834063Z",
     "iopub.status.idle": "2023-08-02T08:22:52.860881Z",
     "shell.execute_reply": "2023-08-02T08:22:52.859778Z"
    },
    "papermill": {
     "duration": 0.043603,
     "end_time": "2023-08-02T08:22:52.863160",
     "exception": false,
     "start_time": "2023-08-02T08:22:52.819557",
     "status": "completed"
    },
    "tags": []
   },
   "outputs": [
    {
     "data": {
      "text/plain": [
       "Index(['latitude', 'longitude', 'year', 'week_no',\n",
       "       'SulphurDioxide_SO2_column_number_density',\n",
       "       'SulphurDioxide_SO2_column_number_density_amf',\n",
       "       'SulphurDioxide_SO2_slant_column_number_density',\n",
       "       'SulphurDioxide_cloud_fraction', 'SulphurDioxide_sensor_azimuth_angle',\n",
       "       'SulphurDioxide_sensor_zenith_angle',\n",
       "       'SulphurDioxide_solar_azimuth_angle',\n",
       "       'SulphurDioxide_solar_zenith_angle',\n",
       "       'SulphurDioxide_SO2_column_number_density_15km',\n",
       "       'CarbonMonoxide_CO_column_number_density',\n",
       "       'CarbonMonoxide_H2O_column_number_density',\n",
       "       'CarbonMonoxide_cloud_height', 'CarbonMonoxide_sensor_altitude',\n",
       "       'CarbonMonoxide_sensor_azimuth_angle',\n",
       "       'CarbonMonoxide_sensor_zenith_angle',\n",
       "       'CarbonMonoxide_solar_azimuth_angle',\n",
       "       'CarbonMonoxide_solar_zenith_angle',\n",
       "       'NitrogenDioxide_NO2_column_number_density',\n",
       "       'NitrogenDioxide_tropospheric_NO2_column_number_density',\n",
       "       'NitrogenDioxide_stratospheric_NO2_column_number_density',\n",
       "       'NitrogenDioxide_NO2_slant_column_number_density',\n",
       "       'NitrogenDioxide_tropopause_pressure',\n",
       "       'NitrogenDioxide_absorbing_aerosol_index',\n",
       "       'NitrogenDioxide_cloud_fraction', 'NitrogenDioxide_sensor_altitude',\n",
       "       'NitrogenDioxide_sensor_azimuth_angle',\n",
       "       'NitrogenDioxide_sensor_zenith_angle',\n",
       "       'NitrogenDioxide_solar_azimuth_angle',\n",
       "       'NitrogenDioxide_solar_zenith_angle',\n",
       "       'Formaldehyde_tropospheric_HCHO_column_number_density',\n",
       "       'Formaldehyde_tropospheric_HCHO_column_number_density_amf',\n",
       "       'Formaldehyde_HCHO_slant_column_number_density',\n",
       "       'Formaldehyde_cloud_fraction', 'Formaldehyde_solar_zenith_angle',\n",
       "       'Formaldehyde_solar_azimuth_angle', 'Formaldehyde_sensor_zenith_angle',\n",
       "       'Formaldehyde_sensor_azimuth_angle',\n",
       "       'UvAerosolIndex_absorbing_aerosol_index',\n",
       "       'UvAerosolIndex_sensor_altitude', 'UvAerosolIndex_sensor_azimuth_angle',\n",
       "       'UvAerosolIndex_sensor_zenith_angle',\n",
       "       'UvAerosolIndex_solar_azimuth_angle',\n",
       "       'UvAerosolIndex_solar_zenith_angle', 'Ozone_O3_column_number_density',\n",
       "       'Ozone_O3_column_number_density_amf',\n",
       "       'Ozone_O3_slant_column_number_density',\n",
       "       'Ozone_O3_effective_temperature', 'Ozone_cloud_fraction',\n",
       "       'Ozone_sensor_azimuth_angle', 'Ozone_sensor_zenith_angle',\n",
       "       'Ozone_solar_azimuth_angle', 'Ozone_solar_zenith_angle',\n",
       "       'UvAerosolLayerHeight_aerosol_height',\n",
       "       'UvAerosolLayerHeight_aerosol_pressure',\n",
       "       'UvAerosolLayerHeight_aerosol_optical_depth',\n",
       "       'UvAerosolLayerHeight_sensor_zenith_angle',\n",
       "       'UvAerosolLayerHeight_sensor_azimuth_angle',\n",
       "       'UvAerosolLayerHeight_solar_azimuth_angle',\n",
       "       'UvAerosolLayerHeight_solar_zenith_angle', 'Cloud_cloud_fraction',\n",
       "       'Cloud_cloud_top_pressure', 'Cloud_cloud_top_height',\n",
       "       'Cloud_cloud_base_pressure', 'Cloud_cloud_base_height',\n",
       "       'Cloud_cloud_optical_depth', 'Cloud_surface_albedo',\n",
       "       'Cloud_sensor_azimuth_angle', 'Cloud_sensor_zenith_angle',\n",
       "       'Cloud_solar_azimuth_angle', 'Cloud_solar_zenith_angle', 'emission'],\n",
       "      dtype='object')"
      ]
     },
     "execution_count": 9,
     "metadata": {},
     "output_type": "execute_result"
    }
   ],
   "source": [
    "# Remove the id column \n",
    "df.drop(\"ID_LAT_LON_YEAR_WEEK\", axis=1, inplace=True)\n",
    "df.columns"
   ]
  },
  {
   "cell_type": "code",
   "execution_count": 10,
   "id": "2fac58f5",
   "metadata": {
    "execution": {
     "iopub.execute_input": "2023-08-02T08:22:52.894172Z",
     "iopub.status.busy": "2023-08-02T08:22:52.893541Z",
     "iopub.status.idle": "2023-08-02T08:22:52.923871Z",
     "shell.execute_reply": "2023-08-02T08:22:52.922767Z"
    },
    "papermill": {
     "duration": 0.048183,
     "end_time": "2023-08-02T08:22:52.926354",
     "exception": false,
     "start_time": "2023-08-02T08:22:52.878171",
     "status": "completed"
    },
    "tags": []
   },
   "outputs": [],
   "source": [
    "# drop columns with more than 30% null values \n",
    "limitPer = len(df) * .15\n",
    "df.dropna(thresh=limitPer, axis=1, inplace=True)"
   ]
  },
  {
   "cell_type": "code",
   "execution_count": 11,
   "id": "238aab83",
   "metadata": {
    "execution": {
     "iopub.execute_input": "2023-08-02T08:22:52.959001Z",
     "iopub.status.busy": "2023-08-02T08:22:52.957525Z",
     "iopub.status.idle": "2023-08-02T08:22:52.987191Z",
     "shell.execute_reply": "2023-08-02T08:22:52.986171Z"
    },
    "papermill": {
     "duration": 0.047178,
     "end_time": "2023-08-02T08:22:52.989694",
     "exception": false,
     "start_time": "2023-08-02T08:22:52.942516",
     "status": "completed"
    },
    "tags": []
   },
   "outputs": [
    {
     "data": {
      "text/plain": [
       "latitude                                    0\n",
       "longitude                                   0\n",
       "year                                        0\n",
       "week_no                                     0\n",
       "SulphurDioxide_SO2_column_number_density    0\n",
       "                                           ..\n",
       "Cloud_sensor_azimuth_angle                  0\n",
       "Cloud_sensor_zenith_angle                   0\n",
       "Cloud_solar_azimuth_angle                   0\n",
       "Cloud_solar_zenith_angle                    0\n",
       "emission                                    0\n",
       "Length: 68, dtype: int64"
      ]
     },
     "execution_count": 11,
     "metadata": {},
     "output_type": "execute_result"
    }
   ],
   "source": [
    "# drop all null values then\n",
    "df.dropna(axis=0, how='any', inplace=True)\n",
    "# confirm the operation\n",
    "df.isna().sum()"
   ]
  },
  {
   "cell_type": "code",
   "execution_count": 12,
   "id": "9b07e139",
   "metadata": {
    "execution": {
     "iopub.execute_input": "2023-08-02T08:22:53.019278Z",
     "iopub.status.busy": "2023-08-02T08:22:53.018990Z",
     "iopub.status.idle": "2023-08-02T08:22:53.024702Z",
     "shell.execute_reply": "2023-08-02T08:22:53.023859Z"
    },
    "papermill": {
     "duration": 0.022707,
     "end_time": "2023-08-02T08:22:53.026611",
     "exception": false,
     "start_time": "2023-08-02T08:22:53.003904",
     "status": "completed"
    },
    "tags": []
   },
   "outputs": [
    {
     "data": {
      "text/plain": [
       "(57209, 68)"
      ]
     },
     "execution_count": 12,
     "metadata": {},
     "output_type": "execute_result"
    }
   ],
   "source": [
    "df.shape"
   ]
  },
  {
   "cell_type": "markdown",
   "id": "847fc47e",
   "metadata": {
    "papermill": {
     "duration": 0.013846,
     "end_time": "2023-08-02T08:22:53.054684",
     "exception": false,
     "start_time": "2023-08-02T08:22:53.040838",
     "status": "completed"
    },
    "tags": []
   },
   "source": [
    "## Data Analysis and Visualization"
   ]
  },
  {
   "cell_type": "code",
   "execution_count": null,
   "id": "3f064cc6",
   "metadata": {
    "papermill": {
     "duration": 0.013939,
     "end_time": "2023-08-02T08:22:53.082561",
     "exception": false,
     "start_time": "2023-08-02T08:22:53.068622",
     "status": "completed"
    },
    "tags": []
   },
   "outputs": [],
   "source": []
  },
  {
   "cell_type": "markdown",
   "id": "3c33e87e",
   "metadata": {
    "papermill": {
     "duration": 0.014196,
     "end_time": "2023-08-02T08:22:53.110625",
     "exception": false,
     "start_time": "2023-08-02T08:22:53.096429",
     "status": "completed"
    },
    "tags": []
   },
   "source": [
    "# Machine Learning\n",
    "## Data Preprocessing "
   ]
  },
  {
   "cell_type": "markdown",
   "id": "12b28e63",
   "metadata": {
    "papermill": {
     "duration": 0.014291,
     "end_time": "2023-08-02T08:22:53.139252",
     "exception": false,
     "start_time": "2023-08-02T08:22:53.124961",
     "status": "completed"
    },
    "tags": []
   },
   "source": [
    "**Split into dependent and independent datasets**"
   ]
  },
  {
   "cell_type": "code",
   "execution_count": 13,
   "id": "69de4bca",
   "metadata": {
    "execution": {
     "iopub.execute_input": "2023-08-02T08:22:53.172212Z",
     "iopub.status.busy": "2023-08-02T08:22:53.171193Z",
     "iopub.status.idle": "2023-08-02T08:22:53.187908Z",
     "shell.execute_reply": "2023-08-02T08:22:53.186938Z"
    },
    "papermill": {
     "duration": 0.035792,
     "end_time": "2023-08-02T08:22:53.190087",
     "exception": false,
     "start_time": "2023-08-02T08:22:53.154295",
     "status": "completed"
    },
    "tags": []
   },
   "outputs": [],
   "source": [
    "X = df.drop(\"emission\", axis=1)\n",
    "y = df[\"emission\"]"
   ]
  },
  {
   "cell_type": "code",
   "execution_count": 14,
   "id": "2cf5dc5c",
   "metadata": {
    "execution": {
     "iopub.execute_input": "2023-08-02T08:22:53.221617Z",
     "iopub.status.busy": "2023-08-02T08:22:53.220738Z",
     "iopub.status.idle": "2023-08-02T08:22:53.225458Z",
     "shell.execute_reply": "2023-08-02T08:22:53.224160Z"
    },
    "papermill": {
     "duration": 0.022011,
     "end_time": "2023-08-02T08:22:53.227501",
     "exception": false,
     "start_time": "2023-08-02T08:22:53.205490",
     "status": "completed"
    },
    "tags": []
   },
   "outputs": [],
   "source": [
    "# imputer = SimpleImputer(missing_values=np.nan, strategy='mean')\n",
    "# imputer = imputer.fit(X)\n",
    "  \n",
    "# X = imputer.transform(X)\n",
    "# X"
   ]
  },
  {
   "cell_type": "markdown",
   "id": "d88d3c04",
   "metadata": {
    "papermill": {
     "duration": 0.014443,
     "end_time": "2023-08-02T08:22:53.256269",
     "exception": false,
     "start_time": "2023-08-02T08:22:53.241826",
     "status": "completed"
    },
    "tags": []
   },
   "source": [
    "**Split the data into train and validation datasets**"
   ]
  },
  {
   "cell_type": "code",
   "execution_count": 15,
   "id": "2c86c227",
   "metadata": {
    "execution": {
     "iopub.execute_input": "2023-08-02T08:22:53.286931Z",
     "iopub.status.busy": "2023-08-02T08:22:53.286600Z",
     "iopub.status.idle": "2023-08-02T08:22:53.320569Z",
     "shell.execute_reply": "2023-08-02T08:22:53.319440Z"
    },
    "papermill": {
     "duration": 0.051807,
     "end_time": "2023-08-02T08:22:53.323007",
     "exception": false,
     "start_time": "2023-08-02T08:22:53.271200",
     "status": "completed"
    },
    "tags": []
   },
   "outputs": [],
   "source": [
    "X_train, X_val, y_train, y_val = train_test_split(X, y, test_size=0.25)"
   ]
  },
  {
   "cell_type": "markdown",
   "id": "ab8c84c4",
   "metadata": {
    "papermill": {
     "duration": 0.014275,
     "end_time": "2023-08-02T08:22:53.351892",
     "exception": false,
     "start_time": "2023-08-02T08:22:53.337617",
     "status": "completed"
    },
    "tags": []
   },
   "source": [
    "## Models \n",
    "### Linear Regression\n"
   ]
  },
  {
   "cell_type": "code",
   "execution_count": 16,
   "id": "fb098001",
   "metadata": {
    "execution": {
     "iopub.execute_input": "2023-08-02T08:22:53.383031Z",
     "iopub.status.busy": "2023-08-02T08:22:53.381526Z",
     "iopub.status.idle": "2023-08-02T08:22:53.386263Z",
     "shell.execute_reply": "2023-08-02T08:22:53.385348Z"
    },
    "papermill": {
     "duration": 0.022089,
     "end_time": "2023-08-02T08:22:53.388216",
     "exception": false,
     "start_time": "2023-08-02T08:22:53.366127",
     "status": "completed"
    },
    "tags": []
   },
   "outputs": [],
   "source": [
    "# Fit the model to train dataset\n",
    "# lr = LinearRegression()\n",
    "\n",
    "# lr.fit(X_train, y_train)"
   ]
  },
  {
   "cell_type": "code",
   "execution_count": 17,
   "id": "abdd28ef",
   "metadata": {
    "execution": {
     "iopub.execute_input": "2023-08-02T08:22:53.418003Z",
     "iopub.status.busy": "2023-08-02T08:22:53.417498Z",
     "iopub.status.idle": "2023-08-02T08:22:53.421504Z",
     "shell.execute_reply": "2023-08-02T08:22:53.420572Z"
    },
    "papermill": {
     "duration": 0.021082,
     "end_time": "2023-08-02T08:22:53.423523",
     "exception": false,
     "start_time": "2023-08-02T08:22:53.402441",
     "status": "completed"
    },
    "tags": []
   },
   "outputs": [],
   "source": [
    "# # Do the predictions\n",
    "# y_pred = lr.predict(X_val)\n",
    "# y_pred"
   ]
  },
  {
   "cell_type": "markdown",
   "id": "9fe80952",
   "metadata": {
    "papermill": {
     "duration": 0.013826,
     "end_time": "2023-08-02T08:22:53.451405",
     "exception": false,
     "start_time": "2023-08-02T08:22:53.437579",
     "status": "completed"
    },
    "tags": []
   },
   "source": [
    "**Evaluate linear regression**"
   ]
  },
  {
   "cell_type": "code",
   "execution_count": 18,
   "id": "58c69394",
   "metadata": {
    "execution": {
     "iopub.execute_input": "2023-08-02T08:22:53.482020Z",
     "iopub.status.busy": "2023-08-02T08:22:53.480475Z",
     "iopub.status.idle": "2023-08-02T08:22:53.485018Z",
     "shell.execute_reply": "2023-08-02T08:22:53.484168Z"
    },
    "papermill": {
     "duration": 0.021739,
     "end_time": "2023-08-02T08:22:53.487073",
     "exception": false,
     "start_time": "2023-08-02T08:22:53.465334",
     "status": "completed"
    },
    "tags": []
   },
   "outputs": [],
   "source": [
    "# # Accuracy\n",
    "# r2_score(y_val, y_pred)"
   ]
  },
  {
   "cell_type": "code",
   "execution_count": 19,
   "id": "8002a8f5",
   "metadata": {
    "execution": {
     "iopub.execute_input": "2023-08-02T08:22:53.517342Z",
     "iopub.status.busy": "2023-08-02T08:22:53.516455Z",
     "iopub.status.idle": "2023-08-02T08:22:53.520984Z",
     "shell.execute_reply": "2023-08-02T08:22:53.520014Z"
    },
    "papermill": {
     "duration": 0.021607,
     "end_time": "2023-08-02T08:22:53.523137",
     "exception": false,
     "start_time": "2023-08-02T08:22:53.501530",
     "status": "completed"
    },
    "tags": []
   },
   "outputs": [],
   "source": [
    "# sqrt(mean_squared_error(y_val, y_pred))"
   ]
  },
  {
   "cell_type": "markdown",
   "id": "6f956c85",
   "metadata": {
    "papermill": {
     "duration": 0.014106,
     "end_time": "2023-08-02T08:22:53.551756",
     "exception": false,
     "start_time": "2023-08-02T08:22:53.537650",
     "status": "completed"
    },
    "tags": []
   },
   "source": [
    "### Support Vector Machine regressor"
   ]
  },
  {
   "cell_type": "code",
   "execution_count": 20,
   "id": "8f01e861",
   "metadata": {
    "execution": {
     "iopub.execute_input": "2023-08-02T08:22:53.581903Z",
     "iopub.status.busy": "2023-08-02T08:22:53.581584Z",
     "iopub.status.idle": "2023-08-02T08:22:53.586363Z",
     "shell.execute_reply": "2023-08-02T08:22:53.584835Z"
    },
    "papermill": {
     "duration": 0.022284,
     "end_time": "2023-08-02T08:22:53.588422",
     "exception": false,
     "start_time": "2023-08-02T08:22:53.566138",
     "status": "completed"
    },
    "tags": []
   },
   "outputs": [],
   "source": [
    "# # Fit the model to train dataset\n",
    "# svr = SVR()\n",
    "\n",
    "# svr.fit(X_train, y_train)"
   ]
  },
  {
   "cell_type": "markdown",
   "id": "4a0023bd",
   "metadata": {
    "papermill": {
     "duration": 0.013963,
     "end_time": "2023-08-02T08:22:53.617125",
     "exception": false,
     "start_time": "2023-08-02T08:22:53.603162",
     "status": "completed"
    },
    "tags": []
   },
   "source": [
    "**Evaluate SVM regressor**"
   ]
  },
  {
   "cell_type": "code",
   "execution_count": 21,
   "id": "a2927217",
   "metadata": {
    "execution": {
     "iopub.execute_input": "2023-08-02T08:22:53.646682Z",
     "iopub.status.busy": "2023-08-02T08:22:53.646392Z",
     "iopub.status.idle": "2023-08-02T08:22:53.650423Z",
     "shell.execute_reply": "2023-08-02T08:22:53.649299Z"
    },
    "papermill": {
     "duration": 0.021671,
     "end_time": "2023-08-02T08:22:53.653036",
     "exception": false,
     "start_time": "2023-08-02T08:22:53.631365",
     "status": "completed"
    },
    "tags": []
   },
   "outputs": [],
   "source": [
    "# # Do the predictions\n",
    "# y_pred = svr.predict(X_val)\n",
    "\n",
    "# # Accuracy\n",
    "# r2_score(y_val, y_pred)"
   ]
  },
  {
   "cell_type": "code",
   "execution_count": 22,
   "id": "28a15f01",
   "metadata": {
    "execution": {
     "iopub.execute_input": "2023-08-02T08:22:53.682772Z",
     "iopub.status.busy": "2023-08-02T08:22:53.682509Z",
     "iopub.status.idle": "2023-08-02T08:22:53.687702Z",
     "shell.execute_reply": "2023-08-02T08:22:53.686852Z"
    },
    "papermill": {
     "duration": 0.022656,
     "end_time": "2023-08-02T08:22:53.689699",
     "exception": false,
     "start_time": "2023-08-02T08:22:53.667043",
     "status": "completed"
    },
    "tags": []
   },
   "outputs": [],
   "source": [
    "# sqrt(mean_squared_error(y_val, y_pred))"
   ]
  },
  {
   "cell_type": "markdown",
   "id": "4c147abe",
   "metadata": {
    "papermill": {
     "duration": 0.013894,
     "end_time": "2023-08-02T08:22:53.718085",
     "exception": false,
     "start_time": "2023-08-02T08:22:53.704191",
     "status": "completed"
    },
    "tags": []
   },
   "source": [
    "### Random Forest Regressor"
   ]
  },
  {
   "cell_type": "code",
   "execution_count": 23,
   "id": "995bac34",
   "metadata": {
    "execution": {
     "iopub.execute_input": "2023-08-02T08:22:53.747744Z",
     "iopub.status.busy": "2023-08-02T08:22:53.747460Z",
     "iopub.status.idle": "2023-08-02T08:28:15.564721Z",
     "shell.execute_reply": "2023-08-02T08:28:15.563751Z"
    },
    "papermill": {
     "duration": 321.847172,
     "end_time": "2023-08-02T08:28:15.579287",
     "exception": false,
     "start_time": "2023-08-02T08:22:53.732115",
     "status": "completed"
    },
    "tags": []
   },
   "outputs": [
    {
     "data": {
      "text/html": [
       "<style>#sk-container-id-1 {color: black;background-color: white;}#sk-container-id-1 pre{padding: 0;}#sk-container-id-1 div.sk-toggleable {background-color: white;}#sk-container-id-1 label.sk-toggleable__label {cursor: pointer;display: block;width: 100%;margin-bottom: 0;padding: 0.3em;box-sizing: border-box;text-align: center;}#sk-container-id-1 label.sk-toggleable__label-arrow:before {content: \"▸\";float: left;margin-right: 0.25em;color: #696969;}#sk-container-id-1 label.sk-toggleable__label-arrow:hover:before {color: black;}#sk-container-id-1 div.sk-estimator:hover label.sk-toggleable__label-arrow:before {color: black;}#sk-container-id-1 div.sk-toggleable__content {max-height: 0;max-width: 0;overflow: hidden;text-align: left;background-color: #f0f8ff;}#sk-container-id-1 div.sk-toggleable__content pre {margin: 0.2em;color: black;border-radius: 0.25em;background-color: #f0f8ff;}#sk-container-id-1 input.sk-toggleable__control:checked~div.sk-toggleable__content {max-height: 200px;max-width: 100%;overflow: auto;}#sk-container-id-1 input.sk-toggleable__control:checked~label.sk-toggleable__label-arrow:before {content: \"▾\";}#sk-container-id-1 div.sk-estimator input.sk-toggleable__control:checked~label.sk-toggleable__label {background-color: #d4ebff;}#sk-container-id-1 div.sk-label input.sk-toggleable__control:checked~label.sk-toggleable__label {background-color: #d4ebff;}#sk-container-id-1 input.sk-hidden--visually {border: 0;clip: rect(1px 1px 1px 1px);clip: rect(1px, 1px, 1px, 1px);height: 1px;margin: -1px;overflow: hidden;padding: 0;position: absolute;width: 1px;}#sk-container-id-1 div.sk-estimator {font-family: monospace;background-color: #f0f8ff;border: 1px dotted black;border-radius: 0.25em;box-sizing: border-box;margin-bottom: 0.5em;}#sk-container-id-1 div.sk-estimator:hover {background-color: #d4ebff;}#sk-container-id-1 div.sk-parallel-item::after {content: \"\";width: 100%;border-bottom: 1px solid gray;flex-grow: 1;}#sk-container-id-1 div.sk-label:hover label.sk-toggleable__label {background-color: #d4ebff;}#sk-container-id-1 div.sk-serial::before {content: \"\";position: absolute;border-left: 1px solid gray;box-sizing: border-box;top: 0;bottom: 0;left: 50%;z-index: 0;}#sk-container-id-1 div.sk-serial {display: flex;flex-direction: column;align-items: center;background-color: white;padding-right: 0.2em;padding-left: 0.2em;position: relative;}#sk-container-id-1 div.sk-item {position: relative;z-index: 1;}#sk-container-id-1 div.sk-parallel {display: flex;align-items: stretch;justify-content: center;background-color: white;position: relative;}#sk-container-id-1 div.sk-item::before, #sk-container-id-1 div.sk-parallel-item::before {content: \"\";position: absolute;border-left: 1px solid gray;box-sizing: border-box;top: 0;bottom: 0;left: 50%;z-index: -1;}#sk-container-id-1 div.sk-parallel-item {display: flex;flex-direction: column;z-index: 1;position: relative;background-color: white;}#sk-container-id-1 div.sk-parallel-item:first-child::after {align-self: flex-end;width: 50%;}#sk-container-id-1 div.sk-parallel-item:last-child::after {align-self: flex-start;width: 50%;}#sk-container-id-1 div.sk-parallel-item:only-child::after {width: 0;}#sk-container-id-1 div.sk-dashed-wrapped {border: 1px dashed gray;margin: 0 0.4em 0.5em 0.4em;box-sizing: border-box;padding-bottom: 0.4em;background-color: white;}#sk-container-id-1 div.sk-label label {font-family: monospace;font-weight: bold;display: inline-block;line-height: 1.2em;}#sk-container-id-1 div.sk-label-container {text-align: center;}#sk-container-id-1 div.sk-container {/* jupyter's `normalize.less` sets `[hidden] { display: none; }` but bootstrap.min.css set `[hidden] { display: none !important; }` so we also need the `!important` here to be able to override the default hidden behavior on the sphinx rendered scikit-learn.org. See: https://github.com/scikit-learn/scikit-learn/issues/21755 */display: inline-block !important;position: relative;}#sk-container-id-1 div.sk-text-repr-fallback {display: none;}</style><div id=\"sk-container-id-1\" class=\"sk-top-container\"><div class=\"sk-text-repr-fallback\"><pre>RandomForestRegressor()</pre><b>In a Jupyter environment, please rerun this cell to show the HTML representation or trust the notebook. <br />On GitHub, the HTML representation is unable to render, please try loading this page with nbviewer.org.</b></div><div class=\"sk-container\" hidden><div class=\"sk-item\"><div class=\"sk-estimator sk-toggleable\"><input class=\"sk-toggleable__control sk-hidden--visually\" id=\"sk-estimator-id-1\" type=\"checkbox\" checked><label for=\"sk-estimator-id-1\" class=\"sk-toggleable__label sk-toggleable__label-arrow\">RandomForestRegressor</label><div class=\"sk-toggleable__content\"><pre>RandomForestRegressor()</pre></div></div></div></div></div>"
      ],
      "text/plain": [
       "RandomForestRegressor()"
      ]
     },
     "execution_count": 23,
     "metadata": {},
     "output_type": "execute_result"
    }
   ],
   "source": [
    "# Fit the model to train dataset\n",
    "rf = RandomForestRegressor()\n",
    "\n",
    "rf.fit(X_train, y_train)"
   ]
  },
  {
   "cell_type": "markdown",
   "id": "6168fd03",
   "metadata": {
    "papermill": {
     "duration": 0.014558,
     "end_time": "2023-08-02T08:28:15.608512",
     "exception": false,
     "start_time": "2023-08-02T08:28:15.593954",
     "status": "completed"
    },
    "tags": []
   },
   "source": [
    "**Evaluate the Random Forest regressor**"
   ]
  },
  {
   "cell_type": "code",
   "execution_count": 24,
   "id": "cdeef695",
   "metadata": {
    "execution": {
     "iopub.execute_input": "2023-08-02T08:28:15.640056Z",
     "iopub.status.busy": "2023-08-02T08:28:15.639043Z",
     "iopub.status.idle": "2023-08-02T08:28:16.209012Z",
     "shell.execute_reply": "2023-08-02T08:28:16.208010Z"
    },
    "papermill": {
     "duration": 0.588345,
     "end_time": "2023-08-02T08:28:16.211192",
     "exception": false,
     "start_time": "2023-08-02T08:28:15.622847",
     "status": "completed"
    },
    "tags": []
   },
   "outputs": [
    {
     "data": {
      "text/plain": [
       "0.9687783530452719"
      ]
     },
     "execution_count": 24,
     "metadata": {},
     "output_type": "execute_result"
    }
   ],
   "source": [
    "# Do the predictions\n",
    "y_pred = rf.predict(X_val)\n",
    "\n",
    "# Accuracy\n",
    "r2_score(y_val, y_pred)# Do the predictions"
   ]
  },
  {
   "cell_type": "code",
   "execution_count": 25,
   "id": "07a25b4f",
   "metadata": {
    "execution": {
     "iopub.execute_input": "2023-08-02T08:28:16.243970Z",
     "iopub.status.busy": "2023-08-02T08:28:16.243003Z",
     "iopub.status.idle": "2023-08-02T08:28:16.250699Z",
     "shell.execute_reply": "2023-08-02T08:28:16.249728Z"
    },
    "papermill": {
     "duration": 0.026651,
     "end_time": "2023-08-02T08:28:16.252925",
     "exception": false,
     "start_time": "2023-08-02T08:28:16.226274",
     "status": "completed"
    },
    "tags": []
   },
   "outputs": [
    {
     "data": {
      "text/plain": [
       "24.216778105754905"
      ]
     },
     "execution_count": 25,
     "metadata": {},
     "output_type": "execute_result"
    }
   ],
   "source": [
    "sqrt(mean_squared_error(y_val, y_pred))"
   ]
  },
  {
   "cell_type": "markdown",
   "id": "be6e7b81",
   "metadata": {
    "papermill": {
     "duration": 0.015065,
     "end_time": "2023-08-02T08:28:16.283613",
     "exception": false,
     "start_time": "2023-08-02T08:28:16.268548",
     "status": "completed"
    },
    "tags": []
   },
   "source": [
    "### MultiLayer Perceptron"
   ]
  },
  {
   "cell_type": "code",
   "execution_count": 26,
   "id": "cb5dd1d3",
   "metadata": {
    "execution": {
     "iopub.execute_input": "2023-08-02T08:28:16.315956Z",
     "iopub.status.busy": "2023-08-02T08:28:16.314932Z",
     "iopub.status.idle": "2023-08-02T08:28:16.319961Z",
     "shell.execute_reply": "2023-08-02T08:28:16.318842Z"
    },
    "papermill": {
     "duration": 0.023333,
     "end_time": "2023-08-02T08:28:16.321956",
     "exception": false,
     "start_time": "2023-08-02T08:28:16.298623",
     "status": "completed"
    },
    "tags": []
   },
   "outputs": [],
   "source": [
    "# Model Creation"
   ]
  },
  {
   "cell_type": "code",
   "execution_count": 27,
   "id": "d55df29c",
   "metadata": {
    "execution": {
     "iopub.execute_input": "2023-08-02T08:28:16.354152Z",
     "iopub.status.busy": "2023-08-02T08:28:16.353342Z",
     "iopub.status.idle": "2023-08-02T08:28:16.357593Z",
     "shell.execute_reply": "2023-08-02T08:28:16.356594Z"
    },
    "papermill": {
     "duration": 0.022483,
     "end_time": "2023-08-02T08:28:16.359679",
     "exception": false,
     "start_time": "2023-08-02T08:28:16.337196",
     "status": "completed"
    },
    "tags": []
   },
   "outputs": [],
   "source": [
    "# Fit to train data"
   ]
  },
  {
   "cell_type": "markdown",
   "id": "a69d8a58",
   "metadata": {
    "papermill": {
     "duration": 0.014759,
     "end_time": "2023-08-02T08:28:16.389274",
     "exception": false,
     "start_time": "2023-08-02T08:28:16.374515",
     "status": "completed"
    },
    "tags": []
   },
   "source": [
    "**Evaluate the model**"
   ]
  },
  {
   "cell_type": "code",
   "execution_count": null,
   "id": "87a8f95c",
   "metadata": {
    "papermill": {
     "duration": 0.01476,
     "end_time": "2023-08-02T08:28:16.418907",
     "exception": false,
     "start_time": "2023-08-02T08:28:16.404147",
     "status": "completed"
    },
    "tags": []
   },
   "outputs": [],
   "source": []
  },
  {
   "cell_type": "code",
   "execution_count": null,
   "id": "54980315",
   "metadata": {
    "papermill": {
     "duration": 0.014463,
     "end_time": "2023-08-02T08:28:16.450610",
     "exception": false,
     "start_time": "2023-08-02T08:28:16.436147",
     "status": "completed"
    },
    "tags": []
   },
   "outputs": [],
   "source": []
  },
  {
   "cell_type": "markdown",
   "id": "c84a1993",
   "metadata": {
    "papermill": {
     "duration": 0.014886,
     "end_time": "2023-08-02T08:28:16.480413",
     "exception": false,
     "start_time": "2023-08-02T08:28:16.465527",
     "status": "completed"
    },
    "tags": []
   },
   "source": [
    "# Submission"
   ]
  },
  {
   "cell_type": "code",
   "execution_count": 28,
   "id": "73967527",
   "metadata": {
    "execution": {
     "iopub.execute_input": "2023-08-02T08:28:16.512384Z",
     "iopub.status.busy": "2023-08-02T08:28:16.511454Z",
     "iopub.status.idle": "2023-08-02T08:28:16.544168Z",
     "shell.execute_reply": "2023-08-02T08:28:16.543195Z"
    },
    "papermill": {
     "duration": 0.050994,
     "end_time": "2023-08-02T08:28:16.546442",
     "exception": false,
     "start_time": "2023-08-02T08:28:16.495448",
     "status": "completed"
    },
    "tags": []
   },
   "outputs": [
    {
     "data": {
      "text/html": [
       "<div>\n",
       "<style scoped>\n",
       "    .dataframe tbody tr th:only-of-type {\n",
       "        vertical-align: middle;\n",
       "    }\n",
       "\n",
       "    .dataframe tbody tr th {\n",
       "        vertical-align: top;\n",
       "    }\n",
       "\n",
       "    .dataframe thead th {\n",
       "        text-align: right;\n",
       "    }\n",
       "</style>\n",
       "<table border=\"1\" class=\"dataframe\">\n",
       "  <thead>\n",
       "    <tr style=\"text-align: right;\">\n",
       "      <th></th>\n",
       "      <th>latitude</th>\n",
       "      <th>longitude</th>\n",
       "      <th>year</th>\n",
       "      <th>week_no</th>\n",
       "      <th>SulphurDioxide_SO2_column_number_density</th>\n",
       "      <th>SulphurDioxide_SO2_column_number_density_amf</th>\n",
       "      <th>SulphurDioxide_SO2_slant_column_number_density</th>\n",
       "      <th>SulphurDioxide_cloud_fraction</th>\n",
       "      <th>SulphurDioxide_sensor_azimuth_angle</th>\n",
       "      <th>SulphurDioxide_sensor_zenith_angle</th>\n",
       "      <th>...</th>\n",
       "      <th>Cloud_cloud_top_pressure</th>\n",
       "      <th>Cloud_cloud_top_height</th>\n",
       "      <th>Cloud_cloud_base_pressure</th>\n",
       "      <th>Cloud_cloud_base_height</th>\n",
       "      <th>Cloud_cloud_optical_depth</th>\n",
       "      <th>Cloud_surface_albedo</th>\n",
       "      <th>Cloud_sensor_azimuth_angle</th>\n",
       "      <th>Cloud_sensor_zenith_angle</th>\n",
       "      <th>Cloud_solar_azimuth_angle</th>\n",
       "      <th>Cloud_solar_zenith_angle</th>\n",
       "    </tr>\n",
       "  </thead>\n",
       "  <tbody>\n",
       "    <tr>\n",
       "      <th>0</th>\n",
       "      <td>-0.51</td>\n",
       "      <td>29.29</td>\n",
       "      <td>2022</td>\n",
       "      <td>0</td>\n",
       "      <td>NaN</td>\n",
       "      <td>NaN</td>\n",
       "      <td>NaN</td>\n",
       "      <td>NaN</td>\n",
       "      <td>NaN</td>\n",
       "      <td>NaN</td>\n",
       "      <td>...</td>\n",
       "      <td>36022.027344</td>\n",
       "      <td>8472.313477</td>\n",
       "      <td>41047.937500</td>\n",
       "      <td>7472.313477</td>\n",
       "      <td>7.935617</td>\n",
       "      <td>0.240773</td>\n",
       "      <td>-100.113792</td>\n",
       "      <td>33.697044</td>\n",
       "      <td>-133.047546</td>\n",
       "      <td>33.779583</td>\n",
       "    </tr>\n",
       "    <tr>\n",
       "      <th>1</th>\n",
       "      <td>-0.51</td>\n",
       "      <td>29.29</td>\n",
       "      <td>2022</td>\n",
       "      <td>1</td>\n",
       "      <td>0.000456</td>\n",
       "      <td>0.691164</td>\n",
       "      <td>0.000316</td>\n",
       "      <td>0.000000</td>\n",
       "      <td>76.239196</td>\n",
       "      <td>15.600607</td>\n",
       "      <td>...</td>\n",
       "      <td>48539.737242</td>\n",
       "      <td>6476.147323</td>\n",
       "      <td>54915.708579</td>\n",
       "      <td>5476.147161</td>\n",
       "      <td>11.448437</td>\n",
       "      <td>0.293119</td>\n",
       "      <td>-30.510319</td>\n",
       "      <td>42.402593</td>\n",
       "      <td>-138.632822</td>\n",
       "      <td>31.012380</td>\n",
       "    </tr>\n",
       "    <tr>\n",
       "      <th>2</th>\n",
       "      <td>-0.51</td>\n",
       "      <td>29.29</td>\n",
       "      <td>2022</td>\n",
       "      <td>2</td>\n",
       "      <td>0.000161</td>\n",
       "      <td>0.605107</td>\n",
       "      <td>0.000106</td>\n",
       "      <td>0.079870</td>\n",
       "      <td>-42.055341</td>\n",
       "      <td>39.889060</td>\n",
       "      <td>...</td>\n",
       "      <td>34133.080469</td>\n",
       "      <td>8984.795703</td>\n",
       "      <td>39006.093750</td>\n",
       "      <td>7984.795703</td>\n",
       "      <td>10.753179</td>\n",
       "      <td>0.267130</td>\n",
       "      <td>39.087361</td>\n",
       "      <td>45.936480</td>\n",
       "      <td>-144.784988</td>\n",
       "      <td>26.743361</td>\n",
       "    </tr>\n",
       "    <tr>\n",
       "      <th>3</th>\n",
       "      <td>-0.51</td>\n",
       "      <td>29.29</td>\n",
       "      <td>2022</td>\n",
       "      <td>3</td>\n",
       "      <td>0.000350</td>\n",
       "      <td>0.696917</td>\n",
       "      <td>0.000243</td>\n",
       "      <td>0.201028</td>\n",
       "      <td>72.169566</td>\n",
       "      <td>58.862543</td>\n",
       "      <td>...</td>\n",
       "      <td>50854.991076</td>\n",
       "      <td>6014.724059</td>\n",
       "      <td>57646.368368</td>\n",
       "      <td>5014.724115</td>\n",
       "      <td>11.764556</td>\n",
       "      <td>0.304679</td>\n",
       "      <td>-24.465127</td>\n",
       "      <td>42.140419</td>\n",
       "      <td>-135.027891</td>\n",
       "      <td>29.604774</td>\n",
       "    </tr>\n",
       "    <tr>\n",
       "      <th>4</th>\n",
       "      <td>-0.51</td>\n",
       "      <td>29.29</td>\n",
       "      <td>2022</td>\n",
       "      <td>4</td>\n",
       "      <td>-0.000317</td>\n",
       "      <td>0.580527</td>\n",
       "      <td>-0.000184</td>\n",
       "      <td>0.204352</td>\n",
       "      <td>76.190865</td>\n",
       "      <td>15.646016</td>\n",
       "      <td>...</td>\n",
       "      <td>46594.685145</td>\n",
       "      <td>6849.280477</td>\n",
       "      <td>52896.541873</td>\n",
       "      <td>5849.280394</td>\n",
       "      <td>13.065317</td>\n",
       "      <td>0.284221</td>\n",
       "      <td>-12.907850</td>\n",
       "      <td>30.122641</td>\n",
       "      <td>-135.500119</td>\n",
       "      <td>26.276807</td>\n",
       "    </tr>\n",
       "  </tbody>\n",
       "</table>\n",
       "<p>5 rows × 67 columns</p>\n",
       "</div>"
      ],
      "text/plain": [
       "   latitude  longitude  year  week_no  \\\n",
       "0     -0.51      29.29  2022        0   \n",
       "1     -0.51      29.29  2022        1   \n",
       "2     -0.51      29.29  2022        2   \n",
       "3     -0.51      29.29  2022        3   \n",
       "4     -0.51      29.29  2022        4   \n",
       "\n",
       "   SulphurDioxide_SO2_column_number_density  \\\n",
       "0                                       NaN   \n",
       "1                                  0.000456   \n",
       "2                                  0.000161   \n",
       "3                                  0.000350   \n",
       "4                                 -0.000317   \n",
       "\n",
       "   SulphurDioxide_SO2_column_number_density_amf  \\\n",
       "0                                           NaN   \n",
       "1                                      0.691164   \n",
       "2                                      0.605107   \n",
       "3                                      0.696917   \n",
       "4                                      0.580527   \n",
       "\n",
       "   SulphurDioxide_SO2_slant_column_number_density  \\\n",
       "0                                             NaN   \n",
       "1                                        0.000316   \n",
       "2                                        0.000106   \n",
       "3                                        0.000243   \n",
       "4                                       -0.000184   \n",
       "\n",
       "   SulphurDioxide_cloud_fraction  SulphurDioxide_sensor_azimuth_angle  \\\n",
       "0                            NaN                                  NaN   \n",
       "1                       0.000000                            76.239196   \n",
       "2                       0.079870                           -42.055341   \n",
       "3                       0.201028                            72.169566   \n",
       "4                       0.204352                            76.190865   \n",
       "\n",
       "   SulphurDioxide_sensor_zenith_angle  ...  Cloud_cloud_top_pressure  \\\n",
       "0                                 NaN  ...              36022.027344   \n",
       "1                           15.600607  ...              48539.737242   \n",
       "2                           39.889060  ...              34133.080469   \n",
       "3                           58.862543  ...              50854.991076   \n",
       "4                           15.646016  ...              46594.685145   \n",
       "\n",
       "   Cloud_cloud_top_height  Cloud_cloud_base_pressure  Cloud_cloud_base_height  \\\n",
       "0             8472.313477               41047.937500              7472.313477   \n",
       "1             6476.147323               54915.708579              5476.147161   \n",
       "2             8984.795703               39006.093750              7984.795703   \n",
       "3             6014.724059               57646.368368              5014.724115   \n",
       "4             6849.280477               52896.541873              5849.280394   \n",
       "\n",
       "   Cloud_cloud_optical_depth  Cloud_surface_albedo  \\\n",
       "0                   7.935617              0.240773   \n",
       "1                  11.448437              0.293119   \n",
       "2                  10.753179              0.267130   \n",
       "3                  11.764556              0.304679   \n",
       "4                  13.065317              0.284221   \n",
       "\n",
       "   Cloud_sensor_azimuth_angle  Cloud_sensor_zenith_angle  \\\n",
       "0                 -100.113792                  33.697044   \n",
       "1                  -30.510319                  42.402593   \n",
       "2                   39.087361                  45.936480   \n",
       "3                  -24.465127                  42.140419   \n",
       "4                  -12.907850                  30.122641   \n",
       "\n",
       "   Cloud_solar_azimuth_angle  Cloud_solar_zenith_angle  \n",
       "0                -133.047546                 33.779583  \n",
       "1                -138.632822                 31.012380  \n",
       "2                -144.784988                 26.743361  \n",
       "3                -135.027891                 29.604774  \n",
       "4                -135.500119                 26.276807  \n",
       "\n",
       "[5 rows x 67 columns]"
      ]
     },
     "execution_count": 28,
     "metadata": {},
     "output_type": "execute_result"
    }
   ],
   "source": [
    "test_df = test_df[X.columns]\n",
    "test_df.head()"
   ]
  },
  {
   "cell_type": "code",
   "execution_count": 29,
   "id": "e06943fd",
   "metadata": {
    "execution": {
     "iopub.execute_input": "2023-08-02T08:28:16.579992Z",
     "iopub.status.busy": "2023-08-02T08:28:16.579074Z",
     "iopub.status.idle": "2023-08-02T08:28:16.589828Z",
     "shell.execute_reply": "2023-08-02T08:28:16.588816Z"
    },
    "papermill": {
     "duration": 0.028955,
     "end_time": "2023-08-02T08:28:16.591831",
     "exception": false,
     "start_time": "2023-08-02T08:28:16.562876",
     "status": "completed"
    },
    "tags": []
   },
   "outputs": [
    {
     "data": {
      "text/plain": [
       "latitude                                       0\n",
       "longitude                                      0\n",
       "year                                           0\n",
       "week_no                                        0\n",
       "SulphurDioxide_SO2_column_number_density    6142\n",
       "                                            ... \n",
       "Cloud_surface_albedo                         166\n",
       "Cloud_sensor_azimuth_angle                   166\n",
       "Cloud_sensor_zenith_angle                    166\n",
       "Cloud_solar_azimuth_angle                    166\n",
       "Cloud_solar_zenith_angle                     166\n",
       "Length: 67, dtype: int64"
      ]
     },
     "execution_count": 29,
     "metadata": {},
     "output_type": "execute_result"
    }
   ],
   "source": [
    "test_df.isna().sum()"
   ]
  },
  {
   "cell_type": "code",
   "execution_count": 30,
   "id": "e1f8e1de",
   "metadata": {
    "execution": {
     "iopub.execute_input": "2023-08-02T08:28:16.624883Z",
     "iopub.status.busy": "2023-08-02T08:28:16.623997Z",
     "iopub.status.idle": "2023-08-02T08:28:16.677426Z",
     "shell.execute_reply": "2023-08-02T08:28:16.676306Z"
    },
    "papermill": {
     "duration": 0.072848,
     "end_time": "2023-08-02T08:28:16.680057",
     "exception": false,
     "start_time": "2023-08-02T08:28:16.607209",
     "status": "completed"
    },
    "tags": []
   },
   "outputs": [
    {
     "data": {
      "text/plain": [
       "0"
      ]
     },
     "execution_count": 30,
     "metadata": {},
     "output_type": "execute_result"
    }
   ],
   "source": [
    "for col in test_df.columns:\n",
    "    var_mean = test_df[col].mean()\n",
    "    test_df[col].fillna(var_mean, inplace=True)\n",
    "    \n",
    "test_df.isna().sum().sum()"
   ]
  },
  {
   "cell_type": "code",
   "execution_count": 31,
   "id": "fb1144e2",
   "metadata": {
    "execution": {
     "iopub.execute_input": "2023-08-02T08:28:16.715429Z",
     "iopub.status.busy": "2023-08-02T08:28:16.714791Z",
     "iopub.status.idle": "2023-08-02T08:28:17.104348Z",
     "shell.execute_reply": "2023-08-02T08:28:17.103299Z"
    },
    "papermill": {
     "duration": 0.410625,
     "end_time": "2023-08-02T08:28:17.107090",
     "exception": false,
     "start_time": "2023-08-02T08:28:16.696465",
     "status": "completed"
    },
    "tags": []
   },
   "outputs": [],
   "source": [
    "predictions = rf.predict(test_df)"
   ]
  },
  {
   "cell_type": "code",
   "execution_count": 32,
   "id": "eae02bdd",
   "metadata": {
    "execution": {
     "iopub.execute_input": "2023-08-02T08:28:17.142257Z",
     "iopub.status.busy": "2023-08-02T08:28:17.141922Z",
     "iopub.status.idle": "2023-08-02T08:28:17.538291Z",
     "shell.execute_reply": "2023-08-02T08:28:17.537224Z"
    },
    "papermill": {
     "duration": 0.416083,
     "end_time": "2023-08-02T08:28:17.541137",
     "exception": false,
     "start_time": "2023-08-02T08:28:17.125054",
     "status": "completed"
    },
    "tags": []
   },
   "outputs": [],
   "source": [
    "test_data = pd.read_csv(\"/kaggle/input/playground-series-s3e20/test.csv\")"
   ]
  },
  {
   "cell_type": "code",
   "execution_count": 33,
   "id": "6044c038",
   "metadata": {
    "execution": {
     "iopub.execute_input": "2023-08-02T08:28:17.574341Z",
     "iopub.status.busy": "2023-08-02T08:28:17.574037Z",
     "iopub.status.idle": "2023-08-02T08:28:17.578591Z",
     "shell.execute_reply": "2023-08-02T08:28:17.577652Z"
    },
    "papermill": {
     "duration": 0.023534,
     "end_time": "2023-08-02T08:28:17.580731",
     "exception": false,
     "start_time": "2023-08-02T08:28:17.557197",
     "status": "completed"
    },
    "tags": []
   },
   "outputs": [],
   "source": [
    "id_var = test_data['ID_LAT_LON_YEAR_WEEK']\n",
    "assert len(id_var)==len(predictions)"
   ]
  },
  {
   "cell_type": "code",
   "execution_count": 34,
   "id": "f6829f09",
   "metadata": {
    "execution": {
     "iopub.execute_input": "2023-08-02T08:28:17.612279Z",
     "iopub.status.busy": "2023-08-02T08:28:17.612008Z",
     "iopub.status.idle": "2023-08-02T08:28:17.622711Z",
     "shell.execute_reply": "2023-08-02T08:28:17.621635Z"
    },
    "papermill": {
     "duration": 0.029024,
     "end_time": "2023-08-02T08:28:17.624884",
     "exception": false,
     "start_time": "2023-08-02T08:28:17.595860",
     "status": "completed"
    },
    "tags": []
   },
   "outputs": [
    {
     "data": {
      "text/html": [
       "<div>\n",
       "<style scoped>\n",
       "    .dataframe tbody tr th:only-of-type {\n",
       "        vertical-align: middle;\n",
       "    }\n",
       "\n",
       "    .dataframe tbody tr th {\n",
       "        vertical-align: top;\n",
       "    }\n",
       "\n",
       "    .dataframe thead th {\n",
       "        text-align: right;\n",
       "    }\n",
       "</style>\n",
       "<table border=\"1\" class=\"dataframe\">\n",
       "  <thead>\n",
       "    <tr style=\"text-align: right;\">\n",
       "      <th></th>\n",
       "      <th>ID_LAT_LON_YEAR_WEEK</th>\n",
       "      <th>emission</th>\n",
       "    </tr>\n",
       "  </thead>\n",
       "  <tbody>\n",
       "    <tr>\n",
       "      <th>0</th>\n",
       "      <td>ID_-0.510_29.290_2022_00</td>\n",
       "      <td>4.076073</td>\n",
       "    </tr>\n",
       "    <tr>\n",
       "      <th>1</th>\n",
       "      <td>ID_-0.510_29.290_2022_01</td>\n",
       "      <td>4.278292</td>\n",
       "    </tr>\n",
       "    <tr>\n",
       "      <th>2</th>\n",
       "      <td>ID_-0.510_29.290_2022_02</td>\n",
       "      <td>4.176330</td>\n",
       "    </tr>\n",
       "    <tr>\n",
       "      <th>3</th>\n",
       "      <td>ID_-0.510_29.290_2022_03</td>\n",
       "      <td>4.118303</td>\n",
       "    </tr>\n",
       "    <tr>\n",
       "      <th>4</th>\n",
       "      <td>ID_-0.510_29.290_2022_04</td>\n",
       "      <td>4.111922</td>\n",
       "    </tr>\n",
       "  </tbody>\n",
       "</table>\n",
       "</div>"
      ],
      "text/plain": [
       "       ID_LAT_LON_YEAR_WEEK  emission\n",
       "0  ID_-0.510_29.290_2022_00  4.076073\n",
       "1  ID_-0.510_29.290_2022_01  4.278292\n",
       "2  ID_-0.510_29.290_2022_02  4.176330\n",
       "3  ID_-0.510_29.290_2022_03  4.118303\n",
       "4  ID_-0.510_29.290_2022_04  4.111922"
      ]
     },
     "execution_count": 34,
     "metadata": {},
     "output_type": "execute_result"
    }
   ],
   "source": [
    "submission_df = pd.DataFrame({\n",
    "    'ID_LAT_LON_YEAR_WEEK':id_var,\n",
    "    'emission':predictions\n",
    "})\n",
    "\n",
    "submission_df.head()"
   ]
  },
  {
   "cell_type": "code",
   "execution_count": 35,
   "id": "ff747b37",
   "metadata": {
    "execution": {
     "iopub.execute_input": "2023-08-02T08:28:17.659110Z",
     "iopub.status.busy": "2023-08-02T08:28:17.658132Z",
     "iopub.status.idle": "2023-08-02T08:28:17.784035Z",
     "shell.execute_reply": "2023-08-02T08:28:17.783028Z"
    },
    "papermill": {
     "duration": 0.144805,
     "end_time": "2023-08-02T08:28:17.786482",
     "exception": false,
     "start_time": "2023-08-02T08:28:17.641677",
     "status": "completed"
    },
    "tags": []
   },
   "outputs": [],
   "source": [
    "submission_df.to_csv('submission.csv', index = False)"
   ]
  },
  {
   "cell_type": "code",
   "execution_count": 36,
   "id": "67c458d9",
   "metadata": {
    "execution": {
     "iopub.execute_input": "2023-08-02T08:28:17.819962Z",
     "iopub.status.busy": "2023-08-02T08:28:17.819651Z",
     "iopub.status.idle": "2023-08-02T08:28:17.941195Z",
     "shell.execute_reply": "2023-08-02T08:28:17.940225Z"
    },
    "papermill": {
     "duration": 0.140542,
     "end_time": "2023-08-02T08:28:17.943412",
     "exception": false,
     "start_time": "2023-08-02T08:28:17.802870",
     "status": "completed"
    },
    "tags": []
   },
   "outputs": [],
   "source": [
    "submission_df.to_csv('/kaggle/working/submission.csv', index = False)"
   ]
  }
 ],
 "metadata": {
  "kernelspec": {
   "display_name": "Python 3",
   "language": "python",
   "name": "python3"
  },
  "language_info": {
   "codemirror_mode": {
    "name": "ipython",
    "version": 3
   },
   "file_extension": ".py",
   "mimetype": "text/x-python",
   "name": "python",
   "nbconvert_exporter": "python",
   "pygments_lexer": "ipython3",
   "version": "3.10.12"
  },
  "papermill": {
   "default_parameters": {},
   "duration": 346.294322,
   "end_time": "2023-08-02T08:28:18.782090",
   "environment_variables": {},
   "exception": null,
   "input_path": "__notebook__.ipynb",
   "output_path": "__notebook__.ipynb",
   "parameters": {},
   "start_time": "2023-08-02T08:22:32.487768",
   "version": "2.4.0"
  }
 },
 "nbformat": 4,
 "nbformat_minor": 5
}

{
 "cells": [
  {
   "cell_type": "markdown",
   "id": "1924f89f",
   "metadata": {
    "papermill": {
     "duration": 0.020329,
     "end_time": "2023-08-07T08:27:24.386946",
     "exception": false,
     "start_time": "2023-08-07T08:27:24.366617",
     "status": "completed"
    },
    "tags": []
   },
   "source": [
    "**Load the required packages and data**"
   ]
  },
  {
   "cell_type": "code",
   "execution_count": 1,
   "id": "166f1a38",
   "metadata": {
    "execution": {
     "iopub.execute_input": "2023-08-07T08:27:24.423846Z",
     "iopub.status.busy": "2023-08-07T08:27:24.423421Z",
     "iopub.status.idle": "2023-08-07T08:27:24.441049Z",
     "shell.execute_reply": "2023-08-07T08:27:24.440144Z"
    },
    "papermill": {
     "duration": 0.038566,
     "end_time": "2023-08-07T08:27:24.443237",
     "exception": false,
     "start_time": "2023-08-07T08:27:24.404671",
     "status": "completed"
    },
    "tags": []
   },
   "outputs": [
    {
     "name": "stdout",
     "output_type": "stream",
     "text": [
      "/kaggle/input/playground-series-s3e20/sample_submission.csv\n",
      "/kaggle/input/playground-series-s3e20/train.csv\n",
      "/kaggle/input/playground-series-s3e20/test.csv\n"
     ]
    }
   ],
   "source": [
    "# This Python 3 environment comes with many helpful analytics libraries installed\n",
    "# It is defined by the kaggle/python Docker image: https://github.com/kaggle/docker-python\n",
    "# For example, here's several helpful packages to load\n",
    "\n",
    "import numpy as np # linear algebra\n",
    "import pandas as pd # data processing, CSV file I/O (e.g. pd.read_csv)\n",
    "\n",
    "# Input data files are available in the read-only \"../input/\" directory\n",
    "# For example, running this (by clicking run or pressing Shift+Enter) will list all files under the input directory\n",
    "\n",
    "import os\n",
    "for dirname, _, filenames in os.walk('/kaggle/input'):\n",
    "    for filename in filenames:\n",
    "        print(os.path.join(dirname, filename))\n",
    "\n",
    "# You can write up to 20GB to the current directory (/kaggle/working/) that gets preserved as output when you create a version using \"Save & Run All\" \n",
    "# You can also write temporary files to /kaggle/temp/, but they won't be saved outside of the current session"
   ]
  },
  {
   "cell_type": "code",
   "execution_count": 2,
   "id": "68bd0a2f",
   "metadata": {
    "execution": {
     "iopub.execute_input": "2023-08-07T08:27:24.481544Z",
     "iopub.status.busy": "2023-08-07T08:27:24.481237Z",
     "iopub.status.idle": "2023-08-07T08:27:27.631635Z",
     "shell.execute_reply": "2023-08-07T08:27:27.630673Z"
    },
    "papermill": {
     "duration": 3.171321,
     "end_time": "2023-08-07T08:27:27.633857",
     "exception": false,
     "start_time": "2023-08-07T08:27:24.462536",
     "status": "completed"
    },
    "tags": []
   },
   "outputs": [
    {
     "name": "stderr",
     "output_type": "stream",
     "text": [
      "/opt/conda/lib/python3.10/site-packages/scipy/__init__.py:146: UserWarning: A NumPy version >=1.16.5 and <1.23.0 is required for this version of SciPy (detected version 1.23.5\n",
      "  warnings.warn(f\"A NumPy version >={np_minversion} and <{np_maxversion}\"\n"
     ]
    }
   ],
   "source": [
    "import pandas as pd\n",
    "import numpy as np\n",
    "import seaborn as sns\n",
    "from matplotlib import pyplot as plt\n",
    "from sklearn.linear_model import LinearRegression \n",
    "from sklearn.ensemble import RandomForestRegressor\n",
    "from sklearn.svm import SVR\n",
    "# from sklearn.neighbors impor\n",
    "from sklearn.model_selection import train_test_split\n",
    "from sklearn.impute import SimpleImputer\n",
    "from sklearn.metrics import r2_score, mean_squared_error\n",
    "from math import sqrt\n",
    "from sklearn.decomposition import PCA"
   ]
  },
  {
   "cell_type": "code",
   "execution_count": 3,
   "id": "236bca8e",
   "metadata": {
    "execution": {
     "iopub.execute_input": "2023-08-07T08:27:27.672099Z",
     "iopub.status.busy": "2023-08-07T08:27:27.671205Z",
     "iopub.status.idle": "2023-08-07T08:27:30.591262Z",
     "shell.execute_reply": "2023-08-07T08:27:30.590277Z"
    },
    "papermill": {
     "duration": 2.941284,
     "end_time": "2023-08-07T08:27:30.593643",
     "exception": false,
     "start_time": "2023-08-07T08:27:27.652359",
     "status": "completed"
    },
    "tags": []
   },
   "outputs": [],
   "source": [
    "# Load the datasets \n",
    "df = pd.read_csv(\"/kaggle/input/playground-series-s3e20/train.csv\")\n",
    "test_df = pd.read_csv(\"/kaggle/input/playground-series-s3e20/test.csv\")\n",
    "sample_submission = pd.read_csv(\"/kaggle/input/playground-series-s3e20/sample_submission.csv\")"
   ]
  },
  {
   "cell_type": "markdown",
   "id": "dd4a6956",
   "metadata": {
    "papermill": {
     "duration": 0.017454,
     "end_time": "2023-08-07T08:27:30.629121",
     "exception": false,
     "start_time": "2023-08-07T08:27:30.611667",
     "status": "completed"
    },
    "tags": []
   },
   "source": [
    "# Explanatory Data Analysis\n",
    "## Data Assessment"
   ]
  },
  {
   "cell_type": "code",
   "execution_count": 4,
   "id": "6268ce1f",
   "metadata": {
    "execution": {
     "iopub.execute_input": "2023-08-07T08:27:30.666566Z",
     "iopub.status.busy": "2023-08-07T08:27:30.666202Z",
     "iopub.status.idle": "2023-08-07T08:27:30.703667Z",
     "shell.execute_reply": "2023-08-07T08:27:30.702653Z"
    },
    "papermill": {
     "duration": 0.059282,
     "end_time": "2023-08-07T08:27:30.706470",
     "exception": false,
     "start_time": "2023-08-07T08:27:30.647188",
     "status": "completed"
    },
    "tags": []
   },
   "outputs": [
    {
     "data": {
      "text/html": [
       "<div>\n",
       "<style scoped>\n",
       "    .dataframe tbody tr th:only-of-type {\n",
       "        vertical-align: middle;\n",
       "    }\n",
       "\n",
       "    .dataframe tbody tr th {\n",
       "        vertical-align: top;\n",
       "    }\n",
       "\n",
       "    .dataframe thead th {\n",
       "        text-align: right;\n",
       "    }\n",
       "</style>\n",
       "<table border=\"1\" class=\"dataframe\">\n",
       "  <thead>\n",
       "    <tr style=\"text-align: right;\">\n",
       "      <th></th>\n",
       "      <th>ID_LAT_LON_YEAR_WEEK</th>\n",
       "      <th>latitude</th>\n",
       "      <th>longitude</th>\n",
       "      <th>year</th>\n",
       "      <th>week_no</th>\n",
       "      <th>SulphurDioxide_SO2_column_number_density</th>\n",
       "      <th>SulphurDioxide_SO2_column_number_density_amf</th>\n",
       "      <th>SulphurDioxide_SO2_slant_column_number_density</th>\n",
       "      <th>SulphurDioxide_cloud_fraction</th>\n",
       "      <th>SulphurDioxide_sensor_azimuth_angle</th>\n",
       "      <th>...</th>\n",
       "      <th>Cloud_cloud_top_height</th>\n",
       "      <th>Cloud_cloud_base_pressure</th>\n",
       "      <th>Cloud_cloud_base_height</th>\n",
       "      <th>Cloud_cloud_optical_depth</th>\n",
       "      <th>Cloud_surface_albedo</th>\n",
       "      <th>Cloud_sensor_azimuth_angle</th>\n",
       "      <th>Cloud_sensor_zenith_angle</th>\n",
       "      <th>Cloud_solar_azimuth_angle</th>\n",
       "      <th>Cloud_solar_zenith_angle</th>\n",
       "      <th>emission</th>\n",
       "    </tr>\n",
       "  </thead>\n",
       "  <tbody>\n",
       "    <tr>\n",
       "      <th>0</th>\n",
       "      <td>ID_-0.510_29.290_2019_00</td>\n",
       "      <td>-0.51</td>\n",
       "      <td>29.29</td>\n",
       "      <td>2019</td>\n",
       "      <td>0</td>\n",
       "      <td>-0.000108</td>\n",
       "      <td>0.603019</td>\n",
       "      <td>-0.000065</td>\n",
       "      <td>0.255668</td>\n",
       "      <td>-98.593887</td>\n",
       "      <td>...</td>\n",
       "      <td>3664.436218</td>\n",
       "      <td>61085.809570</td>\n",
       "      <td>2615.120483</td>\n",
       "      <td>15.568533</td>\n",
       "      <td>0.272292</td>\n",
       "      <td>-12.628986</td>\n",
       "      <td>35.632416</td>\n",
       "      <td>-138.786423</td>\n",
       "      <td>30.752140</td>\n",
       "      <td>3.750994</td>\n",
       "    </tr>\n",
       "    <tr>\n",
       "      <th>1</th>\n",
       "      <td>ID_-0.510_29.290_2019_01</td>\n",
       "      <td>-0.51</td>\n",
       "      <td>29.29</td>\n",
       "      <td>2019</td>\n",
       "      <td>1</td>\n",
       "      <td>0.000021</td>\n",
       "      <td>0.728214</td>\n",
       "      <td>0.000014</td>\n",
       "      <td>0.130988</td>\n",
       "      <td>16.592861</td>\n",
       "      <td>...</td>\n",
       "      <td>3651.190311</td>\n",
       "      <td>66969.478735</td>\n",
       "      <td>3174.572424</td>\n",
       "      <td>8.690601</td>\n",
       "      <td>0.256830</td>\n",
       "      <td>30.359375</td>\n",
       "      <td>39.557633</td>\n",
       "      <td>-145.183930</td>\n",
       "      <td>27.251779</td>\n",
       "      <td>4.025176</td>\n",
       "    </tr>\n",
       "    <tr>\n",
       "      <th>2</th>\n",
       "      <td>ID_-0.510_29.290_2019_02</td>\n",
       "      <td>-0.51</td>\n",
       "      <td>29.29</td>\n",
       "      <td>2019</td>\n",
       "      <td>2</td>\n",
       "      <td>0.000514</td>\n",
       "      <td>0.748199</td>\n",
       "      <td>0.000385</td>\n",
       "      <td>0.110018</td>\n",
       "      <td>72.795837</td>\n",
       "      <td>...</td>\n",
       "      <td>4216.986492</td>\n",
       "      <td>60068.894448</td>\n",
       "      <td>3516.282669</td>\n",
       "      <td>21.103410</td>\n",
       "      <td>0.251101</td>\n",
       "      <td>15.377883</td>\n",
       "      <td>30.401823</td>\n",
       "      <td>-142.519545</td>\n",
       "      <td>26.193296</td>\n",
       "      <td>4.231381</td>\n",
       "    </tr>\n",
       "    <tr>\n",
       "      <th>3</th>\n",
       "      <td>ID_-0.510_29.290_2019_03</td>\n",
       "      <td>-0.51</td>\n",
       "      <td>29.29</td>\n",
       "      <td>2019</td>\n",
       "      <td>3</td>\n",
       "      <td>NaN</td>\n",
       "      <td>NaN</td>\n",
       "      <td>NaN</td>\n",
       "      <td>NaN</td>\n",
       "      <td>NaN</td>\n",
       "      <td>...</td>\n",
       "      <td>5228.507736</td>\n",
       "      <td>51064.547339</td>\n",
       "      <td>4180.973322</td>\n",
       "      <td>15.386899</td>\n",
       "      <td>0.262043</td>\n",
       "      <td>-11.293399</td>\n",
       "      <td>24.380357</td>\n",
       "      <td>-132.665828</td>\n",
       "      <td>28.829155</td>\n",
       "      <td>4.305286</td>\n",
       "    </tr>\n",
       "    <tr>\n",
       "      <th>4</th>\n",
       "      <td>ID_-0.510_29.290_2019_04</td>\n",
       "      <td>-0.51</td>\n",
       "      <td>29.29</td>\n",
       "      <td>2019</td>\n",
       "      <td>4</td>\n",
       "      <td>-0.000079</td>\n",
       "      <td>0.676296</td>\n",
       "      <td>-0.000048</td>\n",
       "      <td>0.121164</td>\n",
       "      <td>4.121269</td>\n",
       "      <td>...</td>\n",
       "      <td>3980.598120</td>\n",
       "      <td>63751.125781</td>\n",
       "      <td>3355.710107</td>\n",
       "      <td>8.114694</td>\n",
       "      <td>0.235847</td>\n",
       "      <td>38.532263</td>\n",
       "      <td>37.392979</td>\n",
       "      <td>-141.509805</td>\n",
       "      <td>22.204612</td>\n",
       "      <td>4.347317</td>\n",
       "    </tr>\n",
       "  </tbody>\n",
       "</table>\n",
       "<p>5 rows × 76 columns</p>\n",
       "</div>"
      ],
      "text/plain": [
       "       ID_LAT_LON_YEAR_WEEK  latitude  longitude  year  week_no  \\\n",
       "0  ID_-0.510_29.290_2019_00     -0.51      29.29  2019        0   \n",
       "1  ID_-0.510_29.290_2019_01     -0.51      29.29  2019        1   \n",
       "2  ID_-0.510_29.290_2019_02     -0.51      29.29  2019        2   \n",
       "3  ID_-0.510_29.290_2019_03     -0.51      29.29  2019        3   \n",
       "4  ID_-0.510_29.290_2019_04     -0.51      29.29  2019        4   \n",
       "\n",
       "   SulphurDioxide_SO2_column_number_density  \\\n",
       "0                                 -0.000108   \n",
       "1                                  0.000021   \n",
       "2                                  0.000514   \n",
       "3                                       NaN   \n",
       "4                                 -0.000079   \n",
       "\n",
       "   SulphurDioxide_SO2_column_number_density_amf  \\\n",
       "0                                      0.603019   \n",
       "1                                      0.728214   \n",
       "2                                      0.748199   \n",
       "3                                           NaN   \n",
       "4                                      0.676296   \n",
       "\n",
       "   SulphurDioxide_SO2_slant_column_number_density  \\\n",
       "0                                       -0.000065   \n",
       "1                                        0.000014   \n",
       "2                                        0.000385   \n",
       "3                                             NaN   \n",
       "4                                       -0.000048   \n",
       "\n",
       "   SulphurDioxide_cloud_fraction  SulphurDioxide_sensor_azimuth_angle  ...  \\\n",
       "0                       0.255668                           -98.593887  ...   \n",
       "1                       0.130988                            16.592861  ...   \n",
       "2                       0.110018                            72.795837  ...   \n",
       "3                            NaN                                  NaN  ...   \n",
       "4                       0.121164                             4.121269  ...   \n",
       "\n",
       "   Cloud_cloud_top_height  Cloud_cloud_base_pressure  Cloud_cloud_base_height  \\\n",
       "0             3664.436218               61085.809570              2615.120483   \n",
       "1             3651.190311               66969.478735              3174.572424   \n",
       "2             4216.986492               60068.894448              3516.282669   \n",
       "3             5228.507736               51064.547339              4180.973322   \n",
       "4             3980.598120               63751.125781              3355.710107   \n",
       "\n",
       "   Cloud_cloud_optical_depth  Cloud_surface_albedo  \\\n",
       "0                  15.568533              0.272292   \n",
       "1                   8.690601              0.256830   \n",
       "2                  21.103410              0.251101   \n",
       "3                  15.386899              0.262043   \n",
       "4                   8.114694              0.235847   \n",
       "\n",
       "   Cloud_sensor_azimuth_angle  Cloud_sensor_zenith_angle  \\\n",
       "0                  -12.628986                  35.632416   \n",
       "1                   30.359375                  39.557633   \n",
       "2                   15.377883                  30.401823   \n",
       "3                  -11.293399                  24.380357   \n",
       "4                   38.532263                  37.392979   \n",
       "\n",
       "   Cloud_solar_azimuth_angle  Cloud_solar_zenith_angle  emission  \n",
       "0                -138.786423                 30.752140  3.750994  \n",
       "1                -145.183930                 27.251779  4.025176  \n",
       "2                -142.519545                 26.193296  4.231381  \n",
       "3                -132.665828                 28.829155  4.305286  \n",
       "4                -141.509805                 22.204612  4.347317  \n",
       "\n",
       "[5 rows x 76 columns]"
      ]
     },
     "execution_count": 4,
     "metadata": {},
     "output_type": "execute_result"
    }
   ],
   "source": [
    "df.head()"
   ]
  },
  {
   "cell_type": "code",
   "execution_count": 5,
   "id": "20c1b46a",
   "metadata": {
    "execution": {
     "iopub.execute_input": "2023-08-07T08:27:30.744591Z",
     "iopub.status.busy": "2023-08-07T08:27:30.744281Z",
     "iopub.status.idle": "2023-08-07T08:27:30.773295Z",
     "shell.execute_reply": "2023-08-07T08:27:30.772352Z"
    },
    "papermill": {
     "duration": 0.049868,
     "end_time": "2023-08-07T08:27:30.775465",
     "exception": false,
     "start_time": "2023-08-07T08:27:30.725597",
     "status": "completed"
    },
    "tags": []
   },
   "outputs": [
    {
     "data": {
      "text/html": [
       "<div>\n",
       "<style scoped>\n",
       "    .dataframe tbody tr th:only-of-type {\n",
       "        vertical-align: middle;\n",
       "    }\n",
       "\n",
       "    .dataframe tbody tr th {\n",
       "        vertical-align: top;\n",
       "    }\n",
       "\n",
       "    .dataframe thead th {\n",
       "        text-align: right;\n",
       "    }\n",
       "</style>\n",
       "<table border=\"1\" class=\"dataframe\">\n",
       "  <thead>\n",
       "    <tr style=\"text-align: right;\">\n",
       "      <th></th>\n",
       "      <th>ID_LAT_LON_YEAR_WEEK</th>\n",
       "      <th>latitude</th>\n",
       "      <th>longitude</th>\n",
       "      <th>year</th>\n",
       "      <th>week_no</th>\n",
       "      <th>SulphurDioxide_SO2_column_number_density</th>\n",
       "      <th>SulphurDioxide_SO2_column_number_density_amf</th>\n",
       "      <th>SulphurDioxide_SO2_slant_column_number_density</th>\n",
       "      <th>SulphurDioxide_cloud_fraction</th>\n",
       "      <th>SulphurDioxide_sensor_azimuth_angle</th>\n",
       "      <th>...</th>\n",
       "      <th>Cloud_cloud_top_pressure</th>\n",
       "      <th>Cloud_cloud_top_height</th>\n",
       "      <th>Cloud_cloud_base_pressure</th>\n",
       "      <th>Cloud_cloud_base_height</th>\n",
       "      <th>Cloud_cloud_optical_depth</th>\n",
       "      <th>Cloud_surface_albedo</th>\n",
       "      <th>Cloud_sensor_azimuth_angle</th>\n",
       "      <th>Cloud_sensor_zenith_angle</th>\n",
       "      <th>Cloud_solar_azimuth_angle</th>\n",
       "      <th>Cloud_solar_zenith_angle</th>\n",
       "    </tr>\n",
       "  </thead>\n",
       "  <tbody>\n",
       "    <tr>\n",
       "      <th>0</th>\n",
       "      <td>ID_-0.510_29.290_2022_00</td>\n",
       "      <td>-0.51</td>\n",
       "      <td>29.29</td>\n",
       "      <td>2022</td>\n",
       "      <td>0</td>\n",
       "      <td>NaN</td>\n",
       "      <td>NaN</td>\n",
       "      <td>NaN</td>\n",
       "      <td>NaN</td>\n",
       "      <td>NaN</td>\n",
       "      <td>...</td>\n",
       "      <td>36022.027344</td>\n",
       "      <td>8472.313477</td>\n",
       "      <td>41047.937500</td>\n",
       "      <td>7472.313477</td>\n",
       "      <td>7.935617</td>\n",
       "      <td>0.240773</td>\n",
       "      <td>-100.113792</td>\n",
       "      <td>33.697044</td>\n",
       "      <td>-133.047546</td>\n",
       "      <td>33.779583</td>\n",
       "    </tr>\n",
       "    <tr>\n",
       "      <th>1</th>\n",
       "      <td>ID_-0.510_29.290_2022_01</td>\n",
       "      <td>-0.51</td>\n",
       "      <td>29.29</td>\n",
       "      <td>2022</td>\n",
       "      <td>1</td>\n",
       "      <td>0.000456</td>\n",
       "      <td>0.691164</td>\n",
       "      <td>0.000316</td>\n",
       "      <td>0.000000</td>\n",
       "      <td>76.239196</td>\n",
       "      <td>...</td>\n",
       "      <td>48539.737242</td>\n",
       "      <td>6476.147323</td>\n",
       "      <td>54915.708579</td>\n",
       "      <td>5476.147161</td>\n",
       "      <td>11.448437</td>\n",
       "      <td>0.293119</td>\n",
       "      <td>-30.510319</td>\n",
       "      <td>42.402593</td>\n",
       "      <td>-138.632822</td>\n",
       "      <td>31.012380</td>\n",
       "    </tr>\n",
       "    <tr>\n",
       "      <th>2</th>\n",
       "      <td>ID_-0.510_29.290_2022_02</td>\n",
       "      <td>-0.51</td>\n",
       "      <td>29.29</td>\n",
       "      <td>2022</td>\n",
       "      <td>2</td>\n",
       "      <td>0.000161</td>\n",
       "      <td>0.605107</td>\n",
       "      <td>0.000106</td>\n",
       "      <td>0.079870</td>\n",
       "      <td>-42.055341</td>\n",
       "      <td>...</td>\n",
       "      <td>34133.080469</td>\n",
       "      <td>8984.795703</td>\n",
       "      <td>39006.093750</td>\n",
       "      <td>7984.795703</td>\n",
       "      <td>10.753179</td>\n",
       "      <td>0.267130</td>\n",
       "      <td>39.087361</td>\n",
       "      <td>45.936480</td>\n",
       "      <td>-144.784988</td>\n",
       "      <td>26.743361</td>\n",
       "    </tr>\n",
       "    <tr>\n",
       "      <th>3</th>\n",
       "      <td>ID_-0.510_29.290_2022_03</td>\n",
       "      <td>-0.51</td>\n",
       "      <td>29.29</td>\n",
       "      <td>2022</td>\n",
       "      <td>3</td>\n",
       "      <td>0.000350</td>\n",
       "      <td>0.696917</td>\n",
       "      <td>0.000243</td>\n",
       "      <td>0.201028</td>\n",
       "      <td>72.169566</td>\n",
       "      <td>...</td>\n",
       "      <td>50854.991076</td>\n",
       "      <td>6014.724059</td>\n",
       "      <td>57646.368368</td>\n",
       "      <td>5014.724115</td>\n",
       "      <td>11.764556</td>\n",
       "      <td>0.304679</td>\n",
       "      <td>-24.465127</td>\n",
       "      <td>42.140419</td>\n",
       "      <td>-135.027891</td>\n",
       "      <td>29.604774</td>\n",
       "    </tr>\n",
       "    <tr>\n",
       "      <th>4</th>\n",
       "      <td>ID_-0.510_29.290_2022_04</td>\n",
       "      <td>-0.51</td>\n",
       "      <td>29.29</td>\n",
       "      <td>2022</td>\n",
       "      <td>4</td>\n",
       "      <td>-0.000317</td>\n",
       "      <td>0.580527</td>\n",
       "      <td>-0.000184</td>\n",
       "      <td>0.204352</td>\n",
       "      <td>76.190865</td>\n",
       "      <td>...</td>\n",
       "      <td>46594.685145</td>\n",
       "      <td>6849.280477</td>\n",
       "      <td>52896.541873</td>\n",
       "      <td>5849.280394</td>\n",
       "      <td>13.065317</td>\n",
       "      <td>0.284221</td>\n",
       "      <td>-12.907850</td>\n",
       "      <td>30.122641</td>\n",
       "      <td>-135.500119</td>\n",
       "      <td>26.276807</td>\n",
       "    </tr>\n",
       "  </tbody>\n",
       "</table>\n",
       "<p>5 rows × 75 columns</p>\n",
       "</div>"
      ],
      "text/plain": [
       "       ID_LAT_LON_YEAR_WEEK  latitude  longitude  year  week_no  \\\n",
       "0  ID_-0.510_29.290_2022_00     -0.51      29.29  2022        0   \n",
       "1  ID_-0.510_29.290_2022_01     -0.51      29.29  2022        1   \n",
       "2  ID_-0.510_29.290_2022_02     -0.51      29.29  2022        2   \n",
       "3  ID_-0.510_29.290_2022_03     -0.51      29.29  2022        3   \n",
       "4  ID_-0.510_29.290_2022_04     -0.51      29.29  2022        4   \n",
       "\n",
       "   SulphurDioxide_SO2_column_number_density  \\\n",
       "0                                       NaN   \n",
       "1                                  0.000456   \n",
       "2                                  0.000161   \n",
       "3                                  0.000350   \n",
       "4                                 -0.000317   \n",
       "\n",
       "   SulphurDioxide_SO2_column_number_density_amf  \\\n",
       "0                                           NaN   \n",
       "1                                      0.691164   \n",
       "2                                      0.605107   \n",
       "3                                      0.696917   \n",
       "4                                      0.580527   \n",
       "\n",
       "   SulphurDioxide_SO2_slant_column_number_density  \\\n",
       "0                                             NaN   \n",
       "1                                        0.000316   \n",
       "2                                        0.000106   \n",
       "3                                        0.000243   \n",
       "4                                       -0.000184   \n",
       "\n",
       "   SulphurDioxide_cloud_fraction  SulphurDioxide_sensor_azimuth_angle  ...  \\\n",
       "0                            NaN                                  NaN  ...   \n",
       "1                       0.000000                            76.239196  ...   \n",
       "2                       0.079870                           -42.055341  ...   \n",
       "3                       0.201028                            72.169566  ...   \n",
       "4                       0.204352                            76.190865  ...   \n",
       "\n",
       "   Cloud_cloud_top_pressure  Cloud_cloud_top_height  \\\n",
       "0              36022.027344             8472.313477   \n",
       "1              48539.737242             6476.147323   \n",
       "2              34133.080469             8984.795703   \n",
       "3              50854.991076             6014.724059   \n",
       "4              46594.685145             6849.280477   \n",
       "\n",
       "   Cloud_cloud_base_pressure  Cloud_cloud_base_height  \\\n",
       "0               41047.937500              7472.313477   \n",
       "1               54915.708579              5476.147161   \n",
       "2               39006.093750              7984.795703   \n",
       "3               57646.368368              5014.724115   \n",
       "4               52896.541873              5849.280394   \n",
       "\n",
       "   Cloud_cloud_optical_depth  Cloud_surface_albedo  \\\n",
       "0                   7.935617              0.240773   \n",
       "1                  11.448437              0.293119   \n",
       "2                  10.753179              0.267130   \n",
       "3                  11.764556              0.304679   \n",
       "4                  13.065317              0.284221   \n",
       "\n",
       "   Cloud_sensor_azimuth_angle  Cloud_sensor_zenith_angle  \\\n",
       "0                 -100.113792                  33.697044   \n",
       "1                  -30.510319                  42.402593   \n",
       "2                   39.087361                  45.936480   \n",
       "3                  -24.465127                  42.140419   \n",
       "4                  -12.907850                  30.122641   \n",
       "\n",
       "   Cloud_solar_azimuth_angle  Cloud_solar_zenith_angle  \n",
       "0                -133.047546                 33.779583  \n",
       "1                -138.632822                 31.012380  \n",
       "2                -144.784988                 26.743361  \n",
       "3                -135.027891                 29.604774  \n",
       "4                -135.500119                 26.276807  \n",
       "\n",
       "[5 rows x 75 columns]"
      ]
     },
     "execution_count": 5,
     "metadata": {},
     "output_type": "execute_result"
    }
   ],
   "source": [
    "test_df.head()"
   ]
  },
  {
   "cell_type": "code",
   "execution_count": 6,
   "id": "80cce396",
   "metadata": {
    "execution": {
     "iopub.execute_input": "2023-08-07T08:27:30.816570Z",
     "iopub.status.busy": "2023-08-07T08:27:30.816248Z",
     "iopub.status.idle": "2023-08-07T08:27:30.823751Z",
     "shell.execute_reply": "2023-08-07T08:27:30.822670Z"
    },
    "papermill": {
     "duration": 0.032151,
     "end_time": "2023-08-07T08:27:30.826933",
     "exception": false,
     "start_time": "2023-08-07T08:27:30.794782",
     "status": "completed"
    },
    "tags": []
   },
   "outputs": [
    {
     "data": {
      "text/plain": [
       "Index(['ID_LAT_LON_YEAR_WEEK', 'latitude', 'longitude', 'year', 'week_no',\n",
       "       'SulphurDioxide_SO2_column_number_density',\n",
       "       'SulphurDioxide_SO2_column_number_density_amf',\n",
       "       'SulphurDioxide_SO2_slant_column_number_density',\n",
       "       'SulphurDioxide_cloud_fraction', 'SulphurDioxide_sensor_azimuth_angle',\n",
       "       'SulphurDioxide_sensor_zenith_angle',\n",
       "       'SulphurDioxide_solar_azimuth_angle',\n",
       "       'SulphurDioxide_solar_zenith_angle',\n",
       "       'SulphurDioxide_SO2_column_number_density_15km',\n",
       "       'CarbonMonoxide_CO_column_number_density',\n",
       "       'CarbonMonoxide_H2O_column_number_density',\n",
       "       'CarbonMonoxide_cloud_height', 'CarbonMonoxide_sensor_altitude',\n",
       "       'CarbonMonoxide_sensor_azimuth_angle',\n",
       "       'CarbonMonoxide_sensor_zenith_angle',\n",
       "       'CarbonMonoxide_solar_azimuth_angle',\n",
       "       'CarbonMonoxide_solar_zenith_angle',\n",
       "       'NitrogenDioxide_NO2_column_number_density',\n",
       "       'NitrogenDioxide_tropospheric_NO2_column_number_density',\n",
       "       'NitrogenDioxide_stratospheric_NO2_column_number_density',\n",
       "       'NitrogenDioxide_NO2_slant_column_number_density',\n",
       "       'NitrogenDioxide_tropopause_pressure',\n",
       "       'NitrogenDioxide_absorbing_aerosol_index',\n",
       "       'NitrogenDioxide_cloud_fraction', 'NitrogenDioxide_sensor_altitude',\n",
       "       'NitrogenDioxide_sensor_azimuth_angle',\n",
       "       'NitrogenDioxide_sensor_zenith_angle',\n",
       "       'NitrogenDioxide_solar_azimuth_angle',\n",
       "       'NitrogenDioxide_solar_zenith_angle',\n",
       "       'Formaldehyde_tropospheric_HCHO_column_number_density',\n",
       "       'Formaldehyde_tropospheric_HCHO_column_number_density_amf',\n",
       "       'Formaldehyde_HCHO_slant_column_number_density',\n",
       "       'Formaldehyde_cloud_fraction', 'Formaldehyde_solar_zenith_angle',\n",
       "       'Formaldehyde_solar_azimuth_angle', 'Formaldehyde_sensor_zenith_angle',\n",
       "       'Formaldehyde_sensor_azimuth_angle',\n",
       "       'UvAerosolIndex_absorbing_aerosol_index',\n",
       "       'UvAerosolIndex_sensor_altitude', 'UvAerosolIndex_sensor_azimuth_angle',\n",
       "       'UvAerosolIndex_sensor_zenith_angle',\n",
       "       'UvAerosolIndex_solar_azimuth_angle',\n",
       "       'UvAerosolIndex_solar_zenith_angle', 'Ozone_O3_column_number_density',\n",
       "       'Ozone_O3_column_number_density_amf',\n",
       "       'Ozone_O3_slant_column_number_density',\n",
       "       'Ozone_O3_effective_temperature', 'Ozone_cloud_fraction',\n",
       "       'Ozone_sensor_azimuth_angle', 'Ozone_sensor_zenith_angle',\n",
       "       'Ozone_solar_azimuth_angle', 'Ozone_solar_zenith_angle',\n",
       "       'UvAerosolLayerHeight_aerosol_height',\n",
       "       'UvAerosolLayerHeight_aerosol_pressure',\n",
       "       'UvAerosolLayerHeight_aerosol_optical_depth',\n",
       "       'UvAerosolLayerHeight_sensor_zenith_angle',\n",
       "       'UvAerosolLayerHeight_sensor_azimuth_angle',\n",
       "       'UvAerosolLayerHeight_solar_azimuth_angle',\n",
       "       'UvAerosolLayerHeight_solar_zenith_angle', 'Cloud_cloud_fraction',\n",
       "       'Cloud_cloud_top_pressure', 'Cloud_cloud_top_height',\n",
       "       'Cloud_cloud_base_pressure', 'Cloud_cloud_base_height',\n",
       "       'Cloud_cloud_optical_depth', 'Cloud_surface_albedo',\n",
       "       'Cloud_sensor_azimuth_angle', 'Cloud_sensor_zenith_angle',\n",
       "       'Cloud_solar_azimuth_angle', 'Cloud_solar_zenith_angle', 'emission'],\n",
       "      dtype='object')"
      ]
     },
     "execution_count": 6,
     "metadata": {},
     "output_type": "execute_result"
    }
   ],
   "source": [
    "df.columns"
   ]
  },
  {
   "cell_type": "code",
   "execution_count": 7,
   "id": "66e93a5f",
   "metadata": {
    "execution": {
     "iopub.execute_input": "2023-08-07T08:27:30.866723Z",
     "iopub.status.busy": "2023-08-07T08:27:30.866429Z",
     "iopub.status.idle": "2023-08-07T08:27:30.932777Z",
     "shell.execute_reply": "2023-08-07T08:27:30.930328Z"
    },
    "papermill": {
     "duration": 0.089045,
     "end_time": "2023-08-07T08:27:30.934907",
     "exception": false,
     "start_time": "2023-08-07T08:27:30.845862",
     "status": "completed"
    },
    "tags": []
   },
   "outputs": [
    {
     "name": "stdout",
     "output_type": "stream",
     "text": [
      "<class 'pandas.core.frame.DataFrame'>\n",
      "RangeIndex: 79023 entries, 0 to 79022\n",
      "Data columns (total 76 columns):\n",
      " #   Column                                                    Non-Null Count  Dtype  \n",
      "---  ------                                                    --------------  -----  \n",
      " 0   ID_LAT_LON_YEAR_WEEK                                      79023 non-null  object \n",
      " 1   latitude                                                  79023 non-null  float64\n",
      " 2   longitude                                                 79023 non-null  float64\n",
      " 3   year                                                      79023 non-null  int64  \n",
      " 4   week_no                                                   79023 non-null  int64  \n",
      " 5   SulphurDioxide_SO2_column_number_density                  64414 non-null  float64\n",
      " 6   SulphurDioxide_SO2_column_number_density_amf              64414 non-null  float64\n",
      " 7   SulphurDioxide_SO2_slant_column_number_density            64414 non-null  float64\n",
      " 8   SulphurDioxide_cloud_fraction                             64414 non-null  float64\n",
      " 9   SulphurDioxide_sensor_azimuth_angle                       64414 non-null  float64\n",
      " 10  SulphurDioxide_sensor_zenith_angle                        64414 non-null  float64\n",
      " 11  SulphurDioxide_solar_azimuth_angle                        64414 non-null  float64\n",
      " 12  SulphurDioxide_solar_zenith_angle                         64414 non-null  float64\n",
      " 13  SulphurDioxide_SO2_column_number_density_15km             64414 non-null  float64\n",
      " 14  CarbonMonoxide_CO_column_number_density                   76901 non-null  float64\n",
      " 15  CarbonMonoxide_H2O_column_number_density                  76901 non-null  float64\n",
      " 16  CarbonMonoxide_cloud_height                               76901 non-null  float64\n",
      " 17  CarbonMonoxide_sensor_altitude                            76901 non-null  float64\n",
      " 18  CarbonMonoxide_sensor_azimuth_angle                       76901 non-null  float64\n",
      " 19  CarbonMonoxide_sensor_zenith_angle                        76901 non-null  float64\n",
      " 20  CarbonMonoxide_solar_azimuth_angle                        76901 non-null  float64\n",
      " 21  CarbonMonoxide_solar_zenith_angle                         76901 non-null  float64\n",
      " 22  NitrogenDioxide_NO2_column_number_density                 60703 non-null  float64\n",
      " 23  NitrogenDioxide_tropospheric_NO2_column_number_density    60703 non-null  float64\n",
      " 24  NitrogenDioxide_stratospheric_NO2_column_number_density   60703 non-null  float64\n",
      " 25  NitrogenDioxide_NO2_slant_column_number_density           60703 non-null  float64\n",
      " 26  NitrogenDioxide_tropopause_pressure                       60703 non-null  float64\n",
      " 27  NitrogenDioxide_absorbing_aerosol_index                   60703 non-null  float64\n",
      " 28  NitrogenDioxide_cloud_fraction                            60703 non-null  float64\n",
      " 29  NitrogenDioxide_sensor_altitude                           60703 non-null  float64\n",
      " 30  NitrogenDioxide_sensor_azimuth_angle                      60703 non-null  float64\n",
      " 31  NitrogenDioxide_sensor_zenith_angle                       60703 non-null  float64\n",
      " 32  NitrogenDioxide_solar_azimuth_angle                       60703 non-null  float64\n",
      " 33  NitrogenDioxide_solar_zenith_angle                        60703 non-null  float64\n",
      " 34  Formaldehyde_tropospheric_HCHO_column_number_density      71746 non-null  float64\n",
      " 35  Formaldehyde_tropospheric_HCHO_column_number_density_amf  71746 non-null  float64\n",
      " 36  Formaldehyde_HCHO_slant_column_number_density             71746 non-null  float64\n",
      " 37  Formaldehyde_cloud_fraction                               71746 non-null  float64\n",
      " 38  Formaldehyde_solar_zenith_angle                           71746 non-null  float64\n",
      " 39  Formaldehyde_solar_azimuth_angle                          71746 non-null  float64\n",
      " 40  Formaldehyde_sensor_zenith_angle                          71746 non-null  float64\n",
      " 41  Formaldehyde_sensor_azimuth_angle                         71746 non-null  float64\n",
      " 42  UvAerosolIndex_absorbing_aerosol_index                    78484 non-null  float64\n",
      " 43  UvAerosolIndex_sensor_altitude                            78484 non-null  float64\n",
      " 44  UvAerosolIndex_sensor_azimuth_angle                       78484 non-null  float64\n",
      " 45  UvAerosolIndex_sensor_zenith_angle                        78484 non-null  float64\n",
      " 46  UvAerosolIndex_solar_azimuth_angle                        78484 non-null  float64\n",
      " 47  UvAerosolIndex_solar_zenith_angle                         78484 non-null  float64\n",
      " 48  Ozone_O3_column_number_density                            78475 non-null  float64\n",
      " 49  Ozone_O3_column_number_density_amf                        78475 non-null  float64\n",
      " 50  Ozone_O3_slant_column_number_density                      78475 non-null  float64\n",
      " 51  Ozone_O3_effective_temperature                            78475 non-null  float64\n",
      " 52  Ozone_cloud_fraction                                      78475 non-null  float64\n",
      " 53  Ozone_sensor_azimuth_angle                                78475 non-null  float64\n",
      " 54  Ozone_sensor_zenith_angle                                 78475 non-null  float64\n",
      " 55  Ozone_solar_azimuth_angle                                 78475 non-null  float64\n",
      " 56  Ozone_solar_zenith_angle                                  78475 non-null  float64\n",
      " 57  UvAerosolLayerHeight_aerosol_height                       439 non-null    float64\n",
      " 58  UvAerosolLayerHeight_aerosol_pressure                     439 non-null    float64\n",
      " 59  UvAerosolLayerHeight_aerosol_optical_depth                439 non-null    float64\n",
      " 60  UvAerosolLayerHeight_sensor_zenith_angle                  439 non-null    float64\n",
      " 61  UvAerosolLayerHeight_sensor_azimuth_angle                 439 non-null    float64\n",
      " 62  UvAerosolLayerHeight_solar_azimuth_angle                  439 non-null    float64\n",
      " 63  UvAerosolLayerHeight_solar_zenith_angle                   439 non-null    float64\n",
      " 64  Cloud_cloud_fraction                                      78539 non-null  float64\n",
      " 65  Cloud_cloud_top_pressure                                  78539 non-null  float64\n",
      " 66  Cloud_cloud_top_height                                    78539 non-null  float64\n",
      " 67  Cloud_cloud_base_pressure                                 78539 non-null  float64\n",
      " 68  Cloud_cloud_base_height                                   78539 non-null  float64\n",
      " 69  Cloud_cloud_optical_depth                                 78539 non-null  float64\n",
      " 70  Cloud_surface_albedo                                      78539 non-null  float64\n",
      " 71  Cloud_sensor_azimuth_angle                                78539 non-null  float64\n",
      " 72  Cloud_sensor_zenith_angle                                 78539 non-null  float64\n",
      " 73  Cloud_solar_azimuth_angle                                 78539 non-null  float64\n",
      " 74  Cloud_solar_zenith_angle                                  78539 non-null  float64\n",
      " 75  emission                                                  79023 non-null  float64\n",
      "dtypes: float64(73), int64(2), object(1)\n",
      "memory usage: 45.8+ MB\n"
     ]
    }
   ],
   "source": [
    "df.info()"
   ]
  },
  {
   "cell_type": "markdown",
   "id": "32b82d25",
   "metadata": {
    "papermill": {
     "duration": 0.01855,
     "end_time": "2023-08-07T08:27:30.972579",
     "exception": false,
     "start_time": "2023-08-07T08:27:30.954029",
     "status": "completed"
    },
    "tags": []
   },
   "source": [
    "## Data Wrangling "
   ]
  },
  {
   "cell_type": "code",
   "execution_count": 8,
   "id": "e15ff18a",
   "metadata": {
    "execution": {
     "iopub.execute_input": "2023-08-07T08:27:31.011877Z",
     "iopub.status.busy": "2023-08-07T08:27:31.011582Z",
     "iopub.status.idle": "2023-08-07T08:27:31.036415Z",
     "shell.execute_reply": "2023-08-07T08:27:31.035351Z"
    },
    "papermill": {
     "duration": 0.046762,
     "end_time": "2023-08-07T08:27:31.038733",
     "exception": false,
     "start_time": "2023-08-07T08:27:30.991971",
     "status": "completed"
    },
    "tags": []
   },
   "outputs": [
    {
     "data": {
      "text/plain": [
       "Index(['latitude', 'longitude', 'year', 'week_no',\n",
       "       'SulphurDioxide_SO2_column_number_density',\n",
       "       'SulphurDioxide_SO2_column_number_density_amf',\n",
       "       'SulphurDioxide_SO2_slant_column_number_density',\n",
       "       'SulphurDioxide_cloud_fraction', 'SulphurDioxide_sensor_azimuth_angle',\n",
       "       'SulphurDioxide_sensor_zenith_angle',\n",
       "       'SulphurDioxide_solar_azimuth_angle',\n",
       "       'SulphurDioxide_solar_zenith_angle',\n",
       "       'SulphurDioxide_SO2_column_number_density_15km',\n",
       "       'CarbonMonoxide_CO_column_number_density',\n",
       "       'CarbonMonoxide_H2O_column_number_density',\n",
       "       'CarbonMonoxide_cloud_height', 'CarbonMonoxide_sensor_altitude',\n",
       "       'CarbonMonoxide_sensor_azimuth_angle',\n",
       "       'CarbonMonoxide_sensor_zenith_angle',\n",
       "       'CarbonMonoxide_solar_azimuth_angle',\n",
       "       'CarbonMonoxide_solar_zenith_angle',\n",
       "       'NitrogenDioxide_NO2_column_number_density',\n",
       "       'NitrogenDioxide_tropospheric_NO2_column_number_density',\n",
       "       'NitrogenDioxide_stratospheric_NO2_column_number_density',\n",
       "       'NitrogenDioxide_NO2_slant_column_number_density',\n",
       "       'NitrogenDioxide_tropopause_pressure',\n",
       "       'NitrogenDioxide_absorbing_aerosol_index',\n",
       "       'NitrogenDioxide_cloud_fraction', 'NitrogenDioxide_sensor_altitude',\n",
       "       'NitrogenDioxide_sensor_azimuth_angle',\n",
       "       'NitrogenDioxide_sensor_zenith_angle',\n",
       "       'NitrogenDioxide_solar_azimuth_angle',\n",
       "       'NitrogenDioxide_solar_zenith_angle',\n",
       "       'Formaldehyde_tropospheric_HCHO_column_number_density',\n",
       "       'Formaldehyde_tropospheric_HCHO_column_number_density_amf',\n",
       "       'Formaldehyde_HCHO_slant_column_number_density',\n",
       "       'Formaldehyde_cloud_fraction', 'Formaldehyde_solar_zenith_angle',\n",
       "       'Formaldehyde_solar_azimuth_angle', 'Formaldehyde_sensor_zenith_angle',\n",
       "       'Formaldehyde_sensor_azimuth_angle',\n",
       "       'UvAerosolIndex_absorbing_aerosol_index',\n",
       "       'UvAerosolIndex_sensor_altitude', 'UvAerosolIndex_sensor_azimuth_angle',\n",
       "       'UvAerosolIndex_sensor_zenith_angle',\n",
       "       'UvAerosolIndex_solar_azimuth_angle',\n",
       "       'UvAerosolIndex_solar_zenith_angle', 'Ozone_O3_column_number_density',\n",
       "       'Ozone_O3_column_number_density_amf',\n",
       "       'Ozone_O3_slant_column_number_density',\n",
       "       'Ozone_O3_effective_temperature', 'Ozone_cloud_fraction',\n",
       "       'Ozone_sensor_azimuth_angle', 'Ozone_sensor_zenith_angle',\n",
       "       'Ozone_solar_azimuth_angle', 'Ozone_solar_zenith_angle',\n",
       "       'UvAerosolLayerHeight_aerosol_height',\n",
       "       'UvAerosolLayerHeight_aerosol_pressure',\n",
       "       'UvAerosolLayerHeight_aerosol_optical_depth',\n",
       "       'UvAerosolLayerHeight_sensor_zenith_angle',\n",
       "       'UvAerosolLayerHeight_sensor_azimuth_angle',\n",
       "       'UvAerosolLayerHeight_solar_azimuth_angle',\n",
       "       'UvAerosolLayerHeight_solar_zenith_angle', 'Cloud_cloud_fraction',\n",
       "       'Cloud_cloud_top_pressure', 'Cloud_cloud_top_height',\n",
       "       'Cloud_cloud_base_pressure', 'Cloud_cloud_base_height',\n",
       "       'Cloud_cloud_optical_depth', 'Cloud_surface_albedo',\n",
       "       'Cloud_sensor_azimuth_angle', 'Cloud_sensor_zenith_angle',\n",
       "       'Cloud_solar_azimuth_angle', 'Cloud_solar_zenith_angle', 'emission'],\n",
       "      dtype='object')"
      ]
     },
     "execution_count": 8,
     "metadata": {},
     "output_type": "execute_result"
    }
   ],
   "source": [
    "# Remove the id column \n",
    "df.drop(\"ID_LAT_LON_YEAR_WEEK\", axis=1, inplace=True)\n",
    "df.columns"
   ]
  },
  {
   "cell_type": "code",
   "execution_count": 9,
   "id": "7d71353e",
   "metadata": {
    "execution": {
     "iopub.execute_input": "2023-08-07T08:27:31.080471Z",
     "iopub.status.busy": "2023-08-07T08:27:31.079800Z",
     "iopub.status.idle": "2023-08-07T08:27:31.109585Z",
     "shell.execute_reply": "2023-08-07T08:27:31.108595Z"
    },
    "papermill": {
     "duration": 0.052407,
     "end_time": "2023-08-07T08:27:31.112021",
     "exception": false,
     "start_time": "2023-08-07T08:27:31.059614",
     "status": "completed"
    },
    "tags": []
   },
   "outputs": [],
   "source": [
    "# drop columns with more than 30% null values \n",
    "limitPer = len(df) * .15\n",
    "df.dropna(thresh=limitPer, axis=1, inplace=True)"
   ]
  },
  {
   "cell_type": "code",
   "execution_count": 10,
   "id": "6bc53cbd",
   "metadata": {
    "execution": {
     "iopub.execute_input": "2023-08-07T08:27:31.152799Z",
     "iopub.status.busy": "2023-08-07T08:27:31.152394Z",
     "iopub.status.idle": "2023-08-07T08:27:31.181988Z",
     "shell.execute_reply": "2023-08-07T08:27:31.180281Z"
    },
    "papermill": {
     "duration": 0.052669,
     "end_time": "2023-08-07T08:27:31.184156",
     "exception": false,
     "start_time": "2023-08-07T08:27:31.131487",
     "status": "completed"
    },
    "tags": []
   },
   "outputs": [
    {
     "data": {
      "text/plain": [
       "latitude                                    0\n",
       "longitude                                   0\n",
       "year                                        0\n",
       "week_no                                     0\n",
       "SulphurDioxide_SO2_column_number_density    0\n",
       "                                           ..\n",
       "Cloud_sensor_azimuth_angle                  0\n",
       "Cloud_sensor_zenith_angle                   0\n",
       "Cloud_solar_azimuth_angle                   0\n",
       "Cloud_solar_zenith_angle                    0\n",
       "emission                                    0\n",
       "Length: 68, dtype: int64"
      ]
     },
     "execution_count": 10,
     "metadata": {},
     "output_type": "execute_result"
    }
   ],
   "source": [
    "# drop all null values then\n",
    "df.dropna(axis=0, how='any', inplace=True)\n",
    "# confirm the operation\n",
    "df.isna().sum()"
   ]
  },
  {
   "cell_type": "code",
   "execution_count": 11,
   "id": "c23c4f14",
   "metadata": {
    "execution": {
     "iopub.execute_input": "2023-08-07T08:27:31.224168Z",
     "iopub.status.busy": "2023-08-07T08:27:31.223876Z",
     "iopub.status.idle": "2023-08-07T08:27:31.229503Z",
     "shell.execute_reply": "2023-08-07T08:27:31.228612Z"
    },
    "papermill": {
     "duration": 0.027844,
     "end_time": "2023-08-07T08:27:31.231407",
     "exception": false,
     "start_time": "2023-08-07T08:27:31.203563",
     "status": "completed"
    },
    "tags": []
   },
   "outputs": [
    {
     "data": {
      "text/plain": [
       "(57209, 68)"
      ]
     },
     "execution_count": 11,
     "metadata": {},
     "output_type": "execute_result"
    }
   ],
   "source": [
    "df.shape"
   ]
  },
  {
   "cell_type": "markdown",
   "id": "504093b1",
   "metadata": {
    "papermill": {
     "duration": 0.018829,
     "end_time": "2023-08-07T08:27:31.269475",
     "exception": false,
     "start_time": "2023-08-07T08:27:31.250646",
     "status": "completed"
    },
    "tags": []
   },
   "source": [
    "## Data Analysis and Visualization"
   ]
  },
  {
   "cell_type": "code",
   "execution_count": null,
   "id": "4e2a5d00",
   "metadata": {
    "papermill": {
     "duration": 0.019096,
     "end_time": "2023-08-07T08:27:31.307572",
     "exception": false,
     "start_time": "2023-08-07T08:27:31.288476",
     "status": "completed"
    },
    "tags": []
   },
   "outputs": [],
   "source": []
  },
  {
   "cell_type": "markdown",
   "id": "aabf8d45",
   "metadata": {
    "papermill": {
     "duration": 0.018971,
     "end_time": "2023-08-07T08:27:31.345638",
     "exception": false,
     "start_time": "2023-08-07T08:27:31.326667",
     "status": "completed"
    },
    "tags": []
   },
   "source": [
    "# Machine Learning\n",
    "## Data Preprocessing "
   ]
  },
  {
   "cell_type": "markdown",
   "id": "50278e48",
   "metadata": {
    "papermill": {
     "duration": 0.019065,
     "end_time": "2023-08-07T08:27:31.383738",
     "exception": false,
     "start_time": "2023-08-07T08:27:31.364673",
     "status": "completed"
    },
    "tags": []
   },
   "source": [
    "**Split into dependent and independent datasets**"
   ]
  },
  {
   "cell_type": "code",
   "execution_count": 12,
   "id": "31c20269",
   "metadata": {
    "execution": {
     "iopub.execute_input": "2023-08-07T08:27:31.423838Z",
     "iopub.status.busy": "2023-08-07T08:27:31.422956Z",
     "iopub.status.idle": "2023-08-07T08:27:31.438390Z",
     "shell.execute_reply": "2023-08-07T08:27:31.437372Z"
    },
    "papermill": {
     "duration": 0.037732,
     "end_time": "2023-08-07T08:27:31.440511",
     "exception": false,
     "start_time": "2023-08-07T08:27:31.402779",
     "status": "completed"
    },
    "tags": []
   },
   "outputs": [],
   "source": [
    "X = df.drop(\"emission\", axis=1)\n",
    "y = df[\"emission\"]"
   ]
  },
  {
   "cell_type": "code",
   "execution_count": 13,
   "id": "54ff5799",
   "metadata": {
    "execution": {
     "iopub.execute_input": "2023-08-07T08:27:31.482024Z",
     "iopub.status.busy": "2023-08-07T08:27:31.481103Z",
     "iopub.status.idle": "2023-08-07T08:27:31.485524Z",
     "shell.execute_reply": "2023-08-07T08:27:31.484673Z"
    },
    "papermill": {
     "duration": 0.026574,
     "end_time": "2023-08-07T08:27:31.487538",
     "exception": false,
     "start_time": "2023-08-07T08:27:31.460964",
     "status": "completed"
    },
    "tags": []
   },
   "outputs": [],
   "source": [
    "# imputer = SimpleImputer(missing_values=np.nan, strategy='mean')\n",
    "# imputer = imputer.fit(X)\n",
    "  \n",
    "# X = imputer.transform(X)\n",
    "# X"
   ]
  },
  {
   "cell_type": "markdown",
   "id": "65eccdd8",
   "metadata": {
    "papermill": {
     "duration": 0.019059,
     "end_time": "2023-08-07T08:27:31.525727",
     "exception": false,
     "start_time": "2023-08-07T08:27:31.506668",
     "status": "completed"
    },
    "tags": []
   },
   "source": [
    "**Split the data into train and validation datasets**"
   ]
  },
  {
   "cell_type": "code",
   "execution_count": 14,
   "id": "ce9919cf",
   "metadata": {
    "execution": {
     "iopub.execute_input": "2023-08-07T08:27:31.565675Z",
     "iopub.status.busy": "2023-08-07T08:27:31.564888Z",
     "iopub.status.idle": "2023-08-07T08:27:31.597357Z",
     "shell.execute_reply": "2023-08-07T08:27:31.596162Z"
    },
    "papermill": {
     "duration": 0.055209,
     "end_time": "2023-08-07T08:27:31.599944",
     "exception": false,
     "start_time": "2023-08-07T08:27:31.544735",
     "status": "completed"
    },
    "tags": []
   },
   "outputs": [],
   "source": [
    "X_train, X_val, y_train, y_val = train_test_split(X, y, test_size=0.25)"
   ]
  },
  {
   "cell_type": "markdown",
   "id": "30c184f8",
   "metadata": {
    "papermill": {
     "duration": 0.019103,
     "end_time": "2023-08-07T08:27:31.638963",
     "exception": false,
     "start_time": "2023-08-07T08:27:31.619860",
     "status": "completed"
    },
    "tags": []
   },
   "source": [
    "## Models \n",
    "### Linear Regression\n"
   ]
  },
  {
   "cell_type": "code",
   "execution_count": 15,
   "id": "f6ef09d6",
   "metadata": {
    "execution": {
     "iopub.execute_input": "2023-08-07T08:27:31.679317Z",
     "iopub.status.busy": "2023-08-07T08:27:31.678974Z",
     "iopub.status.idle": "2023-08-07T08:27:31.959707Z",
     "shell.execute_reply": "2023-08-07T08:27:31.958349Z"
    },
    "papermill": {
     "duration": 0.304958,
     "end_time": "2023-08-07T08:27:31.963367",
     "exception": false,
     "start_time": "2023-08-07T08:27:31.658409",
     "status": "completed"
    },
    "tags": []
   },
   "outputs": [
    {
     "data": {
      "text/html": [
       "<style>#sk-container-id-1 {color: black;background-color: white;}#sk-container-id-1 pre{padding: 0;}#sk-container-id-1 div.sk-toggleable {background-color: white;}#sk-container-id-1 label.sk-toggleable__label {cursor: pointer;display: block;width: 100%;margin-bottom: 0;padding: 0.3em;box-sizing: border-box;text-align: center;}#sk-container-id-1 label.sk-toggleable__label-arrow:before {content: \"▸\";float: left;margin-right: 0.25em;color: #696969;}#sk-container-id-1 label.sk-toggleable__label-arrow:hover:before {color: black;}#sk-container-id-1 div.sk-estimator:hover label.sk-toggleable__label-arrow:before {color: black;}#sk-container-id-1 div.sk-toggleable__content {max-height: 0;max-width: 0;overflow: hidden;text-align: left;background-color: #f0f8ff;}#sk-container-id-1 div.sk-toggleable__content pre {margin: 0.2em;color: black;border-radius: 0.25em;background-color: #f0f8ff;}#sk-container-id-1 input.sk-toggleable__control:checked~div.sk-toggleable__content {max-height: 200px;max-width: 100%;overflow: auto;}#sk-container-id-1 input.sk-toggleable__control:checked~label.sk-toggleable__label-arrow:before {content: \"▾\";}#sk-container-id-1 div.sk-estimator input.sk-toggleable__control:checked~label.sk-toggleable__label {background-color: #d4ebff;}#sk-container-id-1 div.sk-label input.sk-toggleable__control:checked~label.sk-toggleable__label {background-color: #d4ebff;}#sk-container-id-1 input.sk-hidden--visually {border: 0;clip: rect(1px 1px 1px 1px);clip: rect(1px, 1px, 1px, 1px);height: 1px;margin: -1px;overflow: hidden;padding: 0;position: absolute;width: 1px;}#sk-container-id-1 div.sk-estimator {font-family: monospace;background-color: #f0f8ff;border: 1px dotted black;border-radius: 0.25em;box-sizing: border-box;margin-bottom: 0.5em;}#sk-container-id-1 div.sk-estimator:hover {background-color: #d4ebff;}#sk-container-id-1 div.sk-parallel-item::after {content: \"\";width: 100%;border-bottom: 1px solid gray;flex-grow: 1;}#sk-container-id-1 div.sk-label:hover label.sk-toggleable__label {background-color: #d4ebff;}#sk-container-id-1 div.sk-serial::before {content: \"\";position: absolute;border-left: 1px solid gray;box-sizing: border-box;top: 0;bottom: 0;left: 50%;z-index: 0;}#sk-container-id-1 div.sk-serial {display: flex;flex-direction: column;align-items: center;background-color: white;padding-right: 0.2em;padding-left: 0.2em;position: relative;}#sk-container-id-1 div.sk-item {position: relative;z-index: 1;}#sk-container-id-1 div.sk-parallel {display: flex;align-items: stretch;justify-content: center;background-color: white;position: relative;}#sk-container-id-1 div.sk-item::before, #sk-container-id-1 div.sk-parallel-item::before {content: \"\";position: absolute;border-left: 1px solid gray;box-sizing: border-box;top: 0;bottom: 0;left: 50%;z-index: -1;}#sk-container-id-1 div.sk-parallel-item {display: flex;flex-direction: column;z-index: 1;position: relative;background-color: white;}#sk-container-id-1 div.sk-parallel-item:first-child::after {align-self: flex-end;width: 50%;}#sk-container-id-1 div.sk-parallel-item:last-child::after {align-self: flex-start;width: 50%;}#sk-container-id-1 div.sk-parallel-item:only-child::after {width: 0;}#sk-container-id-1 div.sk-dashed-wrapped {border: 1px dashed gray;margin: 0 0.4em 0.5em 0.4em;box-sizing: border-box;padding-bottom: 0.4em;background-color: white;}#sk-container-id-1 div.sk-label label {font-family: monospace;font-weight: bold;display: inline-block;line-height: 1.2em;}#sk-container-id-1 div.sk-label-container {text-align: center;}#sk-container-id-1 div.sk-container {/* jupyter's `normalize.less` sets `[hidden] { display: none; }` but bootstrap.min.css set `[hidden] { display: none !important; }` so we also need the `!important` here to be able to override the default hidden behavior on the sphinx rendered scikit-learn.org. See: https://github.com/scikit-learn/scikit-learn/issues/21755 */display: inline-block !important;position: relative;}#sk-container-id-1 div.sk-text-repr-fallback {display: none;}</style><div id=\"sk-container-id-1\" class=\"sk-top-container\"><div class=\"sk-text-repr-fallback\"><pre>LinearRegression()</pre><b>In a Jupyter environment, please rerun this cell to show the HTML representation or trust the notebook. <br />On GitHub, the HTML representation is unable to render, please try loading this page with nbviewer.org.</b></div><div class=\"sk-container\" hidden><div class=\"sk-item\"><div class=\"sk-estimator sk-toggleable\"><input class=\"sk-toggleable__control sk-hidden--visually\" id=\"sk-estimator-id-1\" type=\"checkbox\" checked><label for=\"sk-estimator-id-1\" class=\"sk-toggleable__label sk-toggleable__label-arrow\">LinearRegression</label><div class=\"sk-toggleable__content\"><pre>LinearRegression()</pre></div></div></div></div></div>"
      ],
      "text/plain": [
       "LinearRegression()"
      ]
     },
     "execution_count": 15,
     "metadata": {},
     "output_type": "execute_result"
    }
   ],
   "source": [
    "# Fit the model to train dataset\n",
    "lr = LinearRegression()\n",
    "\n",
    "lr.fit(X_train, y_train)"
   ]
  },
  {
   "cell_type": "code",
   "execution_count": 16,
   "id": "6ddca041",
   "metadata": {
    "execution": {
     "iopub.execute_input": "2023-08-07T08:27:32.048342Z",
     "iopub.status.busy": "2023-08-07T08:27:32.047737Z",
     "iopub.status.idle": "2023-08-07T08:27:32.069352Z",
     "shell.execute_reply": "2023-08-07T08:27:32.068075Z"
    },
    "papermill": {
     "duration": 0.067446,
     "end_time": "2023-08-07T08:27:32.072540",
     "exception": false,
     "start_time": "2023-08-07T08:27:32.005094",
     "status": "completed"
    },
    "tags": []
   },
   "outputs": [
    {
     "data": {
      "text/plain": [
       "array([ 58.34665626,  66.87070613,  46.76158372, ..., 129.84086159,\n",
       "        47.15681692,  74.91671485])"
      ]
     },
     "execution_count": 16,
     "metadata": {},
     "output_type": "execute_result"
    }
   ],
   "source": [
    "# Do the predictions\n",
    "y_pred = lr.predict(X_val)\n",
    "y_pred"
   ]
  },
  {
   "cell_type": "markdown",
   "id": "5d3003fa",
   "metadata": {
    "papermill": {
     "duration": 0.045543,
     "end_time": "2023-08-07T08:27:32.162699",
     "exception": false,
     "start_time": "2023-08-07T08:27:32.117156",
     "status": "completed"
    },
    "tags": []
   },
   "source": [
    "**Evaluate linear regression**"
   ]
  },
  {
   "cell_type": "code",
   "execution_count": 17,
   "id": "c55b34f7",
   "metadata": {
    "execution": {
     "iopub.execute_input": "2023-08-07T08:27:32.223063Z",
     "iopub.status.busy": "2023-08-07T08:27:32.222628Z",
     "iopub.status.idle": "2023-08-07T08:27:32.230207Z",
     "shell.execute_reply": "2023-08-07T08:27:32.229544Z"
    },
    "papermill": {
     "duration": 0.030801,
     "end_time": "2023-08-07T08:27:32.232065",
     "exception": false,
     "start_time": "2023-08-07T08:27:32.201264",
     "status": "completed"
    },
    "tags": []
   },
   "outputs": [
    {
     "data": {
      "text/plain": [
       "0.032788210218455904"
      ]
     },
     "execution_count": 17,
     "metadata": {},
     "output_type": "execute_result"
    }
   ],
   "source": [
    "# Accuracy\n",
    "r2_score(y_val, y_pred)"
   ]
  },
  {
   "cell_type": "code",
   "execution_count": 18,
   "id": "8588dc61",
   "metadata": {
    "execution": {
     "iopub.execute_input": "2023-08-07T08:27:32.274875Z",
     "iopub.status.busy": "2023-08-07T08:27:32.274066Z",
     "iopub.status.idle": "2023-08-07T08:27:32.281864Z",
     "shell.execute_reply": "2023-08-07T08:27:32.280813Z"
    },
    "papermill": {
     "duration": 0.031492,
     "end_time": "2023-08-07T08:27:32.283978",
     "exception": false,
     "start_time": "2023-08-07T08:27:32.252486",
     "status": "completed"
    },
    "tags": []
   },
   "outputs": [
    {
     "data": {
      "text/plain": [
       "134.77064479900525"
      ]
     },
     "execution_count": 18,
     "metadata": {},
     "output_type": "execute_result"
    }
   ],
   "source": [
    "sqrt(mean_squared_error(y_val, y_pred))"
   ]
  },
  {
   "cell_type": "markdown",
   "id": "d6cdf0a8",
   "metadata": {
    "papermill": {
     "duration": 0.020459,
     "end_time": "2023-08-07T08:27:32.324225",
     "exception": false,
     "start_time": "2023-08-07T08:27:32.303766",
     "status": "completed"
    },
    "tags": []
   },
   "source": [
    "### Support Vector Machine regressor"
   ]
  },
  {
   "cell_type": "code",
   "execution_count": 19,
   "id": "a305b4a2",
   "metadata": {
    "execution": {
     "iopub.execute_input": "2023-08-07T08:27:32.367660Z",
     "iopub.status.busy": "2023-08-07T08:27:32.367290Z",
     "iopub.status.idle": "2023-08-07T08:27:32.371437Z",
     "shell.execute_reply": "2023-08-07T08:27:32.370473Z"
    },
    "papermill": {
     "duration": 0.028584,
     "end_time": "2023-08-07T08:27:32.373612",
     "exception": false,
     "start_time": "2023-08-07T08:27:32.345028",
     "status": "completed"
    },
    "tags": []
   },
   "outputs": [],
   "source": [
    "# # Fit the model to train dataset\n",
    "# svr = SVR()\n",
    "\n",
    "# svr.fit(X_train, y_train)"
   ]
  },
  {
   "cell_type": "markdown",
   "id": "30be0f1d",
   "metadata": {
    "papermill": {
     "duration": 0.020779,
     "end_time": "2023-08-07T08:27:32.415605",
     "exception": false,
     "start_time": "2023-08-07T08:27:32.394826",
     "status": "completed"
    },
    "tags": []
   },
   "source": [
    "**Evaluate SVM regressor**"
   ]
  },
  {
   "cell_type": "code",
   "execution_count": 20,
   "id": "ca0ebacb",
   "metadata": {
    "execution": {
     "iopub.execute_input": "2023-08-07T08:27:32.458897Z",
     "iopub.status.busy": "2023-08-07T08:27:32.458566Z",
     "iopub.status.idle": "2023-08-07T08:27:32.463059Z",
     "shell.execute_reply": "2023-08-07T08:27:32.462054Z"
    },
    "papermill": {
     "duration": 0.028145,
     "end_time": "2023-08-07T08:27:32.465299",
     "exception": false,
     "start_time": "2023-08-07T08:27:32.437154",
     "status": "completed"
    },
    "tags": []
   },
   "outputs": [],
   "source": [
    "# # Do the predictions\n",
    "# y_pred = svr.predict(X_val)\n",
    "\n",
    "# # Accuracy\n",
    "# r2_score(y_val, y_pred)"
   ]
  },
  {
   "cell_type": "code",
   "execution_count": 21,
   "id": "44af65be",
   "metadata": {
    "execution": {
     "iopub.execute_input": "2023-08-07T08:27:32.508717Z",
     "iopub.status.busy": "2023-08-07T08:27:32.507865Z",
     "iopub.status.idle": "2023-08-07T08:27:32.512388Z",
     "shell.execute_reply": "2023-08-07T08:27:32.511475Z"
    },
    "papermill": {
     "duration": 0.028552,
     "end_time": "2023-08-07T08:27:32.514501",
     "exception": false,
     "start_time": "2023-08-07T08:27:32.485949",
     "status": "completed"
    },
    "tags": []
   },
   "outputs": [],
   "source": [
    "# sqrt(mean_squared_error(y_val, y_pred))"
   ]
  },
  {
   "cell_type": "markdown",
   "id": "79312ed1",
   "metadata": {
    "papermill": {
     "duration": 0.020672,
     "end_time": "2023-08-07T08:27:32.556433",
     "exception": false,
     "start_time": "2023-08-07T08:27:32.535761",
     "status": "completed"
    },
    "tags": []
   },
   "source": [
    "### Random Forest Regressor"
   ]
  },
  {
   "cell_type": "code",
   "execution_count": 22,
   "id": "ef182aae",
   "metadata": {
    "execution": {
     "iopub.execute_input": "2023-08-07T08:27:32.600649Z",
     "iopub.status.busy": "2023-08-07T08:27:32.600103Z",
     "iopub.status.idle": "2023-08-07T08:32:41.931319Z",
     "shell.execute_reply": "2023-08-07T08:32:41.930380Z"
    },
    "papermill": {
     "duration": 309.375945,
     "end_time": "2023-08-07T08:32:41.953069",
     "exception": false,
     "start_time": "2023-08-07T08:27:32.577124",
     "status": "completed"
    },
    "tags": []
   },
   "outputs": [
    {
     "data": {
      "text/html": [
       "<style>#sk-container-id-2 {color: black;background-color: white;}#sk-container-id-2 pre{padding: 0;}#sk-container-id-2 div.sk-toggleable {background-color: white;}#sk-container-id-2 label.sk-toggleable__label {cursor: pointer;display: block;width: 100%;margin-bottom: 0;padding: 0.3em;box-sizing: border-box;text-align: center;}#sk-container-id-2 label.sk-toggleable__label-arrow:before {content: \"▸\";float: left;margin-right: 0.25em;color: #696969;}#sk-container-id-2 label.sk-toggleable__label-arrow:hover:before {color: black;}#sk-container-id-2 div.sk-estimator:hover label.sk-toggleable__label-arrow:before {color: black;}#sk-container-id-2 div.sk-toggleable__content {max-height: 0;max-width: 0;overflow: hidden;text-align: left;background-color: #f0f8ff;}#sk-container-id-2 div.sk-toggleable__content pre {margin: 0.2em;color: black;border-radius: 0.25em;background-color: #f0f8ff;}#sk-container-id-2 input.sk-toggleable__control:checked~div.sk-toggleable__content {max-height: 200px;max-width: 100%;overflow: auto;}#sk-container-id-2 input.sk-toggleable__control:checked~label.sk-toggleable__label-arrow:before {content: \"▾\";}#sk-container-id-2 div.sk-estimator input.sk-toggleable__control:checked~label.sk-toggleable__label {background-color: #d4ebff;}#sk-container-id-2 div.sk-label input.sk-toggleable__control:checked~label.sk-toggleable__label {background-color: #d4ebff;}#sk-container-id-2 input.sk-hidden--visually {border: 0;clip: rect(1px 1px 1px 1px);clip: rect(1px, 1px, 1px, 1px);height: 1px;margin: -1px;overflow: hidden;padding: 0;position: absolute;width: 1px;}#sk-container-id-2 div.sk-estimator {font-family: monospace;background-color: #f0f8ff;border: 1px dotted black;border-radius: 0.25em;box-sizing: border-box;margin-bottom: 0.5em;}#sk-container-id-2 div.sk-estimator:hover {background-color: #d4ebff;}#sk-container-id-2 div.sk-parallel-item::after {content: \"\";width: 100%;border-bottom: 1px solid gray;flex-grow: 1;}#sk-container-id-2 div.sk-label:hover label.sk-toggleable__label {background-color: #d4ebff;}#sk-container-id-2 div.sk-serial::before {content: \"\";position: absolute;border-left: 1px solid gray;box-sizing: border-box;top: 0;bottom: 0;left: 50%;z-index: 0;}#sk-container-id-2 div.sk-serial {display: flex;flex-direction: column;align-items: center;background-color: white;padding-right: 0.2em;padding-left: 0.2em;position: relative;}#sk-container-id-2 div.sk-item {position: relative;z-index: 1;}#sk-container-id-2 div.sk-parallel {display: flex;align-items: stretch;justify-content: center;background-color: white;position: relative;}#sk-container-id-2 div.sk-item::before, #sk-container-id-2 div.sk-parallel-item::before {content: \"\";position: absolute;border-left: 1px solid gray;box-sizing: border-box;top: 0;bottom: 0;left: 50%;z-index: -1;}#sk-container-id-2 div.sk-parallel-item {display: flex;flex-direction: column;z-index: 1;position: relative;background-color: white;}#sk-container-id-2 div.sk-parallel-item:first-child::after {align-self: flex-end;width: 50%;}#sk-container-id-2 div.sk-parallel-item:last-child::after {align-self: flex-start;width: 50%;}#sk-container-id-2 div.sk-parallel-item:only-child::after {width: 0;}#sk-container-id-2 div.sk-dashed-wrapped {border: 1px dashed gray;margin: 0 0.4em 0.5em 0.4em;box-sizing: border-box;padding-bottom: 0.4em;background-color: white;}#sk-container-id-2 div.sk-label label {font-family: monospace;font-weight: bold;display: inline-block;line-height: 1.2em;}#sk-container-id-2 div.sk-label-container {text-align: center;}#sk-container-id-2 div.sk-container {/* jupyter's `normalize.less` sets `[hidden] { display: none; }` but bootstrap.min.css set `[hidden] { display: none !important; }` so we also need the `!important` here to be able to override the default hidden behavior on the sphinx rendered scikit-learn.org. See: https://github.com/scikit-learn/scikit-learn/issues/21755 */display: inline-block !important;position: relative;}#sk-container-id-2 div.sk-text-repr-fallback {display: none;}</style><div id=\"sk-container-id-2\" class=\"sk-top-container\"><div class=\"sk-text-repr-fallback\"><pre>RandomForestRegressor()</pre><b>In a Jupyter environment, please rerun this cell to show the HTML representation or trust the notebook. <br />On GitHub, the HTML representation is unable to render, please try loading this page with nbviewer.org.</b></div><div class=\"sk-container\" hidden><div class=\"sk-item\"><div class=\"sk-estimator sk-toggleable\"><input class=\"sk-toggleable__control sk-hidden--visually\" id=\"sk-estimator-id-2\" type=\"checkbox\" checked><label for=\"sk-estimator-id-2\" class=\"sk-toggleable__label sk-toggleable__label-arrow\">RandomForestRegressor</label><div class=\"sk-toggleable__content\"><pre>RandomForestRegressor()</pre></div></div></div></div></div>"
      ],
      "text/plain": [
       "RandomForestRegressor()"
      ]
     },
     "execution_count": 22,
     "metadata": {},
     "output_type": "execute_result"
    }
   ],
   "source": [
    "# Fit the model to train dataset\n",
    "rf = RandomForestRegressor()\n",
    "\n",
    "rf.fit(X_train, y_train)"
   ]
  },
  {
   "cell_type": "markdown",
   "id": "19341ce0",
   "metadata": {
    "papermill": {
     "duration": 0.028255,
     "end_time": "2023-08-07T08:32:42.010369",
     "exception": false,
     "start_time": "2023-08-07T08:32:41.982114",
     "status": "completed"
    },
    "tags": []
   },
   "source": [
    "**Evaluate the Random Forest regressor**"
   ]
  },
  {
   "cell_type": "code",
   "execution_count": 23,
   "id": "8ada86b9",
   "metadata": {
    "execution": {
     "iopub.execute_input": "2023-08-07T08:32:42.070177Z",
     "iopub.status.busy": "2023-08-07T08:32:42.069799Z",
     "iopub.status.idle": "2023-08-07T08:32:42.664325Z",
     "shell.execute_reply": "2023-08-07T08:32:42.663402Z"
    },
    "papermill": {
     "duration": 0.627344,
     "end_time": "2023-08-07T08:32:42.667141",
     "exception": false,
     "start_time": "2023-08-07T08:32:42.039797",
     "status": "completed"
    },
    "tags": []
   },
   "outputs": [
    {
     "data": {
      "text/plain": [
       "0.9681413883550515"
      ]
     },
     "execution_count": 23,
     "metadata": {},
     "output_type": "execute_result"
    }
   ],
   "source": [
    "# Do the predictions\n",
    "y_pred = rf.predict(X_val)\n",
    "\n",
    "# Accuracy\n",
    "r2_score(y_val, y_pred)# Do the predictions"
   ]
  },
  {
   "cell_type": "code",
   "execution_count": 24,
   "id": "d13d7727",
   "metadata": {
    "execution": {
     "iopub.execute_input": "2023-08-07T08:32:42.727411Z",
     "iopub.status.busy": "2023-08-07T08:32:42.727074Z",
     "iopub.status.idle": "2023-08-07T08:32:42.734615Z",
     "shell.execute_reply": "2023-08-07T08:32:42.733593Z"
    },
    "papermill": {
     "duration": 0.040156,
     "end_time": "2023-08-07T08:32:42.736918",
     "exception": false,
     "start_time": "2023-08-07T08:32:42.696762",
     "status": "completed"
    },
    "tags": []
   },
   "outputs": [
    {
     "data": {
      "text/plain": [
       "24.459520464733156"
      ]
     },
     "execution_count": 24,
     "metadata": {},
     "output_type": "execute_result"
    }
   ],
   "source": [
    "sqrt(mean_squared_error(y_val, y_pred))"
   ]
  },
  {
   "cell_type": "markdown",
   "id": "92a11fcc",
   "metadata": {
    "papermill": {
     "duration": 0.019852,
     "end_time": "2023-08-07T08:32:42.776926",
     "exception": false,
     "start_time": "2023-08-07T08:32:42.757074",
     "status": "completed"
    },
    "tags": []
   },
   "source": [
    "### Feature importance\n",
    "So far random forest regressor has the best accuracy. Lets find the most important features in the dataset. "
   ]
  },
  {
   "cell_type": "code",
   "execution_count": 25,
   "id": "b268cdad",
   "metadata": {
    "execution": {
     "iopub.execute_input": "2023-08-07T08:32:42.819079Z",
     "iopub.status.busy": "2023-08-07T08:32:42.818773Z",
     "iopub.status.idle": "2023-08-07T08:38:21.420733Z",
     "shell.execute_reply": "2023-08-07T08:38:21.419672Z"
    },
    "papermill": {
     "duration": 338.625747,
     "end_time": "2023-08-07T08:38:21.423291",
     "exception": false,
     "start_time": "2023-08-07T08:32:42.797544",
     "status": "completed"
    },
    "tags": []
   },
   "outputs": [],
   "source": [
    "from sklearn.inspection import permutation_importance\n",
    "\n",
    "# rf = RandomForestRegressor(n_estimators=100, random_state=42)\n",
    "# rf.fit(X_train, y_train)\n",
    "\n",
    "result = permutation_importance(rf, X_val, y_val, n_repeats=10, random_state=42)\n",
    "\n"
   ]
  },
  {
   "cell_type": "code",
   "execution_count": 26,
   "id": "0c6c74be",
   "metadata": {
    "execution": {
     "iopub.execute_input": "2023-08-07T08:38:21.467672Z",
     "iopub.status.busy": "2023-08-07T08:38:21.466094Z",
     "iopub.status.idle": "2023-08-07T08:38:21.481538Z",
     "shell.execute_reply": "2023-08-07T08:38:21.480510Z"
    },
    "papermill": {
     "duration": 0.039725,
     "end_time": "2023-08-07T08:38:21.483757",
     "exception": false,
     "start_time": "2023-08-07T08:38:21.444032",
     "status": "completed"
    },
    "tags": []
   },
   "outputs": [
    {
     "data": {
      "text/html": [
       "<div>\n",
       "<style scoped>\n",
       "    .dataframe tbody tr th:only-of-type {\n",
       "        vertical-align: middle;\n",
       "    }\n",
       "\n",
       "    .dataframe tbody tr th {\n",
       "        vertical-align: top;\n",
       "    }\n",
       "\n",
       "    .dataframe thead th {\n",
       "        text-align: right;\n",
       "    }\n",
       "</style>\n",
       "<table border=\"1\" class=\"dataframe\">\n",
       "  <thead>\n",
       "    <tr style=\"text-align: right;\">\n",
       "      <th></th>\n",
       "      <th>Importance</th>\n",
       "      <th>Std</th>\n",
       "    </tr>\n",
       "  </thead>\n",
       "  <tbody>\n",
       "    <tr>\n",
       "      <th>NitrogenDioxide_solar_zenith_angle</th>\n",
       "      <td>1.619906</td>\n",
       "      <td>0.054685</td>\n",
       "    </tr>\n",
       "    <tr>\n",
       "      <th>Ozone_cloud_fraction</th>\n",
       "      <td>0.588582</td>\n",
       "      <td>0.054021</td>\n",
       "    </tr>\n",
       "    <tr>\n",
       "      <th>UvAerosolIndex_sensor_azimuth_angle</th>\n",
       "      <td>0.160881</td>\n",
       "      <td>0.047008</td>\n",
       "    </tr>\n",
       "    <tr>\n",
       "      <th>NitrogenDioxide_NO2_column_number_density</th>\n",
       "      <td>0.003647</td>\n",
       "      <td>0.000311</td>\n",
       "    </tr>\n",
       "    <tr>\n",
       "      <th>Formaldehyde_tropospheric_HCHO_column_number_density_amf</th>\n",
       "      <td>0.002622</td>\n",
       "      <td>0.000152</td>\n",
       "    </tr>\n",
       "    <tr>\n",
       "      <th>...</th>\n",
       "      <td>...</td>\n",
       "      <td>...</td>\n",
       "    </tr>\n",
       "    <tr>\n",
       "      <th>Formaldehyde_solar_azimuth_angle</th>\n",
       "      <td>-0.000044</td>\n",
       "      <td>0.000014</td>\n",
       "    </tr>\n",
       "    <tr>\n",
       "      <th>Ozone_solar_zenith_angle</th>\n",
       "      <td>-0.000046</td>\n",
       "      <td>0.000028</td>\n",
       "    </tr>\n",
       "    <tr>\n",
       "      <th>CarbonMonoxide_sensor_zenith_angle</th>\n",
       "      <td>-0.000047</td>\n",
       "      <td>0.000033</td>\n",
       "    </tr>\n",
       "    <tr>\n",
       "      <th>SulphurDioxide_SO2_column_number_density_amf</th>\n",
       "      <td>-0.000053</td>\n",
       "      <td>0.000028</td>\n",
       "    </tr>\n",
       "    <tr>\n",
       "      <th>NitrogenDioxide_solar_azimuth_angle</th>\n",
       "      <td>-0.000082</td>\n",
       "      <td>0.000098</td>\n",
       "    </tr>\n",
       "  </tbody>\n",
       "</table>\n",
       "<p>67 rows × 2 columns</p>\n",
       "</div>"
      ],
      "text/plain": [
       "                                                    Importance       Std\n",
       "NitrogenDioxide_solar_zenith_angle                    1.619906  0.054685\n",
       "Ozone_cloud_fraction                                  0.588582  0.054021\n",
       "UvAerosolIndex_sensor_azimuth_angle                   0.160881  0.047008\n",
       "NitrogenDioxide_NO2_column_number_density             0.003647  0.000311\n",
       "Formaldehyde_tropospheric_HCHO_column_number_de...    0.002622  0.000152\n",
       "...                                                        ...       ...\n",
       "Formaldehyde_solar_azimuth_angle                     -0.000044  0.000014\n",
       "Ozone_solar_zenith_angle                             -0.000046  0.000028\n",
       "CarbonMonoxide_sensor_zenith_angle                   -0.000047  0.000033\n",
       "SulphurDioxide_SO2_column_number_density_amf         -0.000053  0.000028\n",
       "NitrogenDioxide_solar_azimuth_angle                  -0.000082  0.000098\n",
       "\n",
       "[67 rows x 2 columns]"
      ]
     },
     "execution_count": 26,
     "metadata": {},
     "output_type": "execute_result"
    }
   ],
   "source": [
    "perm_importances = result.importances_mean\n",
    "perm_std = result.importances_std\n",
    "sorted_idx = perm_importances.argsort()\n",
    "feature_names = X_val.columns\n",
    "\n",
    "feature_importance_df = pd.DataFrame({\n",
    "    'Importance': perm_importances, \n",
    "    'Std': perm_std\n",
    "}, index=feature_names[sorted_idx]).sort_values('Importance',ascending=False)\n",
    "\n",
    "feature_importance_df"
   ]
  },
  {
   "cell_type": "markdown",
   "id": "ed22da65",
   "metadata": {
    "papermill": {
     "duration": 0.020678,
     "end_time": "2023-08-07T08:38:21.526690",
     "exception": false,
     "start_time": "2023-08-07T08:38:21.506012",
     "status": "completed"
    },
    "tags": []
   },
   "source": [
    "#### $1^{st}$ Trial\n",
    "Features that have importance more than zero will be selected\n"
   ]
  },
  {
   "cell_type": "code",
   "execution_count": 27,
   "id": "d2e6ff25",
   "metadata": {
    "execution": {
     "iopub.execute_input": "2023-08-07T08:38:21.569089Z",
     "iopub.status.busy": "2023-08-07T08:38:21.568202Z",
     "iopub.status.idle": "2023-08-07T08:38:21.573524Z",
     "shell.execute_reply": "2023-08-07T08:38:21.572677Z"
    },
    "papermill": {
     "duration": 0.028525,
     "end_time": "2023-08-07T08:38:21.575427",
     "exception": false,
     "start_time": "2023-08-07T08:38:21.546902",
     "status": "completed"
    },
    "tags": []
   },
   "outputs": [],
   "source": [
    "selected_features = feature_importance_df[feature_importance_df[\"Importance\"]>0].index.values"
   ]
  },
  {
   "cell_type": "code",
   "execution_count": 28,
   "id": "9a620c05",
   "metadata": {
    "execution": {
     "iopub.execute_input": "2023-08-07T08:38:21.617935Z",
     "iopub.status.busy": "2023-08-07T08:38:21.617084Z",
     "iopub.status.idle": "2023-08-07T08:38:21.629198Z",
     "shell.execute_reply": "2023-08-07T08:38:21.628192Z"
    },
    "papermill": {
     "duration": 0.035616,
     "end_time": "2023-08-07T08:38:21.631367",
     "exception": false,
     "start_time": "2023-08-07T08:38:21.595751",
     "status": "completed"
    },
    "tags": []
   },
   "outputs": [],
   "source": [
    "X_train1  = X_train[selected_features]\n",
    "X_val1  = X_val[selected_features]"
   ]
  },
  {
   "cell_type": "code",
   "execution_count": 29,
   "id": "f52827fe",
   "metadata": {
    "execution": {
     "iopub.execute_input": "2023-08-07T08:38:21.676651Z",
     "iopub.status.busy": "2023-08-07T08:38:21.675788Z",
     "iopub.status.idle": "2023-08-07T08:42:00.921345Z",
     "shell.execute_reply": "2023-08-07T08:42:00.920270Z"
    },
    "papermill": {
     "duration": 219.290768,
     "end_time": "2023-08-07T08:42:00.944409",
     "exception": false,
     "start_time": "2023-08-07T08:38:21.653641",
     "status": "completed"
    },
    "tags": []
   },
   "outputs": [
    {
     "data": {
      "text/plain": [
       "0.9695923594846481"
      ]
     },
     "execution_count": 29,
     "metadata": {},
     "output_type": "execute_result"
    }
   ],
   "source": [
    "# Fit the model to train dataset\n",
    "rf = RandomForestRegressor()\n",
    "rf.fit(X_train1, y_train)\n",
    "\n",
    "# Do the predictions\n",
    "y_pred = rf.predict(X_val1)\n",
    "\n",
    "# Accuracy\n",
    "r2_score(y_val, y_pred)# Do the predictions"
   ]
  },
  {
   "cell_type": "code",
   "execution_count": 30,
   "id": "d742fb37",
   "metadata": {
    "execution": {
     "iopub.execute_input": "2023-08-07T08:42:00.990292Z",
     "iopub.status.busy": "2023-08-07T08:42:00.989282Z",
     "iopub.status.idle": "2023-08-07T08:42:00.996666Z",
     "shell.execute_reply": "2023-08-07T08:42:00.995656Z"
    },
    "papermill": {
     "duration": 0.03185,
     "end_time": "2023-08-07T08:42:00.998634",
     "exception": false,
     "start_time": "2023-08-07T08:42:00.966784",
     "status": "completed"
    },
    "tags": []
   },
   "outputs": [
    {
     "data": {
      "text/plain": [
       "23.896036696404764"
      ]
     },
     "execution_count": 30,
     "metadata": {},
     "output_type": "execute_result"
    }
   ],
   "source": [
    "sqrt(mean_squared_error(y_val, y_pred))"
   ]
  },
  {
   "cell_type": "markdown",
   "id": "a66f540d",
   "metadata": {
    "papermill": {
     "duration": 0.021538,
     "end_time": "2023-08-07T08:42:01.041542",
     "exception": false,
     "start_time": "2023-08-07T08:42:01.020004",
     "status": "completed"
    },
    "tags": []
   },
   "source": [
    "#### $2^{nd}$ Trial\n",
    "Features that have importance more than 0.1 will be selected"
   ]
  },
  {
   "cell_type": "code",
   "execution_count": 31,
   "id": "854fc1f4",
   "metadata": {
    "execution": {
     "iopub.execute_input": "2023-08-07T08:42:01.085256Z",
     "iopub.status.busy": "2023-08-07T08:42:01.084229Z",
     "iopub.status.idle": "2023-08-07T08:42:01.090092Z",
     "shell.execute_reply": "2023-08-07T08:42:01.089242Z"
    },
    "papermill": {
     "duration": 0.029635,
     "end_time": "2023-08-07T08:42:01.091990",
     "exception": false,
     "start_time": "2023-08-07T08:42:01.062355",
     "status": "completed"
    },
    "tags": []
   },
   "outputs": [],
   "source": [
    "selected_features = feature_importance_df[feature_importance_df[\"Importance\"]>0.1].index.values"
   ]
  },
  {
   "cell_type": "code",
   "execution_count": 32,
   "id": "59306330",
   "metadata": {
    "execution": {
     "iopub.execute_input": "2023-08-07T08:42:01.140721Z",
     "iopub.status.busy": "2023-08-07T08:42:01.139786Z",
     "iopub.status.idle": "2023-08-07T08:42:01.147115Z",
     "shell.execute_reply": "2023-08-07T08:42:01.146157Z"
    },
    "papermill": {
     "duration": 0.032557,
     "end_time": "2023-08-07T08:42:01.149447",
     "exception": false,
     "start_time": "2023-08-07T08:42:01.116890",
     "status": "completed"
    },
    "tags": []
   },
   "outputs": [],
   "source": [
    "X_train2  = X_train[selected_features]\n",
    "X_val2  = X_val[selected_features]"
   ]
  },
  {
   "cell_type": "code",
   "execution_count": 33,
   "id": "ea1627f9",
   "metadata": {
    "execution": {
     "iopub.execute_input": "2023-08-07T08:42:01.192603Z",
     "iopub.status.busy": "2023-08-07T08:42:01.192300Z",
     "iopub.status.idle": "2023-08-07T08:42:25.803316Z",
     "shell.execute_reply": "2023-08-07T08:42:25.802253Z"
    },
    "papermill": {
     "duration": 24.634936,
     "end_time": "2023-08-07T08:42:25.805436",
     "exception": false,
     "start_time": "2023-08-07T08:42:01.170500",
     "status": "completed"
    },
    "tags": []
   },
   "outputs": [
    {
     "data": {
      "text/plain": [
       "-0.04609822545613551"
      ]
     },
     "execution_count": 33,
     "metadata": {},
     "output_type": "execute_result"
    }
   ],
   "source": [
    "# Fit the model to train dataset\n",
    "rf = RandomForestRegressor()\n",
    "rf.fit(X_train2, y_train)\n",
    "\n",
    "# Do the predictions\n",
    "y_pred = rf.predict(X_val2)\n",
    "\n",
    "# Accuracy\n",
    "r2_score(y_val, y_pred)# Do the predictions"
   ]
  },
  {
   "cell_type": "code",
   "execution_count": 34,
   "id": "0a572d68",
   "metadata": {
    "execution": {
     "iopub.execute_input": "2023-08-07T08:42:25.849363Z",
     "iopub.status.busy": "2023-08-07T08:42:25.849025Z",
     "iopub.status.idle": "2023-08-07T08:42:25.856912Z",
     "shell.execute_reply": "2023-08-07T08:42:25.855780Z"
    },
    "papermill": {
     "duration": 0.032758,
     "end_time": "2023-08-07T08:42:25.859418",
     "exception": false,
     "start_time": "2023-08-07T08:42:25.826660",
     "status": "completed"
    },
    "tags": []
   },
   "outputs": [
    {
     "data": {
      "text/plain": [
       "140.15892183894286"
      ]
     },
     "execution_count": 34,
     "metadata": {},
     "output_type": "execute_result"
    }
   ],
   "source": [
    "sqrt(mean_squared_error(y_val, y_pred))"
   ]
  },
  {
   "cell_type": "markdown",
   "id": "353ed999",
   "metadata": {
    "papermill": {
     "duration": 0.020568,
     "end_time": "2023-08-07T08:42:25.902787",
     "exception": false,
     "start_time": "2023-08-07T08:42:25.882219",
     "status": "completed"
    },
    "tags": []
   },
   "source": [
    "### Correlation"
   ]
  },
  {
   "cell_type": "markdown",
   "id": "4a26095f",
   "metadata": {
    "papermill": {
     "duration": 0.020731,
     "end_time": "2023-08-07T08:42:25.944450",
     "exception": false,
     "start_time": "2023-08-07T08:42:25.923719",
     "status": "completed"
    },
    "tags": []
   },
   "source": [
    "Calculate correlation and select features that are more correlated with \"emission\" variable. "
   ]
  },
  {
   "cell_type": "code",
   "execution_count": 35,
   "id": "d38cc6f2",
   "metadata": {
    "execution": {
     "iopub.execute_input": "2023-08-07T08:42:25.988807Z",
     "iopub.status.busy": "2023-08-07T08:42:25.988510Z",
     "iopub.status.idle": "2023-08-07T08:42:25.992554Z",
     "shell.execute_reply": "2023-08-07T08:42:25.991603Z"
    },
    "papermill": {
     "duration": 0.027737,
     "end_time": "2023-08-07T08:42:25.994577",
     "exception": false,
     "start_time": "2023-08-07T08:42:25.966840",
     "status": "completed"
    },
    "tags": []
   },
   "outputs": [],
   "source": [
    "# %matplotlib inline\n",
    "# sns.set()\n",
    "\n",
    "# # Plotting\n",
    "# plt.figure(figsize=(7, 7))\n",
    "# sns.heatmap(df.corr(), annot=True, cmap=\"Greens\")\n",
    "# plt.show()"
   ]
  },
  {
   "cell_type": "code",
   "execution_count": 36,
   "id": "2f76a503",
   "metadata": {
    "execution": {
     "iopub.execute_input": "2023-08-07T08:42:26.038105Z",
     "iopub.status.busy": "2023-08-07T08:42:26.037836Z",
     "iopub.status.idle": "2023-08-07T08:42:26.693857Z",
     "shell.execute_reply": "2023-08-07T08:42:26.692762Z"
    },
    "papermill": {
     "duration": 0.68117,
     "end_time": "2023-08-07T08:42:26.696575",
     "exception": false,
     "start_time": "2023-08-07T08:42:26.015405",
     "status": "completed"
    },
    "tags": []
   },
   "outputs": [
    {
     "data": {
      "text/plain": [
       "array(['latitude', 'longitude', 'year',\n",
       "       'SulphurDioxide_SO2_column_number_density',\n",
       "       'SulphurDioxide_SO2_slant_column_number_density',\n",
       "       'SulphurDioxide_sensor_azimuth_angle',\n",
       "       'SulphurDioxide_solar_azimuth_angle',\n",
       "       'SulphurDioxide_SO2_column_number_density_15km',\n",
       "       'CarbonMonoxide_CO_column_number_density',\n",
       "       'CarbonMonoxide_H2O_column_number_density',\n",
       "       'CarbonMonoxide_cloud_height',\n",
       "       'CarbonMonoxide_solar_azimuth_angle',\n",
       "       'CarbonMonoxide_solar_zenith_angle',\n",
       "       'NitrogenDioxide_stratospheric_NO2_column_number_density',\n",
       "       'NitrogenDioxide_NO2_slant_column_number_density',\n",
       "       'NitrogenDioxide_absorbing_aerosol_index',\n",
       "       'NitrogenDioxide_cloud_fraction',\n",
       "       'NitrogenDioxide_sensor_altitude',\n",
       "       'NitrogenDioxide_sensor_azimuth_angle',\n",
       "       'NitrogenDioxide_solar_azimuth_angle',\n",
       "       'Formaldehyde_tropospheric_HCHO_column_number_density',\n",
       "       'Formaldehyde_tropospheric_HCHO_column_number_density_amf',\n",
       "       'Formaldehyde_HCHO_slant_column_number_density',\n",
       "       'Formaldehyde_solar_azimuth_angle',\n",
       "       'Formaldehyde_sensor_azimuth_angle',\n",
       "       'UvAerosolIndex_absorbing_aerosol_index',\n",
       "       'UvAerosolIndex_solar_azimuth_angle',\n",
       "       'UvAerosolIndex_solar_zenith_angle',\n",
       "       'Ozone_O3_column_number_density', 'Ozone_O3_effective_temperature',\n",
       "       'Ozone_cloud_fraction', 'Ozone_solar_azimuth_angle',\n",
       "       'Ozone_solar_zenith_angle', 'Cloud_cloud_fraction',\n",
       "       'Cloud_cloud_top_pressure', 'Cloud_cloud_base_pressure',\n",
       "       'Cloud_cloud_optical_depth', 'Cloud_surface_albedo',\n",
       "       'Cloud_sensor_azimuth_angle', 'Cloud_sensor_zenith_angle',\n",
       "       'Cloud_solar_azimuth_angle', 'Cloud_solar_zenith_angle'],\n",
       "      dtype=object)"
      ]
     },
     "execution_count": 36,
     "metadata": {},
     "output_type": "execute_result"
    }
   ],
   "source": [
    "corr_df =  df.corr()\n",
    "\n",
    "selected_features = corr_df[(corr_df[\"emission\"]>0.01)|(corr_df[\"emission\"]<-0.01)].index.values\n",
    "selected_features[:-1]"
   ]
  },
  {
   "cell_type": "code",
   "execution_count": 37,
   "id": "8550c6be",
   "metadata": {
    "execution": {
     "iopub.execute_input": "2023-08-07T08:42:26.741293Z",
     "iopub.status.busy": "2023-08-07T08:42:26.740446Z",
     "iopub.status.idle": "2023-08-07T08:42:26.754639Z",
     "shell.execute_reply": "2023-08-07T08:42:26.753665Z"
    },
    "papermill": {
     "duration": 0.038483,
     "end_time": "2023-08-07T08:42:26.756858",
     "exception": false,
     "start_time": "2023-08-07T08:42:26.718375",
     "status": "completed"
    },
    "tags": []
   },
   "outputs": [],
   "source": [
    "X_train3  = X_train[selected_features[:-1]]\n",
    "X_val3  = X_val[selected_features[:-1]]"
   ]
  },
  {
   "cell_type": "code",
   "execution_count": 38,
   "id": "1cd4528f",
   "metadata": {
    "execution": {
     "iopub.execute_input": "2023-08-07T08:42:26.803249Z",
     "iopub.status.busy": "2023-08-07T08:42:26.801757Z",
     "iopub.status.idle": "2023-08-07T08:45:39.447155Z",
     "shell.execute_reply": "2023-08-07T08:45:39.446219Z"
    },
    "papermill": {
     "duration": 192.690714,
     "end_time": "2023-08-07T08:45:39.470172",
     "exception": false,
     "start_time": "2023-08-07T08:42:26.779458",
     "status": "completed"
    },
    "tags": []
   },
   "outputs": [
    {
     "data": {
      "text/plain": [
       "0.923724527219888"
      ]
     },
     "execution_count": 38,
     "metadata": {},
     "output_type": "execute_result"
    }
   ],
   "source": [
    "# Fit the model to train dataset\n",
    "rf = RandomForestRegressor()\n",
    "rf.fit(X_train3, y_train)\n",
    "\n",
    "# Do the predictions\n",
    "y_pred = rf.predict(X_val3)\n",
    "\n",
    "# Accuracy\n",
    "r2_score(y_val, y_pred)# Do the predictions"
   ]
  },
  {
   "cell_type": "code",
   "execution_count": 39,
   "id": "df1736c4",
   "metadata": {
    "execution": {
     "iopub.execute_input": "2023-08-07T08:45:39.514527Z",
     "iopub.status.busy": "2023-08-07T08:45:39.513628Z",
     "iopub.status.idle": "2023-08-07T08:45:39.521928Z",
     "shell.execute_reply": "2023-08-07T08:45:39.521084Z"
    },
    "papermill": {
     "duration": 0.032615,
     "end_time": "2023-08-07T08:45:39.524030",
     "exception": false,
     "start_time": "2023-08-07T08:45:39.491415",
     "status": "completed"
    },
    "tags": []
   },
   "outputs": [
    {
     "data": {
      "text/plain": [
       "37.84660865515413"
      ]
     },
     "execution_count": 39,
     "metadata": {},
     "output_type": "execute_result"
    }
   ],
   "source": [
    "sqrt(mean_squared_error(y_val, y_pred))"
   ]
  },
  {
   "cell_type": "markdown",
   "id": "9777a7bd",
   "metadata": {
    "papermill": {
     "duration": 0.021042,
     "end_time": "2023-08-07T08:45:39.566369",
     "exception": false,
     "start_time": "2023-08-07T08:45:39.545327",
     "status": "completed"
    },
    "tags": []
   },
   "source": [
    "### Dimensionality Reduction - PCA"
   ]
  },
  {
   "cell_type": "code",
   "execution_count": 40,
   "id": "2599c884",
   "metadata": {
    "execution": {
     "iopub.execute_input": "2023-08-07T08:45:39.610261Z",
     "iopub.status.busy": "2023-08-07T08:45:39.609971Z",
     "iopub.status.idle": "2023-08-07T08:46:45.521190Z",
     "shell.execute_reply": "2023-08-07T08:46:45.520232Z"
    },
    "papermill": {
     "duration": 65.958993,
     "end_time": "2023-08-07T08:46:45.546728",
     "exception": false,
     "start_time": "2023-08-07T08:45:39.587735",
     "status": "completed"
    },
    "tags": []
   },
   "outputs": [
    {
     "data": {
      "text/plain": [
       "-0.007198184279317843"
      ]
     },
     "execution_count": 40,
     "metadata": {},
     "output_type": "execute_result"
    }
   ],
   "source": [
    "pca10 = PCA(n_components=10)\n",
    "\n",
    "# transform the variables\n",
    "X_train4 = pca10.fit_transform(X_train)\n",
    "X_val4 = pca10.transform(X_val)\n",
    "\n",
    "# Fit the model to train dataset\n",
    "rf = RandomForestRegressor()\n",
    "rf.fit(X_train4, y_train)\n",
    "\n",
    "# Do the predictions\n",
    "y_pred = rf.predict(X_val4)\n",
    "\n",
    "# Accuracy\n",
    "r2_score(y_val, y_pred)"
   ]
  },
  {
   "cell_type": "code",
   "execution_count": 41,
   "id": "f3296b96",
   "metadata": {
    "execution": {
     "iopub.execute_input": "2023-08-07T08:46:45.592921Z",
     "iopub.status.busy": "2023-08-07T08:46:45.592609Z",
     "iopub.status.idle": "2023-08-07T08:46:45.599918Z",
     "shell.execute_reply": "2023-08-07T08:46:45.598943Z"
    },
    "papermill": {
     "duration": 0.033369,
     "end_time": "2023-08-07T08:46:45.601874",
     "exception": false,
     "start_time": "2023-08-07T08:46:45.568505",
     "status": "completed"
    },
    "tags": []
   },
   "outputs": [
    {
     "data": {
      "text/plain": [
       "137.52827079991866"
      ]
     },
     "execution_count": 41,
     "metadata": {},
     "output_type": "execute_result"
    }
   ],
   "source": [
    "sqrt(mean_squared_error(y_val, y_pred))"
   ]
  },
  {
   "cell_type": "code",
   "execution_count": 42,
   "id": "fb1f49ab",
   "metadata": {
    "execution": {
     "iopub.execute_input": "2023-08-07T08:46:45.646816Z",
     "iopub.status.busy": "2023-08-07T08:46:45.645976Z",
     "iopub.status.idle": "2023-08-07T08:46:46.044542Z",
     "shell.execute_reply": "2023-08-07T08:46:46.043348Z"
    },
    "papermill": {
     "duration": 0.424243,
     "end_time": "2023-08-07T08:46:46.047999",
     "exception": false,
     "start_time": "2023-08-07T08:46:45.623756",
     "status": "completed"
    },
    "tags": []
   },
   "outputs": [
    {
     "data": {
      "text/plain": [
       "0.007728841685365362"
      ]
     },
     "execution_count": 42,
     "metadata": {},
     "output_type": "execute_result"
    }
   ],
   "source": [
    "pca10 = PCA(n_components=10)\n",
    "\n",
    "# transform the variables\n",
    "X_train4 = pca10.fit_transform(X_train)\n",
    "X_val4 = pca10.transform(X_val)\n",
    "\n",
    "# Fit the model to train dataset\n",
    "lr.fit(X_train4, y_train)\n",
    "\n",
    "# Do the predictions\n",
    "y_pred = lr.predict(X_val4)\n",
    "\n",
    "# Accuracy\n",
    "r2_score(y_val, y_pred)"
   ]
  },
  {
   "cell_type": "code",
   "execution_count": 43,
   "id": "3d0e7327",
   "metadata": {
    "execution": {
     "iopub.execute_input": "2023-08-07T08:46:46.184898Z",
     "iopub.status.busy": "2023-08-07T08:46:46.184569Z",
     "iopub.status.idle": "2023-08-07T08:46:46.190923Z",
     "shell.execute_reply": "2023-08-07T08:46:46.190327Z"
    },
    "papermill": {
     "duration": 0.048618,
     "end_time": "2023-08-07T08:46:46.194722",
     "exception": false,
     "start_time": "2023-08-07T08:46:46.146104",
     "status": "completed"
    },
    "tags": []
   },
   "outputs": [
    {
     "data": {
      "text/plain": [
       "136.50535836837764"
      ]
     },
     "execution_count": 43,
     "metadata": {},
     "output_type": "execute_result"
    }
   ],
   "source": [
    "sqrt(mean_squared_error(y_val, y_pred))"
   ]
  },
  {
   "cell_type": "markdown",
   "id": "b75eec55",
   "metadata": {
    "papermill": {
     "duration": 0.022292,
     "end_time": "2023-08-07T08:46:46.239879",
     "exception": false,
     "start_time": "2023-08-07T08:46:46.217587",
     "status": "completed"
    },
    "tags": []
   },
   "source": [
    "### MultiLayer Perceptron"
   ]
  },
  {
   "cell_type": "code",
   "execution_count": 44,
   "id": "2416903c",
   "metadata": {
    "execution": {
     "iopub.execute_input": "2023-08-07T08:46:46.286085Z",
     "iopub.status.busy": "2023-08-07T08:46:46.285776Z",
     "iopub.status.idle": "2023-08-07T08:46:46.289958Z",
     "shell.execute_reply": "2023-08-07T08:46:46.288999Z"
    },
    "papermill": {
     "duration": 0.029742,
     "end_time": "2023-08-07T08:46:46.292066",
     "exception": false,
     "start_time": "2023-08-07T08:46:46.262324",
     "status": "completed"
    },
    "tags": []
   },
   "outputs": [],
   "source": [
    "# stop here"
   ]
  },
  {
   "cell_type": "code",
   "execution_count": 45,
   "id": "33901347",
   "metadata": {
    "execution": {
     "iopub.execute_input": "2023-08-07T08:46:46.337746Z",
     "iopub.status.busy": "2023-08-07T08:46:46.337470Z",
     "iopub.status.idle": "2023-08-07T08:46:46.341254Z",
     "shell.execute_reply": "2023-08-07T08:46:46.340369Z"
    },
    "papermill": {
     "duration": 0.029013,
     "end_time": "2023-08-07T08:46:46.343206",
     "exception": false,
     "start_time": "2023-08-07T08:46:46.314193",
     "status": "completed"
    },
    "tags": []
   },
   "outputs": [],
   "source": [
    "# Model Creation"
   ]
  },
  {
   "cell_type": "code",
   "execution_count": 46,
   "id": "91518b25",
   "metadata": {
    "execution": {
     "iopub.execute_input": "2023-08-07T08:46:46.391753Z",
     "iopub.status.busy": "2023-08-07T08:46:46.391440Z",
     "iopub.status.idle": "2023-08-07T08:46:46.395684Z",
     "shell.execute_reply": "2023-08-07T08:46:46.394716Z"
    },
    "papermill": {
     "duration": 0.031536,
     "end_time": "2023-08-07T08:46:46.397711",
     "exception": false,
     "start_time": "2023-08-07T08:46:46.366175",
     "status": "completed"
    },
    "tags": []
   },
   "outputs": [],
   "source": [
    "# Fit to train data"
   ]
  },
  {
   "cell_type": "markdown",
   "id": "3c7fb271",
   "metadata": {
    "papermill": {
     "duration": 0.022777,
     "end_time": "2023-08-07T08:46:46.443863",
     "exception": false,
     "start_time": "2023-08-07T08:46:46.421086",
     "status": "completed"
    },
    "tags": []
   },
   "source": [
    "**Evaluate the model**"
   ]
  },
  {
   "cell_type": "code",
   "execution_count": null,
   "id": "6c347acd",
   "metadata": {
    "papermill": {
     "duration": 0.023242,
     "end_time": "2023-08-07T08:46:46.490608",
     "exception": false,
     "start_time": "2023-08-07T08:46:46.467366",
     "status": "completed"
    },
    "tags": []
   },
   "outputs": [],
   "source": []
  },
  {
   "cell_type": "code",
   "execution_count": null,
   "id": "eba037cf",
   "metadata": {
    "papermill": {
     "duration": 0.023082,
     "end_time": "2023-08-07T08:46:46.540908",
     "exception": false,
     "start_time": "2023-08-07T08:46:46.517826",
     "status": "completed"
    },
    "tags": []
   },
   "outputs": [],
   "source": []
  },
  {
   "cell_type": "markdown",
   "id": "b87a25a3",
   "metadata": {
    "papermill": {
     "duration": 0.022967,
     "end_time": "2023-08-07T08:46:46.585613",
     "exception": false,
     "start_time": "2023-08-07T08:46:46.562646",
     "status": "completed"
    },
    "tags": []
   },
   "source": [
    "# Submission"
   ]
  },
  {
   "cell_type": "code",
   "execution_count": 47,
   "id": "1c004bb4",
   "metadata": {
    "execution": {
     "iopub.execute_input": "2023-08-07T08:46:46.630536Z",
     "iopub.status.busy": "2023-08-07T08:46:46.630186Z",
     "iopub.status.idle": "2023-08-07T08:46:46.634237Z",
     "shell.execute_reply": "2023-08-07T08:46:46.633265Z"
    },
    "papermill": {
     "duration": 0.028969,
     "end_time": "2023-08-07T08:46:46.636245",
     "exception": false,
     "start_time": "2023-08-07T08:46:46.607276",
     "status": "completed"
    },
    "tags": []
   },
   "outputs": [],
   "source": [
    "# test_df = test_df[X.columns]\n",
    "# test_df.head()"
   ]
  },
  {
   "cell_type": "code",
   "execution_count": 48,
   "id": "fdce6069",
   "metadata": {
    "execution": {
     "iopub.execute_input": "2023-08-07T08:46:46.681819Z",
     "iopub.status.busy": "2023-08-07T08:46:46.681057Z",
     "iopub.status.idle": "2023-08-07T08:46:46.685361Z",
     "shell.execute_reply": "2023-08-07T08:46:46.684519Z"
    },
    "papermill": {
     "duration": 0.02896,
     "end_time": "2023-08-07T08:46:46.687139",
     "exception": false,
     "start_time": "2023-08-07T08:46:46.658179",
     "status": "completed"
    },
    "tags": []
   },
   "outputs": [],
   "source": [
    "# test_df.isna().sum()"
   ]
  },
  {
   "cell_type": "code",
   "execution_count": 49,
   "id": "0f56cfa7",
   "metadata": {
    "execution": {
     "iopub.execute_input": "2023-08-07T08:46:46.732049Z",
     "iopub.status.busy": "2023-08-07T08:46:46.731283Z",
     "iopub.status.idle": "2023-08-07T08:46:46.735537Z",
     "shell.execute_reply": "2023-08-07T08:46:46.734709Z"
    },
    "papermill": {
     "duration": 0.028586,
     "end_time": "2023-08-07T08:46:46.737441",
     "exception": false,
     "start_time": "2023-08-07T08:46:46.708855",
     "status": "completed"
    },
    "tags": []
   },
   "outputs": [],
   "source": [
    "# for col in test_df.columns:\n",
    "#     var_mean = test_df[col].mean()\n",
    "#     test_df[col].fillna(var_mean, inplace=True)\n",
    "    \n",
    "# test_df.isna().sum().sum()"
   ]
  },
  {
   "cell_type": "code",
   "execution_count": 50,
   "id": "268e98e6",
   "metadata": {
    "execution": {
     "iopub.execute_input": "2023-08-07T08:46:46.782357Z",
     "iopub.status.busy": "2023-08-07T08:46:46.781556Z",
     "iopub.status.idle": "2023-08-07T08:46:46.785873Z",
     "shell.execute_reply": "2023-08-07T08:46:46.785037Z"
    },
    "papermill": {
     "duration": 0.028747,
     "end_time": "2023-08-07T08:46:46.787772",
     "exception": false,
     "start_time": "2023-08-07T08:46:46.759025",
     "status": "completed"
    },
    "tags": []
   },
   "outputs": [],
   "source": [
    "# predictions = rf.predict(test_df)"
   ]
  },
  {
   "cell_type": "code",
   "execution_count": 51,
   "id": "e76a2a8f",
   "metadata": {
    "execution": {
     "iopub.execute_input": "2023-08-07T08:46:46.833345Z",
     "iopub.status.busy": "2023-08-07T08:46:46.832493Z",
     "iopub.status.idle": "2023-08-07T08:46:46.836827Z",
     "shell.execute_reply": "2023-08-07T08:46:46.835996Z"
    },
    "papermill": {
     "duration": 0.029217,
     "end_time": "2023-08-07T08:46:46.838697",
     "exception": false,
     "start_time": "2023-08-07T08:46:46.809480",
     "status": "completed"
    },
    "tags": []
   },
   "outputs": [],
   "source": [
    "# test_data = pd.read_csv(\"/kaggle/input/playground-series-s3e20/test.csv\")"
   ]
  },
  {
   "cell_type": "code",
   "execution_count": 52,
   "id": "28c15b1b",
   "metadata": {
    "execution": {
     "iopub.execute_input": "2023-08-07T08:46:46.883466Z",
     "iopub.status.busy": "2023-08-07T08:46:46.882705Z",
     "iopub.status.idle": "2023-08-07T08:46:46.886848Z",
     "shell.execute_reply": "2023-08-07T08:46:46.886032Z"
    },
    "papermill": {
     "duration": 0.028596,
     "end_time": "2023-08-07T08:46:46.888756",
     "exception": false,
     "start_time": "2023-08-07T08:46:46.860160",
     "status": "completed"
    },
    "tags": []
   },
   "outputs": [],
   "source": [
    "# id_var = test_data['ID_LAT_LON_YEAR_WEEK']\n",
    "# assert len(id_var)==len(predictions)"
   ]
  },
  {
   "cell_type": "code",
   "execution_count": 53,
   "id": "852d988c",
   "metadata": {
    "execution": {
     "iopub.execute_input": "2023-08-07T08:46:46.936591Z",
     "iopub.status.busy": "2023-08-07T08:46:46.935844Z",
     "iopub.status.idle": "2023-08-07T08:46:46.940190Z",
     "shell.execute_reply": "2023-08-07T08:46:46.939357Z"
    },
    "papermill": {
     "duration": 0.030092,
     "end_time": "2023-08-07T08:46:46.942099",
     "exception": false,
     "start_time": "2023-08-07T08:46:46.912007",
     "status": "completed"
    },
    "tags": []
   },
   "outputs": [],
   "source": [
    "# submission_df = pd.DataFrame({\n",
    "#     'ID_LAT_LON_YEAR_WEEK':id_var,\n",
    "#     'emission':predictions\n",
    "# })\n",
    "\n",
    "# submission_df.head()"
   ]
  },
  {
   "cell_type": "code",
   "execution_count": 54,
   "id": "fa06dcef",
   "metadata": {
    "execution": {
     "iopub.execute_input": "2023-08-07T08:46:46.989672Z",
     "iopub.status.busy": "2023-08-07T08:46:46.988833Z",
     "iopub.status.idle": "2023-08-07T08:46:46.993319Z",
     "shell.execute_reply": "2023-08-07T08:46:46.992436Z"
    },
    "papermill": {
     "duration": 0.030292,
     "end_time": "2023-08-07T08:46:46.995180",
     "exception": false,
     "start_time": "2023-08-07T08:46:46.964888",
     "status": "completed"
    },
    "tags": []
   },
   "outputs": [],
   "source": [
    "# submission_df.to_csv('submission.csv', index = False)"
   ]
  },
  {
   "cell_type": "code",
   "execution_count": 55,
   "id": "12ea19f1",
   "metadata": {
    "execution": {
     "iopub.execute_input": "2023-08-07T08:46:47.043014Z",
     "iopub.status.busy": "2023-08-07T08:46:47.042726Z",
     "iopub.status.idle": "2023-08-07T08:46:47.046734Z",
     "shell.execute_reply": "2023-08-07T08:46:47.045798Z"
    },
    "papermill": {
     "duration": 0.029732,
     "end_time": "2023-08-07T08:46:47.048647",
     "exception": false,
     "start_time": "2023-08-07T08:46:47.018915",
     "status": "completed"
    },
    "tags": []
   },
   "outputs": [],
   "source": [
    "# submission_df.to_csv('/kaggle/working/submission.csv', index = False)"
   ]
  }
 ],
 "metadata": {
  "kernelspec": {
   "display_name": "Python 3",
   "language": "python",
   "name": "python3"
  },
  "language_info": {
   "codemirror_mode": {
    "name": "ipython",
    "version": 3
   },
   "file_extension": ".py",
   "mimetype": "text/x-python",
   "name": "python",
   "nbconvert_exporter": "python",
   "pygments_lexer": "ipython3",
   "version": "3.10.12"
  },
  "papermill": {
   "default_parameters": {},
   "duration": 1177.264936,
   "end_time": "2023-08-07T08:46:47.995994",
   "environment_variables": {},
   "exception": null,
   "input_path": "__notebook__.ipynb",
   "output_path": "__notebook__.ipynb",
   "parameters": {},
   "start_time": "2023-08-07T08:27:10.731058",
   "version": "2.4.0"
  }
 },
 "nbformat": 4,
 "nbformat_minor": 5
}
